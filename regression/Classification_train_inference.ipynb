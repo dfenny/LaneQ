{
 "cells": [
  {
   "cell_type": "code",
   "execution_count": null,
   "id": "fa8afae5",
   "metadata": {},
   "outputs": [],
   "source": [
    "# Run once, restart kernel and proceed with the next cell\n",
    "# %pip install --upgrade ipywidgets"
   ]
  },
  {
   "cell_type": "code",
   "execution_count": 1,
   "id": "d80eed7c",
   "metadata": {},
   "outputs": [
    {
     "data": {
      "text/html": [
       "<style>.container { width:98% !important; }</style>"
      ],
      "text/plain": [
       "<IPython.core.display.HTML object>"
      ]
     },
     "metadata": {},
     "output_type": "display_data"
    }
   ],
   "source": [
    "from IPython.display import display, HTML\n",
    "display(HTML(\"<style>.container { width:98% !important; }</style>\"))\n",
    "\n",
    "%load_ext autoreload\n",
    "%autoreload 2\n",
    "\n",
    "import os\n",
    "import numpy as np\n",
    "import pandas as pd\n",
    "import matplotlib.pyplot as plt"
   ]
  },
  {
   "cell_type": "code",
   "execution_count": 2,
   "id": "51e20fa7",
   "metadata": {},
   "outputs": [],
   "source": [
    "import json\n",
    "from pprint import pprint\n",
    "\n",
    "import torch\n",
    "import torch.nn as nn\n",
    "import torch.optim as optim\n",
    "from torchvision import transforms\n",
    "\n",
    "import training\n",
    "from training import load_config, generate_basic_dataloader, generate_sppf_dataloader, get_model, train_loop, cal_regression_metrics, cal_classification_metrics\n",
    "from utils.preprocessing import load_image, apply_img_preprocessing\n",
    "\n",
    "from inference import load_saved_model, pred_degradation_value"
   ]
  },
  {
   "cell_type": "markdown",
   "id": "d61a78ba",
   "metadata": {},
   "source": [
    "# Training"
   ]
  },
  {
   "cell_type": "code",
   "execution_count": 3,
   "id": "a68c5126",
   "metadata": {},
   "outputs": [
    {
     "name": "stdout",
     "output_type": "stream",
     "text": [
      "{'dataset_loc': {'train': {'degradation_values_csv': '../damage_ratio_calc_data/segmented_objects/183_jpg.rf.c3a79aad316f75fe23536c3bbbd6da51_degradation_values.csv',\n",
      "                           'img_dir': '../damage_ratio_calc_data/segmented_objects/183_jpg.rf.c3a79aad316f75fe23536c3bbbd6da51'},\n",
      "                 'val': {'degradation_values_csv': '../damage_ratio_calc_data/segmented_objects/184_jpg.rf.9edad8ca8d25dc9949b48968cca6e41c_degradation_values.csv',\n",
      "                         'img_dir': '../damage_ratio_calc_data/segmented_objects/184_jpg.rf.9edad8ca8d25dc9949b48968cca6e41c'}},\n",
      " 'enable_cuda': True,\n",
      " 'model': {'in_channels': 3, 'out_dim': 3},\n",
      " 'results_loc': 'experiment_results/',\n",
      " 'training': {'batch_size': 1,\n",
      "              'learning_rate': 0.05,\n",
      "              'num_epochs': 2,\n",
      "              'num_workers': 2,\n",
      "              'resume_checkpoint': None,\n",
      "              'save_checkpoint_freq': 1}}\n"
     ]
    }
   ],
   "source": [
    "config_path = \"./configs/cnn.yaml\"\n",
    "config = load_config(config_path)\n",
    "pprint(config,)"
   ]
  },
  {
   "cell_type": "code",
   "execution_count": 4,
   "id": "87409566",
   "metadata": {},
   "outputs": [],
   "source": [
    "# # copy paste config here to edit and experiment\n",
    "# config = {'dataset_loc': {\n",
    "#                 'train': {\n",
    "#                       'degradation_values_csv': '/cs6945share/retro_project/classification_bdd100k/segments/degradation_segment_labels_train.csv',\n",
    "#                       'img_dir': '/cs6945share/retro_project/classification_bdd100k/segments/train/'},\n",
    "#                  'val': {\n",
    "#                      'degradation_values_csv': '/cs6945share/retro_project/classification_bdd100k/segments/degradation_segment_labels_val.csv',\n",
    "#                      'img_dir': '/cs6945share/retro_project/classification_bdd100k/segments/val/'}\n",
    "#                 },\n",
    "#          'enable_cuda': True,\n",
    "#          'model': {'in_channels': 3, 'out_dim': 3},\n",
    "#          'results_loc': 'experiment_results/',\n",
    "#          'training': {'batch_size': 1,\n",
    "#                       'learning_rate': 0.0001,\n",
    "#                       'num_epochs': 10,\n",
    "#                       'num_workers': 2,\n",
    "#                       'resume_checkpoint': None,\n",
    "#                       'save_checkpoint_freq': 10}\n",
    "#          }"
   ]
  },
  {
   "cell_type": "code",
   "execution_count": 5,
   "id": "2cf5a852-cb9b-4ece-b02d-0651f45814d9",
   "metadata": {},
   "outputs": [],
   "source": [
    "# copy paste config here to edit and experiment\n",
    "config = {'dataset_loc': {\n",
    "                'train': {\n",
    "                      'degradation_values_csv': '/cs6945share/retro_project/classification_bdd100k/segments/degradation_segment_labels_train_vtest.csv',\n",
    "                      'img_dir': '/cs6945share/retro_project/classification_bdd100k/segments/train/'},\n",
    "                 'val': {\n",
    "                     'degradation_values_csv': '/cs6945share/retro_project/classification_bdd100k/segments/degradation_segment_labels_val_vtest.csv',\n",
    "                     'img_dir': '/cs6945share/retro_project/classification_bdd100k/segments/train/'}\n",
    "                },\n",
    "         'enable_cuda': True,\n",
    "         'model': {'in_channels': 3, 'out_dim': 3},\n",
    "         'results_loc': 'experiment_results/',\n",
    "         'training': {'batch_size': 1,\n",
    "                      'learning_rate': 0.0001,\n",
    "                      'num_epochs': 80,\n",
    "                      'num_workers': 2,\n",
    "                      'resume_checkpoint': None,\n",
    "                      'save_checkpoint_freq': 10}\n",
    "         }"
   ]
  },
  {
   "cell_type": "code",
   "execution_count": 6,
   "id": "7a2fc5e4",
   "metadata": {},
   "outputs": [],
   "source": [
    "# get required config parameters\n",
    "model_config = config[\"model\"]\n",
    "train_config = config[\"training\"]\n",
    "dataset_config = config[\"dataset_loc\"]"
   ]
  },
  {
   "cell_type": "code",
   "execution_count": 7,
   "id": "37c2b6db",
   "metadata": {},
   "outputs": [
    {
     "name": "stdout",
     "output_type": "stream",
     "text": [
      "Using DEVICE: cuda\n"
     ]
    }
   ],
   "source": [
    "if config[\"enable_cuda\"]:\n",
    "    training.DEVICE = torch.device('cuda' if torch.cuda.is_available() else 'cpu')\n",
    "    print(f\"Using DEVICE: {training.DEVICE}\")"
   ]
  },
  {
   "cell_type": "code",
   "execution_count": 8,
   "id": "804ecbdf",
   "metadata": {},
   "outputs": [
    {
     "name": "stdout",
     "output_type": "stream",
     "text": [
      "Train Dataset loaded. #samples: 950\n",
      "Validation Dataset loaded. #samples: 100\n"
     ]
    }
   ],
   "source": [
    "# update preprocessing config if required\n",
    "# resize_height, resize_width = preprocess_config[\"resize_height\"], preprocess_config[\"resize_height\"]\n",
    "\n",
    "# # in case one wants to try out different transformations\n",
    "# img_transform = transforms.Compose([\n",
    "#     transforms.ToPILImage(),\n",
    "#     transforms.Resize((resize_height, resize_width)),   # ensure resize same is used for mask by setting preprocess_config\n",
    "#     transforms.ToTensor()\n",
    "# ])\n",
    "\n",
    "# generate train data loader\n",
    "train_loader, train_size = generate_sppf_dataloader(image_dir=dataset_config[\"train\"][\"img_dir\"],\n",
    "                                               degradation_values_csv=dataset_config[\"train\"][\"degradation_values_csv\"],\n",
    "                                               batch_size=train_config[\"batch_size\"],\n",
    "                                               num_workers=train_config[\"num_workers\"], transform=None   # send new transform here if required\n",
    "                                        )\n",
    "\n",
    "# generate validation data loader\n",
    "val_loader, val_size = generate_sppf_dataloader(image_dir=dataset_config[\"val\"][\"img_dir\"],\n",
    "                                                degradation_values_csv=dataset_config[\"val\"][\"degradation_values_csv\"],\n",
    "                                                batch_size=train_config[\"batch_size\"],\n",
    "                                                num_workers=train_config[\"num_workers\"], transform=None \n",
    "                                                )\n",
    "\n",
    "print(f\"Train Dataset loaded. #samples: {train_size}\")\n",
    "print(f\"Validation Dataset loaded. #samples: {val_size}\")"
   ]
  },
  {
   "cell_type": "code",
   "execution_count": 9,
   "id": "201bbe70",
   "metadata": {},
   "outputs": [
    {
     "name": "stdout",
     "output_type": "stream",
     "text": [
      "Image batch shape: torch.Size([1, 3, 239, 513])\n",
      "Degradation label shape: torch.Size([1, 3])\n",
      "Degradation target: tensor([1, 0, 0])\n"
     ]
    },
    {
     "data": {
      "image/png": "[encoded data removed]",
      "text/plain": [
       "<Figure size 1080x360 with 1 Axes>"
      ]
     },
     "metadata": {
      "needs_background": "light"
     },
     "output_type": "display_data"
    }
   ],
   "source": [
    "# Ensure that we are getting correct data from data loaders\n",
    "batch_img, degradation_values = next(iter(train_loader))\n",
    "\n",
    "print(\"Image batch shape:\", batch_img.shape) \n",
    "print(\"Degradation label shape:\", degradation_values.shape) \n",
    "\n",
    "sample_img = batch_img[0].numpy()   # (c, h, w)\n",
    "sample_img = sample_img.transpose(1, 2, 0)\n",
    "\n",
    "# sample_mask = batch_mask[0].numpy()   # (c, h, w)\n",
    "# sample_mask = np.squeeze(sample_mask) # (h, w)\n",
    "\n",
    "fig, ax = plt.subplots(figsize=(15, 5))\n",
    "ax.imshow(sample_img)\n",
    "ax.set_title(\"input image\")\n",
    "\n",
    "print(\"Degradation target:\", degradation_values[0])"
   ]
  },
  {
   "cell_type": "code",
   "execution_count": 10,
   "id": "8e5d932a",
   "metadata": {},
   "outputs": [],
   "source": [
    "# Initializing the model, loss function, and the optimizer\n",
    "model_name = \"cnn_sppf\"\n",
    "model = get_model(model_name, in_channels=model_config['in_channels'], out_dim=model_config['out_dim'])\n",
    "model = model.to(training.DEVICE)\n",
    "\n",
    "# criterion = nn.MSELoss() # Loss for regression\n",
    "class_weights = torch.tensor([2.0, 3.33, 5.0]).to(training.DEVICE)  # Weights for class 0, 1, and 2\n",
    "criterion = nn.CrossEntropyLoss(weight=class_weights) # Loss for classification multi-class classification\n",
    "optimizer = optim.Adam(model.parameters(), lr=train_config[\"learning_rate\"], weight_decay=1e-7)\n",
    "\n",
    "checkpoint_path = train_config[\"resume_checkpoint\"]\n",
    "if checkpoint_path is not None:\n",
    "    model.load_state_dict((torch.load(checkpoint_path, weights_only=True)))"
   ]
  },
  {
   "cell_type": "code",
   "execution_count": 11,
   "id": "795ff510",
   "metadata": {},
   "outputs": [],
   "source": [
    "# from torchinfo import summary\n",
    "# summary(model, input_size=(1, 3, 10, 10))"
   ]
  },
  {
   "cell_type": "code",
   "execution_count": 12,
   "id": "9d2965e2",
   "metadata": {},
   "outputs": [
    {
     "name": "stdout",
     "output_type": "stream",
     "text": [
      "Training Started...\n"
     ]
    },
    {
     "data": {
      "application/vnd.jupyter.widget-view+json": {
       "model_id": "c6d39f61596d4674a1239ac0e1b4486d",
       "version_major": 2,
       "version_minor": 0
      },
      "text/plain": [
       "epoch: 0:   0%|          | 0/950 [00:00<?, ?it/s]"
      ]
     },
     "metadata": {},
     "output_type": "display_data"
    },
    {
     "data": {
      "application/vnd.jupyter.widget-view+json": {
       "model_id": "5585b847fe3f43bcb2c2bbd4fb683dff",
       "version_major": 2,
       "version_minor": 0
      },
      "text/plain": [
       "epoch: 0:   0%|          | 0/100 [00:00<?, ?it/s]"
      ]
     },
     "metadata": {},
     "output_type": "display_data"
    },
    {
     "name": "stdout",
     "output_type": "stream",
     "text": [
      "Epoch [1/80], Train Loss: 3.1961, Val Loss: 3.1997, Epoch execution time: 20.63 sec\n"
     ]
    },
    {
     "data": {
      "application/vnd.jupyter.widget-view+json": {
       "model_id": "e9bd458bd44442cfa946b97ede0f52c4",
       "version_major": 2,
       "version_minor": 0
      },
      "text/plain": [
       "epoch: 1:   0%|          | 0/950 [00:00<?, ?it/s]"
      ]
     },
     "metadata": {},
     "output_type": "display_data"
    },
    {
     "data": {
      "application/vnd.jupyter.widget-view+json": {
       "model_id": "e88fed4830bf41a1a11b53624dd79ed4",
       "version_major": 2,
       "version_minor": 0
      },
      "text/plain": [
       "epoch: 1:   0%|          | 0/100 [00:00<?, ?it/s]"
      ]
     },
     "metadata": {},
     "output_type": "display_data"
    },
    {
     "name": "stdout",
     "output_type": "stream",
     "text": [
      "Epoch [2/80], Train Loss: 3.1386, Val Loss: 3.1121, Epoch execution time: 7.96 sec\n"
     ]
    },
    {
     "data": {
      "application/vnd.jupyter.widget-view+json": {
       "model_id": "bb9140e0537748eeb17aec17e05a9585",
       "version_major": 2,
       "version_minor": 0
      },
      "text/plain": [
       "epoch: 2:   0%|          | 0/950 [00:00<?, ?it/s]"
      ]
     },
     "metadata": {},
     "output_type": "display_data"
    },
    {
     "data": {
      "application/vnd.jupyter.widget-view+json": {
       "model_id": "4479a2064dc141d28212b97a02e01673",
       "version_major": 2,
       "version_minor": 0
      },
      "text/plain": [
       "epoch: 2:   0%|          | 0/100 [00:00<?, ?it/s]"
      ]
     },
     "metadata": {},
     "output_type": "display_data"
    },
    {
     "name": "stdout",
     "output_type": "stream",
     "text": [
      "Epoch [3/80], Train Loss: 3.0402, Val Loss: 3.0584, Epoch execution time: 8.34 sec\n"
     ]
    },
    {
     "data": {
      "application/vnd.jupyter.widget-view+json": {
       "model_id": "d4aa6f12ad094d328e4915e62bdc28c3",
       "version_major": 2,
       "version_minor": 0
      },
      "text/plain": [
       "epoch: 3:   0%|          | 0/950 [00:00<?, ?it/s]"
      ]
     },
     "metadata": {},
     "output_type": "display_data"
    },
    {
     "data": {
      "application/vnd.jupyter.widget-view+json": {
       "model_id": "4f351b0a611c4fdabaa80ec4c7e4685f",
       "version_major": 2,
       "version_minor": 0
      },
      "text/plain": [
       "epoch: 3:   0%|          | 0/100 [00:00<?, ?it/s]"
      ]
     },
     "metadata": {},
     "output_type": "display_data"
    },
    {
     "name": "stdout",
     "output_type": "stream",
     "text": [
      "Epoch [4/80], Train Loss: 2.9216, Val Loss: 2.8913, Epoch execution time: 8.56 sec\n"
     ]
    },
    {
     "data": {
      "application/vnd.jupyter.widget-view+json": {
       "model_id": "e227a79495dc41afa6860fe55db06ef3",
       "version_major": 2,
       "version_minor": 0
      },
      "text/plain": [
       "epoch: 4:   0%|          | 0/950 [00:00<?, ?it/s]"
      ]
     },
     "metadata": {},
     "output_type": "display_data"
    },
    {
     "data": {
      "application/vnd.jupyter.widget-view+json": {
       "model_id": "c3ae418c76774631b35204aa84c19643",
       "version_major": 2,
       "version_minor": 0
      },
      "text/plain": [
       "epoch: 4:   0%|          | 0/100 [00:00<?, ?it/s]"
      ]
     },
     "metadata": {},
     "output_type": "display_data"
    },
    {
     "name": "stdout",
     "output_type": "stream",
     "text": [
      "Epoch [5/80], Train Loss: 2.7943, Val Loss: 2.8545, Epoch execution time: 7.75 sec\n"
     ]
    },
    {
     "data": {
      "application/vnd.jupyter.widget-view+json": {
       "model_id": "f66445855da644b192cc01e0e166ec87",
       "version_major": 2,
       "version_minor": 0
      },
      "text/plain": [
       "epoch: 5:   0%|          | 0/950 [00:00<?, ?it/s]"
      ]
     },
     "metadata": {},
     "output_type": "display_data"
    },
    {
     "data": {
      "application/vnd.jupyter.widget-view+json": {
       "model_id": "fd486bb75fb94eccb15d4ad607de43ee",
       "version_major": 2,
       "version_minor": 0
      },
      "text/plain": [
       "epoch: 5:   0%|          | 0/100 [00:00<?, ?it/s]"
      ]
     },
     "metadata": {},
     "output_type": "display_data"
    },
    {
     "name": "stdout",
     "output_type": "stream",
     "text": [
      "Epoch [6/80], Train Loss: 2.7244, Val Loss: 2.7152, Epoch execution time: 9.03 sec\n"
     ]
    },
    {
     "data": {
      "application/vnd.jupyter.widget-view+json": {
       "model_id": "02dacb26f5dd4d23a82c23cda5156d3c",
       "version_major": 2,
       "version_minor": 0
      },
      "text/plain": [
       "epoch: 6:   0%|          | 0/950 [00:00<?, ?it/s]"
      ]
     },
     "metadata": {},
     "output_type": "display_data"
    },
    {
     "data": {
      "application/vnd.jupyter.widget-view+json": {
       "model_id": "2d446f96ea494ffea854be884bb3ce6d",
       "version_major": 2,
       "version_minor": 0
      },
      "text/plain": [
       "epoch: 6:   0%|          | 0/100 [00:00<?, ?it/s]"
      ]
     },
     "metadata": {},
     "output_type": "display_data"
    },
    {
     "name": "stdout",
     "output_type": "stream",
     "text": [
      "Epoch [7/80], Train Loss: 2.6407, Val Loss: 2.6620, Epoch execution time: 6.54 sec\n"
     ]
    },
    {
     "data": {
      "application/vnd.jupyter.widget-view+json": {
       "model_id": "daf11734ad0340e18f173aebb640dfd9",
       "version_major": 2,
       "version_minor": 0
      },
      "text/plain": [
       "epoch: 7:   0%|          | 0/950 [00:00<?, ?it/s]"
      ]
     },
     "metadata": {},
     "output_type": "display_data"
    },
    {
     "data": {
      "application/vnd.jupyter.widget-view+json": {
       "model_id": "aeabe5f67e584d2ba02cb23c155561f8",
       "version_major": 2,
       "version_minor": 0
      },
      "text/plain": [
       "epoch: 7:   0%|          | 0/100 [00:00<?, ?it/s]"
      ]
     },
     "metadata": {},
     "output_type": "display_data"
    },
    {
     "name": "stdout",
     "output_type": "stream",
     "text": [
      "Epoch [8/80], Train Loss: 2.5940, Val Loss: 2.6594, Epoch execution time: 7.57 sec\n"
     ]
    },
    {
     "data": {
      "application/vnd.jupyter.widget-view+json": {
       "model_id": "15faecb446ae4a6aae0e19c84831bc63",
       "version_major": 2,
       "version_minor": 0
      },
      "text/plain": [
       "epoch: 8:   0%|          | 0/950 [00:00<?, ?it/s]"
      ]
     },
     "metadata": {},
     "output_type": "display_data"
    },
    {
     "data": {
      "application/vnd.jupyter.widget-view+json": {
       "model_id": "6d6d6c851a4a4b6b9d0f9f8f7073a0ff",
       "version_major": 2,
       "version_minor": 0
      },
      "text/plain": [
       "epoch: 8:   0%|          | 0/100 [00:00<?, ?it/s]"
      ]
     },
     "metadata": {},
     "output_type": "display_data"
    },
    {
     "name": "stdout",
     "output_type": "stream",
     "text": [
      "Epoch [9/80], Train Loss: 2.6006, Val Loss: 2.6080, Epoch execution time: 8.29 sec\n"
     ]
    },
    {
     "data": {
      "application/vnd.jupyter.widget-view+json": {
       "model_id": "3e3729bf685a4912b2145fb4196aa220",
       "version_major": 2,
       "version_minor": 0
      },
      "text/plain": [
       "epoch: 9:   0%|          | 0/950 [00:00<?, ?it/s]"
      ]
     },
     "metadata": {},
     "output_type": "display_data"
    },
    {
     "data": {
      "application/vnd.jupyter.widget-view+json": {
       "model_id": "9d06869a92574d70835129b03959cf07",
       "version_major": 2,
       "version_minor": 0
      },
      "text/plain": [
       "epoch: 9:   0%|          | 0/100 [00:00<?, ?it/s]"
      ]
     },
     "metadata": {},
     "output_type": "display_data"
    },
    {
     "name": "stdout",
     "output_type": "stream",
     "text": [
      "Epoch [10/80], Train Loss: 2.5775, Val Loss: 2.5300, Epoch execution time: 7.98 sec\n"
     ]
    },
    {
     "data": {
      "application/vnd.jupyter.widget-view+json": {
       "model_id": "50b74e246448411c8a07404e27f0e036",
       "version_major": 2,
       "version_minor": 0
      },
      "text/plain": [
       "epoch: 10:   0%|          | 0/950 [00:00<?, ?it/s]"
      ]
     },
     "metadata": {},
     "output_type": "display_data"
    },
    {
     "data": {
      "application/vnd.jupyter.widget-view+json": {
       "model_id": "ccbd0a9e39d64a278ddc14bbe67eb9b9",
       "version_major": 2,
       "version_minor": 0
      },
      "text/plain": [
       "epoch: 10:   0%|          | 0/100 [00:00<?, ?it/s]"
      ]
     },
     "metadata": {},
     "output_type": "display_data"
    },
    {
     "name": "stdout",
     "output_type": "stream",
     "text": [
      "Epoch [11/80], Train Loss: 2.5398, Val Loss: 2.5584, Epoch execution time: 7.59 sec\n"
     ]
    },
    {
     "data": {
      "application/vnd.jupyter.widget-view+json": {
       "model_id": "e4e1ef444e3848dfad560ef5c0b606ed",
       "version_major": 2,
       "version_minor": 0
      },
      "text/plain": [
       "epoch: 11:   0%|          | 0/950 [00:00<?, ?it/s]"
      ]
     },
     "metadata": {},
     "output_type": "display_data"
    },
    {
     "data": {
      "application/vnd.jupyter.widget-view+json": {
       "model_id": "5e918a3c292243fa94af6530476fd96e",
       "version_major": 2,
       "version_minor": 0
      },
      "text/plain": [
       "epoch: 11:   0%|          | 0/100 [00:00<?, ?it/s]"
      ]
     },
     "metadata": {},
     "output_type": "display_data"
    },
    {
     "name": "stdout",
     "output_type": "stream",
     "text": [
      "Epoch [12/80], Train Loss: 2.5520, Val Loss: 2.4669, Epoch execution time: 8.25 sec\n"
     ]
    },
    {
     "data": {
      "application/vnd.jupyter.widget-view+json": {
       "model_id": "86227067453743c4be40254e01af0501",
       "version_major": 2,
       "version_minor": 0
      },
      "text/plain": [
       "epoch: 12:   0%|          | 0/950 [00:00<?, ?it/s]"
      ]
     },
     "metadata": {},
     "output_type": "display_data"
    },
    {
     "data": {
      "application/vnd.jupyter.widget-view+json": {
       "model_id": "81d9e04e5f3e4b6b91b18fda7d67896b",
       "version_major": 2,
       "version_minor": 0
      },
      "text/plain": [
       "epoch: 12:   0%|          | 0/100 [00:00<?, ?it/s]"
      ]
     },
     "metadata": {},
     "output_type": "display_data"
    },
    {
     "name": "stdout",
     "output_type": "stream",
     "text": [
      "Epoch [13/80], Train Loss: 2.5326, Val Loss: 2.4657, Epoch execution time: 7.87 sec\n"
     ]
    },
    {
     "data": {
      "application/vnd.jupyter.widget-view+json": {
       "model_id": "f5d63582663d4a27aea9d686c4b8d137",
       "version_major": 2,
       "version_minor": 0
      },
      "text/plain": [
       "epoch: 13:   0%|          | 0/950 [00:00<?, ?it/s]"
      ]
     },
     "metadata": {},
     "output_type": "display_data"
    },
    {
     "data": {
      "application/vnd.jupyter.widget-view+json": {
       "model_id": "f7ea9c60f6c24232be4792fd991c7a50",
       "version_major": 2,
       "version_minor": 0
      },
      "text/plain": [
       "epoch: 13:   0%|          | 0/100 [00:00<?, ?it/s]"
      ]
     },
     "metadata": {},
     "output_type": "display_data"
    },
    {
     "name": "stdout",
     "output_type": "stream",
     "text": [
      "Epoch [14/80], Train Loss: 2.5160, Val Loss: 2.5156, Epoch execution time: 6.99 sec\n"
     ]
    },
    {
     "data": {
      "application/vnd.jupyter.widget-view+json": {
       "model_id": "4ceff922f7f24c22b1cbb2b25c788b38",
       "version_major": 2,
       "version_minor": 0
      },
      "text/plain": [
       "epoch: 14:   0%|          | 0/950 [00:00<?, ?it/s]"
      ]
     },
     "metadata": {},
     "output_type": "display_data"
    },
    {
     "data": {
      "application/vnd.jupyter.widget-view+json": {
       "model_id": "205e126b3dee4012b587876e1d1b8f83",
       "version_major": 2,
       "version_minor": 0
      },
      "text/plain": [
       "epoch: 14:   0%|          | 0/100 [00:00<?, ?it/s]"
      ]
     },
     "metadata": {},
     "output_type": "display_data"
    },
    {
     "name": "stdout",
     "output_type": "stream",
     "text": [
      "Epoch [15/80], Train Loss: 2.5211, Val Loss: 2.6055, Epoch execution time: 7.39 sec\n"
     ]
    },
    {
     "data": {
      "application/vnd.jupyter.widget-view+json": {
       "model_id": "a849effb2b8f4201a11a7dc931ffbf39",
       "version_major": 2,
       "version_minor": 0
      },
      "text/plain": [
       "epoch: 15:   0%|          | 0/950 [00:00<?, ?it/s]"
      ]
     },
     "metadata": {},
     "output_type": "display_data"
    },
    {
     "data": {
      "application/vnd.jupyter.widget-view+json": {
       "model_id": "c7f57c8d04f24925b831cadc62bb1c2c",
       "version_major": 2,
       "version_minor": 0
      },
      "text/plain": [
       "epoch: 15:   0%|          | 0/100 [00:00<?, ?it/s]"
      ]
     },
     "metadata": {},
     "output_type": "display_data"
    },
    {
     "name": "stdout",
     "output_type": "stream",
     "text": [
      "Epoch [16/80], Train Loss: 2.4988, Val Loss: 2.5771, Epoch execution time: 7.7 sec\n"
     ]
    },
    {
     "data": {
      "application/vnd.jupyter.widget-view+json": {
       "model_id": "8656a4f7f4d24d718826e12df4c88c09",
       "version_major": 2,
       "version_minor": 0
      },
      "text/plain": [
       "epoch: 16:   0%|          | 0/950 [00:00<?, ?it/s]"
      ]
     },
     "metadata": {},
     "output_type": "display_data"
    },
    {
     "data": {
      "application/vnd.jupyter.widget-view+json": {
       "model_id": "fa2f18c6adae4e329c88bedff604d6ae",
       "version_major": 2,
       "version_minor": 0
      },
      "text/plain": [
       "epoch: 16:   0%|          | 0/100 [00:00<?, ?it/s]"
      ]
     },
     "metadata": {},
     "output_type": "display_data"
    },
    {
     "name": "stdout",
     "output_type": "stream",
     "text": [
      "Epoch [17/80], Train Loss: 2.4765, Val Loss: 2.4503, Epoch execution time: 8.11 sec\n"
     ]
    },
    {
     "data": {
      "application/vnd.jupyter.widget-view+json": {
       "model_id": "f406bd9448a543368d70328306f6b6d4",
       "version_major": 2,
       "version_minor": 0
      },
      "text/plain": [
       "epoch: 17:   0%|          | 0/950 [00:00<?, ?it/s]"
      ]
     },
     "metadata": {},
     "output_type": "display_data"
    },
    {
     "data": {
      "application/vnd.jupyter.widget-view+json": {
       "model_id": "05278b21cb2a4062b33673b73b72081f",
       "version_major": 2,
       "version_minor": 0
      },
      "text/plain": [
       "epoch: 17:   0%|          | 0/100 [00:00<?, ?it/s]"
      ]
     },
     "metadata": {},
     "output_type": "display_data"
    },
    {
     "name": "stdout",
     "output_type": "stream",
     "text": [
      "Epoch [18/80], Train Loss: 2.4580, Val Loss: 2.4851, Epoch execution time: 7.63 sec\n"
     ]
    },
    {
     "data": {
      "application/vnd.jupyter.widget-view+json": {
       "model_id": "8df975766a0d4113a99afbca80c72958",
       "version_major": 2,
       "version_minor": 0
      },
      "text/plain": [
       "epoch: 18:   0%|          | 0/950 [00:00<?, ?it/s]"
      ]
     },
     "metadata": {},
     "output_type": "display_data"
    },
    {
     "data": {
      "application/vnd.jupyter.widget-view+json": {
       "model_id": "7195c69f6f8c40b084fc73ebd0b94011",
       "version_major": 2,
       "version_minor": 0
      },
      "text/plain": [
       "epoch: 18:   0%|          | 0/100 [00:00<?, ?it/s]"
      ]
     },
     "metadata": {},
     "output_type": "display_data"
    },
    {
     "name": "stdout",
     "output_type": "stream",
     "text": [
      "Epoch [19/80], Train Loss: 2.4556, Val Loss: 2.5551, Epoch execution time: 7.59 sec\n"
     ]
    },
    {
     "data": {
      "application/vnd.jupyter.widget-view+json": {
       "model_id": "52cf2db49e7740a5af06127a189a49a2",
       "version_major": 2,
       "version_minor": 0
      },
      "text/plain": [
       "epoch: 19:   0%|          | 0/950 [00:00<?, ?it/s]"
      ]
     },
     "metadata": {},
     "output_type": "display_data"
    },
    {
     "data": {
      "application/vnd.jupyter.widget-view+json": {
       "model_id": "1a39bcc34a8b4b8ea0ffff5cabfaf445",
       "version_major": 2,
       "version_minor": 0
      },
      "text/plain": [
       "epoch: 19:   0%|          | 0/100 [00:00<?, ?it/s]"
      ]
     },
     "metadata": {},
     "output_type": "display_data"
    },
    {
     "name": "stdout",
     "output_type": "stream",
     "text": [
      "Epoch [20/80], Train Loss: 2.4553, Val Loss: 2.6727, Epoch execution time: 8.31 sec\n"
     ]
    },
    {
     "data": {
      "application/vnd.jupyter.widget-view+json": {
       "model_id": "2bb6d3b6785142da96fd7b4557999f61",
       "version_major": 2,
       "version_minor": 0
      },
      "text/plain": [
       "epoch: 20:   0%|          | 0/950 [00:00<?, ?it/s]"
      ]
     },
     "metadata": {},
     "output_type": "display_data"
    },
    {
     "data": {
      "application/vnd.jupyter.widget-view+json": {
       "model_id": "7bd1739aa1ba4364b41a70aca45b28ee",
       "version_major": 2,
       "version_minor": 0
      },
      "text/plain": [
       "epoch: 20:   0%|          | 0/100 [00:00<?, ?it/s]"
      ]
     },
     "metadata": {},
     "output_type": "display_data"
    },
    {
     "name": "stdout",
     "output_type": "stream",
     "text": [
      "Epoch [21/80], Train Loss: 2.4462, Val Loss: 2.8659, Epoch execution time: 6.95 sec\n"
     ]
    },
    {
     "data": {
      "application/vnd.jupyter.widget-view+json": {
       "model_id": "aab8646582c546a89c7ed73784fa77c9",
       "version_major": 2,
       "version_minor": 0
      },
      "text/plain": [
       "epoch: 21:   0%|          | 0/950 [00:00<?, ?it/s]"
      ]
     },
     "metadata": {},
     "output_type": "display_data"
    },
    {
     "data": {
      "application/vnd.jupyter.widget-view+json": {
       "model_id": "fcdde66436584be7aff01c2163a93f83",
       "version_major": 2,
       "version_minor": 0
      },
      "text/plain": [
       "epoch: 21:   0%|          | 0/100 [00:00<?, ?it/s]"
      ]
     },
     "metadata": {},
     "output_type": "display_data"
    },
    {
     "name": "stdout",
     "output_type": "stream",
     "text": [
      "Epoch [22/80], Train Loss: 2.4489, Val Loss: 2.6078, Epoch execution time: 7.86 sec\n"
     ]
    },
    {
     "data": {
      "application/vnd.jupyter.widget-view+json": {
       "model_id": "7911748ca9cf40db913f1438bec8bb00",
       "version_major": 2,
       "version_minor": 0
      },
      "text/plain": [
       "epoch: 22:   0%|          | 0/950 [00:00<?, ?it/s]"
      ]
     },
     "metadata": {},
     "output_type": "display_data"
    },
    {
     "data": {
      "application/vnd.jupyter.widget-view+json": {
       "model_id": "e0bbbe59a7754b4aa4ecd01808e3174a",
       "version_major": 2,
       "version_minor": 0
      },
      "text/plain": [
       "epoch: 22:   0%|          | 0/100 [00:00<?, ?it/s]"
      ]
     },
     "metadata": {},
     "output_type": "display_data"
    },
    {
     "name": "stdout",
     "output_type": "stream",
     "text": [
      "Epoch [23/80], Train Loss: 2.4365, Val Loss: 2.5576, Epoch execution time: 7.57 sec\n"
     ]
    },
    {
     "data": {
      "application/vnd.jupyter.widget-view+json": {
       "model_id": "f156d69c4747403396d689da67b8e546",
       "version_major": 2,
       "version_minor": 0
      },
      "text/plain": [
       "epoch: 23:   0%|          | 0/950 [00:00<?, ?it/s]"
      ]
     },
     "metadata": {},
     "output_type": "display_data"
    },
    {
     "data": {
      "application/vnd.jupyter.widget-view+json": {
       "model_id": "bae73fc8bc8e4994a8af874f13f25fd8",
       "version_major": 2,
       "version_minor": 0
      },
      "text/plain": [
       "epoch: 23:   0%|          | 0/100 [00:00<?, ?it/s]"
      ]
     },
     "metadata": {},
     "output_type": "display_data"
    },
    {
     "name": "stdout",
     "output_type": "stream",
     "text": [
      "Epoch [24/80], Train Loss: 2.4146, Val Loss: 2.4692, Epoch execution time: 7.83 sec\n"
     ]
    },
    {
     "data": {
      "application/vnd.jupyter.widget-view+json": {
       "model_id": "12bd4b0620014b5d8794b52efa14d009",
       "version_major": 2,
       "version_minor": 0
      },
      "text/plain": [
       "epoch: 24:   0%|          | 0/950 [00:00<?, ?it/s]"
      ]
     },
     "metadata": {},
     "output_type": "display_data"
    },
    {
     "data": {
      "application/vnd.jupyter.widget-view+json": {
       "model_id": "174f3e76a3414e38985f176e52a0295b",
       "version_major": 2,
       "version_minor": 0
      },
      "text/plain": [
       "epoch: 24:   0%|          | 0/100 [00:00<?, ?it/s]"
      ]
     },
     "metadata": {},
     "output_type": "display_data"
    },
    {
     "name": "stdout",
     "output_type": "stream",
     "text": [
      "Epoch [25/80], Train Loss: 2.4457, Val Loss: 2.4894, Epoch execution time: 7.52 sec\n"
     ]
    },
    {
     "data": {
      "application/vnd.jupyter.widget-view+json": {
       "model_id": "7e1bbf9e3c4c43ea96e474cce635bb99",
       "version_major": 2,
       "version_minor": 0
      },
      "text/plain": [
       "epoch: 25:   0%|          | 0/950 [00:00<?, ?it/s]"
      ]
     },
     "metadata": {},
     "output_type": "display_data"
    },
    {
     "data": {
      "application/vnd.jupyter.widget-view+json": {
       "model_id": "f2b26e162b0a4841b446171797842743",
       "version_major": 2,
       "version_minor": 0
      },
      "text/plain": [
       "epoch: 25:   0%|          | 0/100 [00:00<?, ?it/s]"
      ]
     },
     "metadata": {},
     "output_type": "display_data"
    },
    {
     "name": "stdout",
     "output_type": "stream",
     "text": [
      "Epoch [26/80], Train Loss: 2.3884, Val Loss: 2.4399, Epoch execution time: 8.55 sec\n"
     ]
    },
    {
     "data": {
      "application/vnd.jupyter.widget-view+json": {
       "model_id": "a8605115de144ecba3f0249d1810b4dc",
       "version_major": 2,
       "version_minor": 0
      },
      "text/plain": [
       "epoch: 26:   0%|          | 0/950 [00:00<?, ?it/s]"
      ]
     },
     "metadata": {},
     "output_type": "display_data"
    },
    {
     "data": {
      "application/vnd.jupyter.widget-view+json": {
       "model_id": "3a73329daa974599b8552afd91935060",
       "version_major": 2,
       "version_minor": 0
      },
      "text/plain": [
       "epoch: 26:   0%|          | 0/100 [00:00<?, ?it/s]"
      ]
     },
     "metadata": {},
     "output_type": "display_data"
    },
    {
     "name": "stdout",
     "output_type": "stream",
     "text": [
      "Epoch [27/80], Train Loss: 2.3974, Val Loss: 2.4115, Epoch execution time: 8.53 sec\n"
     ]
    },
    {
     "data": {
      "application/vnd.jupyter.widget-view+json": {
       "model_id": "fb951c565d394e15a6991237618531f5",
       "version_major": 2,
       "version_minor": 0
      },
      "text/plain": [
       "epoch: 27:   0%|          | 0/950 [00:00<?, ?it/s]"
      ]
     },
     "metadata": {},
     "output_type": "display_data"
    },
    {
     "data": {
      "application/vnd.jupyter.widget-view+json": {
       "model_id": "1134482cb85041c3bbd42eb9e5fd1f74",
       "version_major": 2,
       "version_minor": 0
      },
      "text/plain": [
       "epoch: 27:   0%|          | 0/100 [00:00<?, ?it/s]"
      ]
     },
     "metadata": {},
     "output_type": "display_data"
    },
    {
     "name": "stdout",
     "output_type": "stream",
     "text": [
      "Epoch [28/80], Train Loss: 2.4063, Val Loss: 2.5201, Epoch execution time: 6.65 sec\n"
     ]
    },
    {
     "data": {
      "application/vnd.jupyter.widget-view+json": {
       "model_id": "fe0a140f8ecf46608370f2e65cf467c8",
       "version_major": 2,
       "version_minor": 0
      },
      "text/plain": [
       "epoch: 28:   0%|          | 0/950 [00:00<?, ?it/s]"
      ]
     },
     "metadata": {},
     "output_type": "display_data"
    },
    {
     "data": {
      "application/vnd.jupyter.widget-view+json": {
       "model_id": "11398209e24e41c386f0d1b90b9546b6",
       "version_major": 2,
       "version_minor": 0
      },
      "text/plain": [
       "epoch: 28:   0%|          | 0/100 [00:00<?, ?it/s]"
      ]
     },
     "metadata": {},
     "output_type": "display_data"
    },
    {
     "name": "stdout",
     "output_type": "stream",
     "text": [
      "Epoch [29/80], Train Loss: 2.3630, Val Loss: 2.5461, Epoch execution time: 7.05 sec\n"
     ]
    },
    {
     "data": {
      "application/vnd.jupyter.widget-view+json": {
       "model_id": "ebdd097264b44a9d938e1fee22d3f158",
       "version_major": 2,
       "version_minor": 0
      },
      "text/plain": [
       "epoch: 29:   0%|          | 0/950 [00:00<?, ?it/s]"
      ]
     },
     "metadata": {},
     "output_type": "display_data"
    },
    {
     "data": {
      "application/vnd.jupyter.widget-view+json": {
       "model_id": "4e2f716d8efc4309b6eed1e88b6865d2",
       "version_major": 2,
       "version_minor": 0
      },
      "text/plain": [
       "epoch: 29:   0%|          | 0/100 [00:00<?, ?it/s]"
      ]
     },
     "metadata": {},
     "output_type": "display_data"
    },
    {
     "name": "stdout",
     "output_type": "stream",
     "text": [
      "Epoch [30/80], Train Loss: 2.3798, Val Loss: 2.4040, Epoch execution time: 8.92 sec\n"
     ]
    },
    {
     "data": {
      "application/vnd.jupyter.widget-view+json": {
       "model_id": "8f66af9123f043f888cbf76fb3df0d8b",
       "version_major": 2,
       "version_minor": 0
      },
      "text/plain": [
       "epoch: 30:   0%|          | 0/950 [00:00<?, ?it/s]"
      ]
     },
     "metadata": {},
     "output_type": "display_data"
    },
    {
     "data": {
      "application/vnd.jupyter.widget-view+json": {
       "model_id": "cad5e3fe12c8430cb51873f493ba3e55",
       "version_major": 2,
       "version_minor": 0
      },
      "text/plain": [
       "epoch: 30:   0%|          | 0/100 [00:00<?, ?it/s]"
      ]
     },
     "metadata": {},
     "output_type": "display_data"
    },
    {
     "name": "stdout",
     "output_type": "stream",
     "text": [
      "Epoch [31/80], Train Loss: 2.3580, Val Loss: 2.5480, Epoch execution time: 7.96 sec\n"
     ]
    },
    {
     "data": {
      "application/vnd.jupyter.widget-view+json": {
       "model_id": "a3a4a49d55e74941b2018fc8238f96e7",
       "version_major": 2,
       "version_minor": 0
      },
      "text/plain": [
       "epoch: 31:   0%|          | 0/950 [00:00<?, ?it/s]"
      ]
     },
     "metadata": {},
     "output_type": "display_data"
    },
    {
     "data": {
      "application/vnd.jupyter.widget-view+json": {
       "model_id": "537e65a853d04daabb1df9b183634886",
       "version_major": 2,
       "version_minor": 0
      },
      "text/plain": [
       "epoch: 31:   0%|          | 0/100 [00:00<?, ?it/s]"
      ]
     },
     "metadata": {},
     "output_type": "display_data"
    },
    {
     "name": "stdout",
     "output_type": "stream",
     "text": [
      "Epoch [32/80], Train Loss: 2.3638, Val Loss: 2.7541, Epoch execution time: 7.3 sec\n"
     ]
    },
    {
     "data": {
      "application/vnd.jupyter.widget-view+json": {
       "model_id": "346007edd94e468a88b385d7b4ca57a3",
       "version_major": 2,
       "version_minor": 0
      },
      "text/plain": [
       "epoch: 32:   0%|          | 0/950 [00:00<?, ?it/s]"
      ]
     },
     "metadata": {},
     "output_type": "display_data"
    },
    {
     "data": {
      "application/vnd.jupyter.widget-view+json": {
       "model_id": "d0006e498d9e48929830be56fa7d77b4",
       "version_major": 2,
       "version_minor": 0
      },
      "text/plain": [
       "epoch: 32:   0%|          | 0/100 [00:00<?, ?it/s]"
      ]
     },
     "metadata": {},
     "output_type": "display_data"
    },
    {
     "name": "stdout",
     "output_type": "stream",
     "text": [
      "Epoch [33/80], Train Loss: 2.3587, Val Loss: 2.6084, Epoch execution time: 7.9 sec\n"
     ]
    },
    {
     "data": {
      "application/vnd.jupyter.widget-view+json": {
       "model_id": "bfe7583ebebc41b98e43bfac88d12c39",
       "version_major": 2,
       "version_minor": 0
      },
      "text/plain": [
       "epoch: 33:   0%|          | 0/950 [00:00<?, ?it/s]"
      ]
     },
     "metadata": {},
     "output_type": "display_data"
    },
    {
     "data": {
      "application/vnd.jupyter.widget-view+json": {
       "model_id": "f6791f4ff6424b50bb814e3d2bad7136",
       "version_major": 2,
       "version_minor": 0
      },
      "text/plain": [
       "epoch: 33:   0%|          | 0/100 [00:00<?, ?it/s]"
      ]
     },
     "metadata": {},
     "output_type": "display_data"
    },
    {
     "name": "stdout",
     "output_type": "stream",
     "text": [
      "Epoch [34/80], Train Loss: 2.3452, Val Loss: 2.5390, Epoch execution time: 8.52 sec\n"
     ]
    },
    {
     "data": {
      "application/vnd.jupyter.widget-view+json": {
       "model_id": "4edd1d87367f48b5af28fb53154e20bc",
       "version_major": 2,
       "version_minor": 0
      },
      "text/plain": [
       "epoch: 34:   0%|          | 0/950 [00:00<?, ?it/s]"
      ]
     },
     "metadata": {},
     "output_type": "display_data"
    },
    {
     "data": {
      "application/vnd.jupyter.widget-view+json": {
       "model_id": "7e5dccf1f0bd44f2bddfcb32d7f3280f",
       "version_major": 2,
       "version_minor": 0
      },
      "text/plain": [
       "epoch: 34:   0%|          | 0/100 [00:00<?, ?it/s]"
      ]
     },
     "metadata": {},
     "output_type": "display_data"
    },
    {
     "name": "stdout",
     "output_type": "stream",
     "text": [
      "Epoch [35/80], Train Loss: 2.3405, Val Loss: 2.6265, Epoch execution time: 8.04 sec\n"
     ]
    },
    {
     "data": {
      "application/vnd.jupyter.widget-view+json": {
       "model_id": "f96813f6b48a4c16871c1b38aa291fb2",
       "version_major": 2,
       "version_minor": 0
      },
      "text/plain": [
       "epoch: 35:   0%|          | 0/950 [00:00<?, ?it/s]"
      ]
     },
     "metadata": {},
     "output_type": "display_data"
    },
    {
     "data": {
      "application/vnd.jupyter.widget-view+json": {
       "model_id": "55bd97aa8049490ea9d81efff60b7f0f",
       "version_major": 2,
       "version_minor": 0
      },
      "text/plain": [
       "epoch: 35:   0%|          | 0/100 [00:00<?, ?it/s]"
      ]
     },
     "metadata": {},
     "output_type": "display_data"
    },
    {
     "name": "stdout",
     "output_type": "stream",
     "text": [
      "Epoch [36/80], Train Loss: 2.3157, Val Loss: 2.4985, Epoch execution time: 8.41 sec\n"
     ]
    },
    {
     "data": {
      "application/vnd.jupyter.widget-view+json": {
       "model_id": "aa2d3a74a6644d4ebe62ed592afd8fa9",
       "version_major": 2,
       "version_minor": 0
      },
      "text/plain": [
       "epoch: 36:   0%|          | 0/950 [00:00<?, ?it/s]"
      ]
     },
     "metadata": {},
     "output_type": "display_data"
    },
    {
     "data": {
      "application/vnd.jupyter.widget-view+json": {
       "model_id": "f5be4a732f464dcc8b8338c8d56b54b3",
       "version_major": 2,
       "version_minor": 0
      },
      "text/plain": [
       "epoch: 36:   0%|          | 0/100 [00:00<?, ?it/s]"
      ]
     },
     "metadata": {},
     "output_type": "display_data"
    },
    {
     "name": "stdout",
     "output_type": "stream",
     "text": [
      "Epoch [37/80], Train Loss: 2.3111, Val Loss: 2.5083, Epoch execution time: 8.78 sec\n"
     ]
    },
    {
     "data": {
      "application/vnd.jupyter.widget-view+json": {
       "model_id": "7002c4187d5d4d56995097775e571939",
       "version_major": 2,
       "version_minor": 0
      },
      "text/plain": [
       "epoch: 37:   0%|          | 0/950 [00:00<?, ?it/s]"
      ]
     },
     "metadata": {},
     "output_type": "display_data"
    },
    {
     "data": {
      "application/vnd.jupyter.widget-view+json": {
       "model_id": "7d05adb3912749f5840c173c7a8494ba",
       "version_major": 2,
       "version_minor": 0
      },
      "text/plain": [
       "epoch: 37:   0%|          | 0/100 [00:00<?, ?it/s]"
      ]
     },
     "metadata": {},
     "output_type": "display_data"
    },
    {
     "name": "stdout",
     "output_type": "stream",
     "text": [
      "Epoch [38/80], Train Loss: 2.3104, Val Loss: 2.4608, Epoch execution time: 8.19 sec\n"
     ]
    },
    {
     "data": {
      "application/vnd.jupyter.widget-view+json": {
       "model_id": "0bb95d484f94488da7f67b90fddfc784",
       "version_major": 2,
       "version_minor": 0
      },
      "text/plain": [
       "epoch: 38:   0%|          | 0/950 [00:00<?, ?it/s]"
      ]
     },
     "metadata": {},
     "output_type": "display_data"
    },
    {
     "data": {
      "application/vnd.jupyter.widget-view+json": {
       "model_id": "5f7b9f2f047549559dded254625c895f",
       "version_major": 2,
       "version_minor": 0
      },
      "text/plain": [
       "epoch: 38:   0%|          | 0/100 [00:00<?, ?it/s]"
      ]
     },
     "metadata": {},
     "output_type": "display_data"
    },
    {
     "name": "stdout",
     "output_type": "stream",
     "text": [
      "Epoch [39/80], Train Loss: 2.3230, Val Loss: 2.5575, Epoch execution time: 8.35 sec\n"
     ]
    },
    {
     "data": {
      "application/vnd.jupyter.widget-view+json": {
       "model_id": "f8cbc00a9d464aecb2d34a37057bba70",
       "version_major": 2,
       "version_minor": 0
      },
      "text/plain": [
       "epoch: 39:   0%|          | 0/950 [00:00<?, ?it/s]"
      ]
     },
     "metadata": {},
     "output_type": "display_data"
    },
    {
     "data": {
      "application/vnd.jupyter.widget-view+json": {
       "model_id": "ec6d7c8c49fa48c891a587f1379e97f6",
       "version_major": 2,
       "version_minor": 0
      },
      "text/plain": [
       "epoch: 39:   0%|          | 0/100 [00:00<?, ?it/s]"
      ]
     },
     "metadata": {},
     "output_type": "display_data"
    },
    {
     "name": "stdout",
     "output_type": "stream",
     "text": [
      "Epoch [40/80], Train Loss: 2.3323, Val Loss: 2.4356, Epoch execution time: 8.5 sec\n"
     ]
    },
    {
     "data": {
      "application/vnd.jupyter.widget-view+json": {
       "model_id": "32d98f493a3e4057896a89a5ca08369a",
       "version_major": 2,
       "version_minor": 0
      },
      "text/plain": [
       "epoch: 40:   0%|          | 0/950 [00:00<?, ?it/s]"
      ]
     },
     "metadata": {},
     "output_type": "display_data"
    },
    {
     "data": {
      "application/vnd.jupyter.widget-view+json": {
       "model_id": "af1c426bc52f48c983aa6b240790f97d",
       "version_major": 2,
       "version_minor": 0
      },
      "text/plain": [
       "epoch: 40:   0%|          | 0/100 [00:00<?, ?it/s]"
      ]
     },
     "metadata": {},
     "output_type": "display_data"
    },
    {
     "name": "stdout",
     "output_type": "stream",
     "text": [
      "Epoch [41/80], Train Loss: 2.2924, Val Loss: 2.4622, Epoch execution time: 8.39 sec\n"
     ]
    },
    {
     "data": {
      "application/vnd.jupyter.widget-view+json": {
       "model_id": "a71f4eec3821479f87cf42a4f867f041",
       "version_major": 2,
       "version_minor": 0
      },
      "text/plain": [
       "epoch: 41:   0%|          | 0/950 [00:00<?, ?it/s]"
      ]
     },
     "metadata": {},
     "output_type": "display_data"
    },
    {
     "data": {
      "application/vnd.jupyter.widget-view+json": {
       "model_id": "72015782e5f646f28464a837c4662af8",
       "version_major": 2,
       "version_minor": 0
      },
      "text/plain": [
       "epoch: 41:   0%|          | 0/100 [00:00<?, ?it/s]"
      ]
     },
     "metadata": {},
     "output_type": "display_data"
    },
    {
     "name": "stdout",
     "output_type": "stream",
     "text": [
      "Epoch [42/80], Train Loss: 2.2929, Val Loss: 2.3727, Epoch execution time: 7.57 sec\n"
     ]
    },
    {
     "data": {
      "application/vnd.jupyter.widget-view+json": {
       "model_id": "7775f9c0d8c4414498454378ca44a6cf",
       "version_major": 2,
       "version_minor": 0
      },
      "text/plain": [
       "epoch: 42:   0%|          | 0/950 [00:00<?, ?it/s]"
      ]
     },
     "metadata": {},
     "output_type": "display_data"
    },
    {
     "data": {
      "application/vnd.jupyter.widget-view+json": {
       "model_id": "6abb4e501bef4032a8c6bdd7e6a3e2fa",
       "version_major": 2,
       "version_minor": 0
      },
      "text/plain": [
       "epoch: 42:   0%|          | 0/100 [00:00<?, ?it/s]"
      ]
     },
     "metadata": {},
     "output_type": "display_data"
    },
    {
     "name": "stdout",
     "output_type": "stream",
     "text": [
      "Epoch [43/80], Train Loss: 2.2788, Val Loss: 2.3953, Epoch execution time: 7.61 sec\n"
     ]
    },
    {
     "data": {
      "application/vnd.jupyter.widget-view+json": {
       "model_id": "abf31c10ae884a5c863bacc44c089e52",
       "version_major": 2,
       "version_minor": 0
      },
      "text/plain": [
       "epoch: 43:   0%|          | 0/950 [00:00<?, ?it/s]"
      ]
     },
     "metadata": {},
     "output_type": "display_data"
    },
    {
     "data": {
      "application/vnd.jupyter.widget-view+json": {
       "model_id": "a9725d84cce742afb6c586a4429fb537",
       "version_major": 2,
       "version_minor": 0
      },
      "text/plain": [
       "epoch: 43:   0%|          | 0/100 [00:00<?, ?it/s]"
      ]
     },
     "metadata": {},
     "output_type": "display_data"
    },
    {
     "name": "stdout",
     "output_type": "stream",
     "text": [
      "Epoch [44/80], Train Loss: 2.2636, Val Loss: 2.4832, Epoch execution time: 7.96 sec\n"
     ]
    },
    {
     "data": {
      "application/vnd.jupyter.widget-view+json": {
       "model_id": "6a5fa1a1196e4158a5f3996ca96ef4d5",
       "version_major": 2,
       "version_minor": 0
      },
      "text/plain": [
       "epoch: 44:   0%|          | 0/950 [00:00<?, ?it/s]"
      ]
     },
     "metadata": {},
     "output_type": "display_data"
    },
    {
     "data": {
      "application/vnd.jupyter.widget-view+json": {
       "model_id": "3178b1dfe66f4725ba14186bee234fb3",
       "version_major": 2,
       "version_minor": 0
      },
      "text/plain": [
       "epoch: 44:   0%|          | 0/100 [00:00<?, ?it/s]"
      ]
     },
     "metadata": {},
     "output_type": "display_data"
    },
    {
     "name": "stdout",
     "output_type": "stream",
     "text": [
      "Epoch [45/80], Train Loss: 2.2636, Val Loss: 2.4115, Epoch execution time: 8.03 sec\n"
     ]
    },
    {
     "data": {
      "application/vnd.jupyter.widget-view+json": {
       "model_id": "453f6f063b004a89aa32afbc97682264",
       "version_major": 2,
       "version_minor": 0
      },
      "text/plain": [
       "epoch: 45:   0%|          | 0/950 [00:00<?, ?it/s]"
      ]
     },
     "metadata": {},
     "output_type": "display_data"
    },
    {
     "data": {
      "application/vnd.jupyter.widget-view+json": {
       "model_id": "d9cc599f696848968b5622c3432e77d3",
       "version_major": 2,
       "version_minor": 0
      },
      "text/plain": [
       "epoch: 45:   0%|          | 0/100 [00:00<?, ?it/s]"
      ]
     },
     "metadata": {},
     "output_type": "display_data"
    },
    {
     "name": "stdout",
     "output_type": "stream",
     "text": [
      "Epoch [46/80], Train Loss: 2.2612, Val Loss: 2.4527, Epoch execution time: 7.88 sec\n"
     ]
    },
    {
     "data": {
      "application/vnd.jupyter.widget-view+json": {
       "model_id": "c0a4f30d70c844199d845e0f4b9f4f1a",
       "version_major": 2,
       "version_minor": 0
      },
      "text/plain": [
       "epoch: 46:   0%|          | 0/950 [00:00<?, ?it/s]"
      ]
     },
     "metadata": {},
     "output_type": "display_data"
    },
    {
     "data": {
      "application/vnd.jupyter.widget-view+json": {
       "model_id": "dc0c6acd49f04f59b5be72ccb45c11c0",
       "version_major": 2,
       "version_minor": 0
      },
      "text/plain": [
       "epoch: 46:   0%|          | 0/100 [00:00<?, ?it/s]"
      ]
     },
     "metadata": {},
     "output_type": "display_data"
    },
    {
     "name": "stdout",
     "output_type": "stream",
     "text": [
      "Epoch [47/80], Train Loss: 2.2342, Val Loss: 2.8764, Epoch execution time: 6.96 sec\n"
     ]
    },
    {
     "data": {
      "application/vnd.jupyter.widget-view+json": {
       "model_id": "52da55dca373402aa140d76d1878a227",
       "version_major": 2,
       "version_minor": 0
      },
      "text/plain": [
       "epoch: 47:   0%|          | 0/950 [00:00<?, ?it/s]"
      ]
     },
     "metadata": {},
     "output_type": "display_data"
    },
    {
     "data": {
      "application/vnd.jupyter.widget-view+json": {
       "model_id": "9d6c411060c54550a961b820fe417aff",
       "version_major": 2,
       "version_minor": 0
      },
      "text/plain": [
       "epoch: 47:   0%|          | 0/100 [00:00<?, ?it/s]"
      ]
     },
     "metadata": {},
     "output_type": "display_data"
    },
    {
     "name": "stdout",
     "output_type": "stream",
     "text": [
      "Epoch [48/80], Train Loss: 2.2393, Val Loss: 2.3718, Epoch execution time: 7.36 sec\n"
     ]
    },
    {
     "data": {
      "application/vnd.jupyter.widget-view+json": {
       "model_id": "908a5fb62d4c47fcbb2fdc169c0a3038",
       "version_major": 2,
       "version_minor": 0
      },
      "text/plain": [
       "epoch: 48:   0%|          | 0/950 [00:00<?, ?it/s]"
      ]
     },
     "metadata": {},
     "output_type": "display_data"
    },
    {
     "data": {
      "application/vnd.jupyter.widget-view+json": {
       "model_id": "0aeea650baf34b659e19232739d654c4",
       "version_major": 2,
       "version_minor": 0
      },
      "text/plain": [
       "epoch: 48:   0%|          | 0/100 [00:00<?, ?it/s]"
      ]
     },
     "metadata": {},
     "output_type": "display_data"
    },
    {
     "name": "stdout",
     "output_type": "stream",
     "text": [
      "Epoch [49/80], Train Loss: 2.2218, Val Loss: 2.5049, Epoch execution time: 7.85 sec\n"
     ]
    },
    {
     "data": {
      "application/vnd.jupyter.widget-view+json": {
       "model_id": "4bc2138d4d2a4911808f883a4980abf5",
       "version_major": 2,
       "version_minor": 0
      },
      "text/plain": [
       "epoch: 49:   0%|          | 0/950 [00:00<?, ?it/s]"
      ]
     },
     "metadata": {},
     "output_type": "display_data"
    },
    {
     "data": {
      "application/vnd.jupyter.widget-view+json": {
       "model_id": "7c0128dcfd2f4ae99743cb3acaa30acc",
       "version_major": 2,
       "version_minor": 0
      },
      "text/plain": [
       "epoch: 49:   0%|          | 0/100 [00:00<?, ?it/s]"
      ]
     },
     "metadata": {},
     "output_type": "display_data"
    },
    {
     "name": "stdout",
     "output_type": "stream",
     "text": [
      "Epoch [50/80], Train Loss: 2.2033, Val Loss: 2.5175, Epoch execution time: 8.34 sec\n"
     ]
    },
    {
     "data": {
      "application/vnd.jupyter.widget-view+json": {
       "model_id": "17a9d3809e534b3ba3d480767623b304",
       "version_major": 2,
       "version_minor": 0
      },
      "text/plain": [
       "epoch: 50:   0%|          | 0/950 [00:00<?, ?it/s]"
      ]
     },
     "metadata": {},
     "output_type": "display_data"
    },
    {
     "data": {
      "application/vnd.jupyter.widget-view+json": {
       "model_id": "3189d3a73e19436ebbe32419feaa01f2",
       "version_major": 2,
       "version_minor": 0
      },
      "text/plain": [
       "epoch: 50:   0%|          | 0/100 [00:00<?, ?it/s]"
      ]
     },
     "metadata": {},
     "output_type": "display_data"
    },
    {
     "name": "stdout",
     "output_type": "stream",
     "text": [
      "Epoch [51/80], Train Loss: 2.2092, Val Loss: 2.4916, Epoch execution time: 7.34 sec\n"
     ]
    },
    {
     "data": {
      "application/vnd.jupyter.widget-view+json": {
       "model_id": "60e1d3c34d1a45abab06092a081328e6",
       "version_major": 2,
       "version_minor": 0
      },
      "text/plain": [
       "epoch: 51:   0%|          | 0/950 [00:00<?, ?it/s]"
      ]
     },
     "metadata": {},
     "output_type": "display_data"
    },
    {
     "data": {
      "application/vnd.jupyter.widget-view+json": {
       "model_id": "2c3f9836e4c3422e9e5cea8ad69c0610",
       "version_major": 2,
       "version_minor": 0
      },
      "text/plain": [
       "epoch: 51:   0%|          | 0/100 [00:00<?, ?it/s]"
      ]
     },
     "metadata": {},
     "output_type": "display_data"
    },
    {
     "name": "stdout",
     "output_type": "stream",
     "text": [
      "Epoch [52/80], Train Loss: 2.2190, Val Loss: 2.4413, Epoch execution time: 6.69 sec\n"
     ]
    },
    {
     "data": {
      "application/vnd.jupyter.widget-view+json": {
       "model_id": "07804c45fdbf49bcb4954918df6413e8",
       "version_major": 2,
       "version_minor": 0
      },
      "text/plain": [
       "epoch: 52:   0%|          | 0/950 [00:00<?, ?it/s]"
      ]
     },
     "metadata": {},
     "output_type": "display_data"
    },
    {
     "data": {
      "application/vnd.jupyter.widget-view+json": {
       "model_id": "4ecebc8d69ca4132a770e48faa00d627",
       "version_major": 2,
       "version_minor": 0
      },
      "text/plain": [
       "epoch: 52:   0%|          | 0/100 [00:00<?, ?it/s]"
      ]
     },
     "metadata": {},
     "output_type": "display_data"
    },
    {
     "name": "stdout",
     "output_type": "stream",
     "text": [
      "Epoch [53/80], Train Loss: 2.1673, Val Loss: 2.4833, Epoch execution time: 7.33 sec\n"
     ]
    },
    {
     "data": {
      "application/vnd.jupyter.widget-view+json": {
       "model_id": "42c9ddf4f5e2475186e3e61011396477",
       "version_major": 2,
       "version_minor": 0
      },
      "text/plain": [
       "epoch: 53:   0%|          | 0/950 [00:00<?, ?it/s]"
      ]
     },
     "metadata": {},
     "output_type": "display_data"
    },
    {
     "data": {
      "application/vnd.jupyter.widget-view+json": {
       "model_id": "042beac663844b36b1fca5f831d9614f",
       "version_major": 2,
       "version_minor": 0
      },
      "text/plain": [
       "epoch: 53:   0%|          | 0/100 [00:00<?, ?it/s]"
      ]
     },
     "metadata": {},
     "output_type": "display_data"
    },
    {
     "name": "stdout",
     "output_type": "stream",
     "text": [
      "Epoch [54/80], Train Loss: 2.1893, Val Loss: 2.4687, Epoch execution time: 9.19 sec\n"
     ]
    },
    {
     "data": {
      "application/vnd.jupyter.widget-view+json": {
       "model_id": "dfe74f59e2fb4e86a3d52dae9f368ba6",
       "version_major": 2,
       "version_minor": 0
      },
      "text/plain": [
       "epoch: 54:   0%|          | 0/950 [00:00<?, ?it/s]"
      ]
     },
     "metadata": {},
     "output_type": "display_data"
    },
    {
     "data": {
      "application/vnd.jupyter.widget-view+json": {
       "model_id": "d7841151ea514789b248909ac334bb93",
       "version_major": 2,
       "version_minor": 0
      },
      "text/plain": [
       "epoch: 54:   0%|          | 0/100 [00:00<?, ?it/s]"
      ]
     },
     "metadata": {},
     "output_type": "display_data"
    },
    {
     "name": "stdout",
     "output_type": "stream",
     "text": [
      "Epoch [55/80], Train Loss: 2.1832, Val Loss: 2.4805, Epoch execution time: 5.95 sec\n"
     ]
    },
    {
     "data": {
      "application/vnd.jupyter.widget-view+json": {
       "model_id": "105666c274e74b2e918195e81eb97b2b",
       "version_major": 2,
       "version_minor": 0
      },
      "text/plain": [
       "epoch: 55:   0%|          | 0/950 [00:00<?, ?it/s]"
      ]
     },
     "metadata": {},
     "output_type": "display_data"
    },
    {
     "data": {
      "application/vnd.jupyter.widget-view+json": {
       "model_id": "23c8d499ee204c269d1132c125245a22",
       "version_major": 2,
       "version_minor": 0
      },
      "text/plain": [
       "epoch: 55:   0%|          | 0/100 [00:00<?, ?it/s]"
      ]
     },
     "metadata": {},
     "output_type": "display_data"
    },
    {
     "name": "stdout",
     "output_type": "stream",
     "text": [
      "Epoch [56/80], Train Loss: 2.1793, Val Loss: 2.4667, Epoch execution time: 7.2 sec\n"
     ]
    },
    {
     "data": {
      "application/vnd.jupyter.widget-view+json": {
       "model_id": "62cb8f43b3fd4da3ac2a828735d67b06",
       "version_major": 2,
       "version_minor": 0
      },
      "text/plain": [
       "epoch: 56:   0%|          | 0/950 [00:00<?, ?it/s]"
      ]
     },
     "metadata": {},
     "output_type": "display_data"
    },
    {
     "data": {
      "application/vnd.jupyter.widget-view+json": {
       "model_id": "d470a748402843f1aa4434a64452573a",
       "version_major": 2,
       "version_minor": 0
      },
      "text/plain": [
       "epoch: 56:   0%|          | 0/100 [00:00<?, ?it/s]"
      ]
     },
     "metadata": {},
     "output_type": "display_data"
    },
    {
     "name": "stdout",
     "output_type": "stream",
     "text": [
      "Epoch [57/80], Train Loss: 2.1560, Val Loss: 2.4263, Epoch execution time: 8.06 sec\n"
     ]
    },
    {
     "data": {
      "application/vnd.jupyter.widget-view+json": {
       "model_id": "5bf9ea7d009f4374954d5203745690cc",
       "version_major": 2,
       "version_minor": 0
      },
      "text/plain": [
       "epoch: 57:   0%|          | 0/950 [00:00<?, ?it/s]"
      ]
     },
     "metadata": {},
     "output_type": "display_data"
    },
    {
     "data": {
      "application/vnd.jupyter.widget-view+json": {
       "model_id": "6e65e2d041c24e2cb7f178228e3e997e",
       "version_major": 2,
       "version_minor": 0
      },
      "text/plain": [
       "epoch: 57:   0%|          | 0/100 [00:00<?, ?it/s]"
      ]
     },
     "metadata": {},
     "output_type": "display_data"
    },
    {
     "name": "stdout",
     "output_type": "stream",
     "text": [
      "Epoch [58/80], Train Loss: 2.1469, Val Loss: 2.3391, Epoch execution time: 8.27 sec\n"
     ]
    },
    {
     "data": {
      "application/vnd.jupyter.widget-view+json": {
       "model_id": "9034cc82ef1046609dd90beefbe4186e",
       "version_major": 2,
       "version_minor": 0
      },
      "text/plain": [
       "epoch: 58:   0%|          | 0/950 [00:00<?, ?it/s]"
      ]
     },
     "metadata": {},
     "output_type": "display_data"
    },
    {
     "data": {
      "application/vnd.jupyter.widget-view+json": {
       "model_id": "2f714b8b4c26413b8d52f8efd1cd1302",
       "version_major": 2,
       "version_minor": 0
      },
      "text/plain": [
       "epoch: 58:   0%|          | 0/100 [00:00<?, ?it/s]"
      ]
     },
     "metadata": {},
     "output_type": "display_data"
    },
    {
     "name": "stdout",
     "output_type": "stream",
     "text": [
      "Epoch [59/80], Train Loss: 2.1203, Val Loss: 2.5741, Epoch execution time: 8.58 sec\n"
     ]
    },
    {
     "data": {
      "application/vnd.jupyter.widget-view+json": {
       "model_id": "5bc10ef06a1442528381039678dcd532",
       "version_major": 2,
       "version_minor": 0
      },
      "text/plain": [
       "epoch: 59:   0%|          | 0/950 [00:00<?, ?it/s]"
      ]
     },
     "metadata": {},
     "output_type": "display_data"
    },
    {
     "data": {
      "application/vnd.jupyter.widget-view+json": {
       "model_id": "1e1c9f25771142b389634eed73ef52e3",
       "version_major": 2,
       "version_minor": 0
      },
      "text/plain": [
       "epoch: 59:   0%|          | 0/100 [00:00<?, ?it/s]"
      ]
     },
     "metadata": {},
     "output_type": "display_data"
    },
    {
     "name": "stdout",
     "output_type": "stream",
     "text": [
      "Epoch [60/80], Train Loss: 2.1180, Val Loss: 2.4540, Epoch execution time: 8.92 sec\n"
     ]
    },
    {
     "data": {
      "application/vnd.jupyter.widget-view+json": {
       "model_id": "681032ac220141b18805c367f1b8f863",
       "version_major": 2,
       "version_minor": 0
      },
      "text/plain": [
       "epoch: 60:   0%|          | 0/950 [00:00<?, ?it/s]"
      ]
     },
     "metadata": {},
     "output_type": "display_data"
    },
    {
     "data": {
      "application/vnd.jupyter.widget-view+json": {
       "model_id": "f5b5c87bfe794337b906a970da80a2cb",
       "version_major": 2,
       "version_minor": 0
      },
      "text/plain": [
       "epoch: 60:   0%|          | 0/100 [00:00<?, ?it/s]"
      ]
     },
     "metadata": {},
     "output_type": "display_data"
    },
    {
     "name": "stdout",
     "output_type": "stream",
     "text": [
      "Epoch [61/80], Train Loss: 2.1238, Val Loss: 2.4103, Epoch execution time: 8.32 sec\n"
     ]
    },
    {
     "data": {
      "application/vnd.jupyter.widget-view+json": {
       "model_id": "3715dd64ef8a4e96ae6392f2bd98cb23",
       "version_major": 2,
       "version_minor": 0
      },
      "text/plain": [
       "epoch: 61:   0%|          | 0/950 [00:00<?, ?it/s]"
      ]
     },
     "metadata": {},
     "output_type": "display_data"
    },
    {
     "data": {
      "application/vnd.jupyter.widget-view+json": {
       "model_id": "46d70ad8bfe44b1585fbc76b49766348",
       "version_major": 2,
       "version_minor": 0
      },
      "text/plain": [
       "epoch: 61:   0%|          | 0/100 [00:00<?, ?it/s]"
      ]
     },
     "metadata": {},
     "output_type": "display_data"
    },
    {
     "name": "stdout",
     "output_type": "stream",
     "text": [
      "Epoch [62/80], Train Loss: 2.0810, Val Loss: 2.6233, Epoch execution time: 7.4 sec\n"
     ]
    },
    {
     "data": {
      "application/vnd.jupyter.widget-view+json": {
       "model_id": "ee85e30493654060addc19cd56325daa",
       "version_major": 2,
       "version_minor": 0
      },
      "text/plain": [
       "epoch: 62:   0%|          | 0/950 [00:00<?, ?it/s]"
      ]
     },
     "metadata": {},
     "output_type": "display_data"
    },
    {
     "data": {
      "application/vnd.jupyter.widget-view+json": {
       "model_id": "1e589f97017642ee9cc588a1b31e1e0e",
       "version_major": 2,
       "version_minor": 0
      },
      "text/plain": [
       "epoch: 62:   0%|          | 0/100 [00:00<?, ?it/s]"
      ]
     },
     "metadata": {},
     "output_type": "display_data"
    },
    {
     "name": "stdout",
     "output_type": "stream",
     "text": [
      "Epoch [63/80], Train Loss: 2.0878, Val Loss: 2.4418, Epoch execution time: 8.68 sec\n"
     ]
    },
    {
     "data": {
      "application/vnd.jupyter.widget-view+json": {
       "model_id": "b20f186fe6b543cea6639da89525702a",
       "version_major": 2,
       "version_minor": 0
      },
      "text/plain": [
       "epoch: 63:   0%|          | 0/950 [00:00<?, ?it/s]"
      ]
     },
     "metadata": {},
     "output_type": "display_data"
    },
    {
     "data": {
      "application/vnd.jupyter.widget-view+json": {
       "model_id": "0e702dcaa5574058b1b3516170d26802",
       "version_major": 2,
       "version_minor": 0
      },
      "text/plain": [
       "epoch: 63:   0%|          | 0/100 [00:00<?, ?it/s]"
      ]
     },
     "metadata": {},
     "output_type": "display_data"
    },
    {
     "name": "stdout",
     "output_type": "stream",
     "text": [
      "Epoch [64/80], Train Loss: 2.0716, Val Loss: 2.4860, Epoch execution time: 8.75 sec\n"
     ]
    },
    {
     "data": {
      "application/vnd.jupyter.widget-view+json": {
       "model_id": "522bf160913842fd846ac9e7110b94ce",
       "version_major": 2,
       "version_minor": 0
      },
      "text/plain": [
       "epoch: 64:   0%|          | 0/950 [00:00<?, ?it/s]"
      ]
     },
     "metadata": {},
     "output_type": "display_data"
    },
    {
     "data": {
      "application/vnd.jupyter.widget-view+json": {
       "model_id": "470688658391476496eb2707c6b57552",
       "version_major": 2,
       "version_minor": 0
      },
      "text/plain": [
       "epoch: 64:   0%|          | 0/100 [00:00<?, ?it/s]"
      ]
     },
     "metadata": {},
     "output_type": "display_data"
    },
    {
     "name": "stdout",
     "output_type": "stream",
     "text": [
      "Epoch [65/80], Train Loss: 2.0576, Val Loss: 2.3982, Epoch execution time: 7.75 sec\n"
     ]
    },
    {
     "data": {
      "application/vnd.jupyter.widget-view+json": {
       "model_id": "3b8f506f09dd4a398bffb2e45c571614",
       "version_major": 2,
       "version_minor": 0
      },
      "text/plain": [
       "epoch: 65:   0%|          | 0/950 [00:00<?, ?it/s]"
      ]
     },
     "metadata": {},
     "output_type": "display_data"
    },
    {
     "data": {
      "application/vnd.jupyter.widget-view+json": {
       "model_id": "fbe231866823418f93dd87b7e10e2ac8",
       "version_major": 2,
       "version_minor": 0
      },
      "text/plain": [
       "epoch: 65:   0%|          | 0/100 [00:00<?, ?it/s]"
      ]
     },
     "metadata": {},
     "output_type": "display_data"
    },
    {
     "name": "stdout",
     "output_type": "stream",
     "text": [
      "Epoch [66/80], Train Loss: 2.0539, Val Loss: 2.5044, Epoch execution time: 7.56 sec\n"
     ]
    },
    {
     "data": {
      "application/vnd.jupyter.widget-view+json": {
       "model_id": "0a877fab2f004b47ab19afb598a90daf",
       "version_major": 2,
       "version_minor": 0
      },
      "text/plain": [
       "epoch: 66:   0%|          | 0/950 [00:00<?, ?it/s]"
      ]
     },
     "metadata": {},
     "output_type": "display_data"
    },
    {
     "data": {
      "application/vnd.jupyter.widget-view+json": {
       "model_id": "2d5de92503fb4a88bc215c1566f6b0c3",
       "version_major": 2,
       "version_minor": 0
      },
      "text/plain": [
       "epoch: 66:   0%|          | 0/100 [00:00<?, ?it/s]"
      ]
     },
     "metadata": {},
     "output_type": "display_data"
    },
    {
     "name": "stdout",
     "output_type": "stream",
     "text": [
      "Epoch [67/80], Train Loss: 2.0424, Val Loss: 2.4949, Epoch execution time: 8.54 sec\n"
     ]
    },
    {
     "data": {
      "application/vnd.jupyter.widget-view+json": {
       "model_id": "117bdaeee7c54f86a78e24a9ef7d0a53",
       "version_major": 2,
       "version_minor": 0
      },
      "text/plain": [
       "epoch: 67:   0%|          | 0/950 [00:00<?, ?it/s]"
      ]
     },
     "metadata": {},
     "output_type": "display_data"
    },
    {
     "data": {
      "application/vnd.jupyter.widget-view+json": {
       "model_id": "a553b59f73784065a7814a23a0ab8f3c",
       "version_major": 2,
       "version_minor": 0
      },
      "text/plain": [
       "epoch: 67:   0%|          | 0/100 [00:00<?, ?it/s]"
      ]
     },
     "metadata": {},
     "output_type": "display_data"
    },
    {
     "name": "stdout",
     "output_type": "stream",
     "text": [
      "Epoch [68/80], Train Loss: 2.0185, Val Loss: 2.4957, Epoch execution time: 7.87 sec\n"
     ]
    },
    {
     "data": {
      "application/vnd.jupyter.widget-view+json": {
       "model_id": "30e481e6a18f48819c0db02cce4ef55d",
       "version_major": 2,
       "version_minor": 0
      },
      "text/plain": [
       "epoch: 68:   0%|          | 0/950 [00:00<?, ?it/s]"
      ]
     },
     "metadata": {},
     "output_type": "display_data"
    },
    {
     "data": {
      "application/vnd.jupyter.widget-view+json": {
       "model_id": "8c0d1131d29a450ab02b7aef9266097e",
       "version_major": 2,
       "version_minor": 0
      },
      "text/plain": [
       "epoch: 68:   0%|          | 0/100 [00:00<?, ?it/s]"
      ]
     },
     "metadata": {},
     "output_type": "display_data"
    },
    {
     "name": "stdout",
     "output_type": "stream",
     "text": [
      "Epoch [69/80], Train Loss: 2.0112, Val Loss: 2.4443, Epoch execution time: 7.71 sec\n"
     ]
    },
    {
     "data": {
      "application/vnd.jupyter.widget-view+json": {
       "model_id": "85aa3be54d314ad7b2d833212ec6a614",
       "version_major": 2,
       "version_minor": 0
      },
      "text/plain": [
       "epoch: 69:   0%|          | 0/950 [00:00<?, ?it/s]"
      ]
     },
     "metadata": {},
     "output_type": "display_data"
    },
    {
     "data": {
      "application/vnd.jupyter.widget-view+json": {
       "model_id": "40a672ed1d36469da58ff359b94a8a14",
       "version_major": 2,
       "version_minor": 0
      },
      "text/plain": [
       "epoch: 69:   0%|          | 0/100 [00:00<?, ?it/s]"
      ]
     },
     "metadata": {},
     "output_type": "display_data"
    },
    {
     "name": "stdout",
     "output_type": "stream",
     "text": [
      "Epoch [70/80], Train Loss: 2.0197, Val Loss: 2.4187, Epoch execution time: 7.23 sec\n"
     ]
    },
    {
     "data": {
      "application/vnd.jupyter.widget-view+json": {
       "model_id": "f0f9b3c1738c4f48b058bea5e0f8f966",
       "version_major": 2,
       "version_minor": 0
      },
      "text/plain": [
       "epoch: 70:   0%|          | 0/950 [00:00<?, ?it/s]"
      ]
     },
     "metadata": {},
     "output_type": "display_data"
    },
    {
     "data": {
      "application/vnd.jupyter.widget-view+json": {
       "model_id": "40eb51b861da4076b7e008a57b12bca3",
       "version_major": 2,
       "version_minor": 0
      },
      "text/plain": [
       "epoch: 70:   0%|          | 0/100 [00:00<?, ?it/s]"
      ]
     },
     "metadata": {},
     "output_type": "display_data"
    },
    {
     "name": "stdout",
     "output_type": "stream",
     "text": [
      "Epoch [71/80], Train Loss: 2.0102, Val Loss: 2.3962, Epoch execution time: 9.24 sec\n"
     ]
    },
    {
     "data": {
      "application/vnd.jupyter.widget-view+json": {
       "model_id": "6320175654914d2a836d628b338a0566",
       "version_major": 2,
       "version_minor": 0
      },
      "text/plain": [
       "epoch: 71:   0%|          | 0/950 [00:00<?, ?it/s]"
      ]
     },
     "metadata": {},
     "output_type": "display_data"
    },
    {
     "data": {
      "application/vnd.jupyter.widget-view+json": {
       "model_id": "f5b1e39af58641feadec67462541f9ec",
       "version_major": 2,
       "version_minor": 0
      },
      "text/plain": [
       "epoch: 71:   0%|          | 0/100 [00:00<?, ?it/s]"
      ]
     },
     "metadata": {},
     "output_type": "display_data"
    },
    {
     "name": "stdout",
     "output_type": "stream",
     "text": [
      "Epoch [72/80], Train Loss: 1.9841, Val Loss: 2.3986, Epoch execution time: 7.07 sec\n"
     ]
    },
    {
     "data": {
      "application/vnd.jupyter.widget-view+json": {
       "model_id": "c25377b0761d4bc894a8d82d0bf8b4b0",
       "version_major": 2,
       "version_minor": 0
      },
      "text/plain": [
       "epoch: 72:   0%|          | 0/950 [00:00<?, ?it/s]"
      ]
     },
     "metadata": {},
     "output_type": "display_data"
    },
    {
     "data": {
      "application/vnd.jupyter.widget-view+json": {
       "model_id": "3232fd0b00004333bd1074d8654da5ac",
       "version_major": 2,
       "version_minor": 0
      },
      "text/plain": [
       "epoch: 72:   0%|          | 0/100 [00:00<?, ?it/s]"
      ]
     },
     "metadata": {},
     "output_type": "display_data"
    },
    {
     "name": "stdout",
     "output_type": "stream",
     "text": [
      "Epoch [73/80], Train Loss: 1.9540, Val Loss: 2.6350, Epoch execution time: 7.32 sec\n"
     ]
    },
    {
     "data": {
      "application/vnd.jupyter.widget-view+json": {
       "model_id": "576638d0ba2a4824bcbcd022b7119268",
       "version_major": 2,
       "version_minor": 0
      },
      "text/plain": [
       "epoch: 73:   0%|          | 0/950 [00:00<?, ?it/s]"
      ]
     },
     "metadata": {},
     "output_type": "display_data"
    },
    {
     "data": {
      "application/vnd.jupyter.widget-view+json": {
       "model_id": "abdae74189a94cd6b192151db5350a01",
       "version_major": 2,
       "version_minor": 0
      },
      "text/plain": [
       "epoch: 73:   0%|          | 0/100 [00:00<?, ?it/s]"
      ]
     },
     "metadata": {},
     "output_type": "display_data"
    },
    {
     "name": "stdout",
     "output_type": "stream",
     "text": [
      "Epoch [74/80], Train Loss: 1.9403, Val Loss: 2.4669, Epoch execution time: 8.25 sec\n"
     ]
    },
    {
     "data": {
      "application/vnd.jupyter.widget-view+json": {
       "model_id": "2f475ab113c74e1e8ee95ad237053e56",
       "version_major": 2,
       "version_minor": 0
      },
      "text/plain": [
       "epoch: 74:   0%|          | 0/950 [00:00<?, ?it/s]"
      ]
     },
     "metadata": {},
     "output_type": "display_data"
    },
    {
     "data": {
      "application/vnd.jupyter.widget-view+json": {
       "model_id": "dc417742da204dcbb85fe891343efb18",
       "version_major": 2,
       "version_minor": 0
      },
      "text/plain": [
       "epoch: 74:   0%|          | 0/100 [00:00<?, ?it/s]"
      ]
     },
     "metadata": {},
     "output_type": "display_data"
    },
    {
     "name": "stdout",
     "output_type": "stream",
     "text": [
      "Epoch [75/80], Train Loss: 1.9215, Val Loss: 2.3941, Epoch execution time: 8.89 sec\n"
     ]
    },
    {
     "data": {
      "application/vnd.jupyter.widget-view+json": {
       "model_id": "9aac20a5d3074dd593f1b3c752b0fcde",
       "version_major": 2,
       "version_minor": 0
      },
      "text/plain": [
       "epoch: 75:   0%|          | 0/950 [00:00<?, ?it/s]"
      ]
     },
     "metadata": {},
     "output_type": "display_data"
    },
    {
     "data": {
      "application/vnd.jupyter.widget-view+json": {
       "model_id": "66755b0cdce641a5a30e2a3ea5867b18",
       "version_major": 2,
       "version_minor": 0
      },
      "text/plain": [
       "epoch: 75:   0%|          | 0/100 [00:00<?, ?it/s]"
      ]
     },
     "metadata": {},
     "output_type": "display_data"
    },
    {
     "name": "stdout",
     "output_type": "stream",
     "text": [
      "Epoch [76/80], Train Loss: 1.9143, Val Loss: 2.3991, Epoch execution time: 7.69 sec\n"
     ]
    },
    {
     "data": {
      "application/vnd.jupyter.widget-view+json": {
       "model_id": "b780782da3f54a05862f7acb8bd2594c",
       "version_major": 2,
       "version_minor": 0
      },
      "text/plain": [
       "epoch: 76:   0%|          | 0/950 [00:00<?, ?it/s]"
      ]
     },
     "metadata": {},
     "output_type": "display_data"
    },
    {
     "data": {
      "application/vnd.jupyter.widget-view+json": {
       "model_id": "0a89135af76c43f9ba36e226d53505cb",
       "version_major": 2,
       "version_minor": 0
      },
      "text/plain": [
       "epoch: 76:   0%|          | 0/100 [00:00<?, ?it/s]"
      ]
     },
     "metadata": {},
     "output_type": "display_data"
    },
    {
     "name": "stdout",
     "output_type": "stream",
     "text": [
      "Epoch [77/80], Train Loss: 1.9172, Val Loss: 2.5837, Epoch execution time: 7.59 sec\n"
     ]
    },
    {
     "data": {
      "application/vnd.jupyter.widget-view+json": {
       "model_id": "3cbcc69c37e44e2f8a5c8d77b8a8817c",
       "version_major": 2,
       "version_minor": 0
      },
      "text/plain": [
       "epoch: 77:   0%|          | 0/950 [00:00<?, ?it/s]"
      ]
     },
     "metadata": {},
     "output_type": "display_data"
    },
    {
     "data": {
      "application/vnd.jupyter.widget-view+json": {
       "model_id": "eecc637b41d5459ab2614220320cb8d7",
       "version_major": 2,
       "version_minor": 0
      },
      "text/plain": [
       "epoch: 77:   0%|          | 0/100 [00:00<?, ?it/s]"
      ]
     },
     "metadata": {},
     "output_type": "display_data"
    },
    {
     "name": "stdout",
     "output_type": "stream",
     "text": [
      "Epoch [78/80], Train Loss: 1.9352, Val Loss: 2.4977, Epoch execution time: 6.31 sec\n"
     ]
    },
    {
     "data": {
      "application/vnd.jupyter.widget-view+json": {
       "model_id": "71cdfcc20c734032b66a771a4f1b1442",
       "version_major": 2,
       "version_minor": 0
      },
      "text/plain": [
       "epoch: 78:   0%|          | 0/950 [00:00<?, ?it/s]"
      ]
     },
     "metadata": {},
     "output_type": "display_data"
    },
    {
     "data": {
      "application/vnd.jupyter.widget-view+json": {
       "model_id": "4421e53a990341929f8d5e598351cb94",
       "version_major": 2,
       "version_minor": 0
      },
      "text/plain": [
       "epoch: 78:   0%|          | 0/100 [00:00<?, ?it/s]"
      ]
     },
     "metadata": {},
     "output_type": "display_data"
    },
    {
     "name": "stdout",
     "output_type": "stream",
     "text": [
      "Epoch [79/80], Train Loss: 1.8788, Val Loss: 2.4593, Epoch execution time: 7.11 sec\n"
     ]
    },
    {
     "data": {
      "application/vnd.jupyter.widget-view+json": {
       "model_id": "2538e7c220a44d58983fd77d343fc5b5",
       "version_major": 2,
       "version_minor": 0
      },
      "text/plain": [
       "epoch: 79:   0%|          | 0/950 [00:00<?, ?it/s]"
      ]
     },
     "metadata": {},
     "output_type": "display_data"
    },
    {
     "data": {
      "application/vnd.jupyter.widget-view+json": {
       "model_id": "c48f0a1249b94bc1a1e7763ef08afd70",
       "version_major": 2,
       "version_minor": 0
      },
      "text/plain": [
       "epoch: 79:   0%|          | 0/100 [00:00<?, ?it/s]"
      ]
     },
     "metadata": {},
     "output_type": "display_data"
    },
    {
     "name": "stdout",
     "output_type": "stream",
     "text": [
      "Epoch [80/80], Train Loss: 1.8737, Val Loss: 2.5046, Epoch execution time: 8.09 sec\n",
      "   Learning curve saved to experiment_results/train_log/learning_curve_2025-04-07_03-14-38.png\n",
      "   Learning history saved to experiment_results/train_log/learning_history_2025-04-07_03-14-38.json\n",
      "Model saved at: experiment_results/checkpoints/cnn_sppf_final_2025-04-07_03-14-38.pth\n",
      "Training Completed! Total time: 10.7067 min\n"
     ]
    }
   ],
   "source": [
    "# train the model\n",
    "train_loop(model=model, loss_fn=criterion, optimizer=optimizer,\n",
    "           train_loader=train_loader, val_loader=val_loader,\n",
    "           num_epochs=train_config[\"num_epochs\"], save_path=config[\"results_loc\"],\n",
    "           checkpoint_freq=train_config[\"save_checkpoint_freq\"])"
   ]
  },
  {
   "cell_type": "code",
   "execution_count": 16,
   "id": "0197a7b4",
   "metadata": {},
   "outputs": [
    {
     "data": {
      "image/png": "[encoded data removed]",
      "text/plain": [
       "<Figure size 432x288 with 1 Axes>"
      ]
     },
     "metadata": {
      "needs_background": "light"
     },
     "output_type": "display_data"
    }
   ],
   "source": [
    "# open saved learning curve\n",
    "# plot_saved_path = \"experiment_results/train_log/learning_curve_2025-04-07_02-16-57.png\"\n",
    "plot_saved_path = \"experiment_results/train_log/learning_curve_2025-04-07_03-14-38.png\"\n",
    "img = load_image(plot_saved_path)\n",
    "plt.imshow(img)\n",
    "plt.axis(\"off\")\n",
    "plt.show()"
   ]
  },
  {
   "cell_type": "code",
   "execution_count": 17,
   "id": "0eaa6076",
   "metadata": {},
   "outputs": [
    {
     "data": {
      "application/vnd.jupyter.widget-view+json": {
       "model_id": "7fbcdf64f3a54f69b33c889394517e21",
       "version_major": 2,
       "version_minor": 0
      },
      "text/plain": [
       "  0%|          | 0/950 [00:00<?, ?it/s]"
      ]
     },
     "metadata": {},
     "output_type": "display_data"
    },
    {
     "data": {
      "application/vnd.jupyter.widget-view+json": {
       "model_id": "13a767483ee246ab8f750398a4badbf0",
       "version_major": 2,
       "version_minor": 0
      },
      "text/plain": [
       "  0%|          | 0/100 [00:00<?, ?it/s]"
      ]
     },
     "metadata": {},
     "output_type": "display_data"
    }
   ],
   "source": [
    "# Evaluate model performance at end of training using different losses\n",
    "train_metrics, train_cm = cal_classification_metrics(model, train_loader, num_classes=3)\n",
    "val_metrics, val_cm = cal_classification_metrics(model, val_loader, num_classes=3)"
   ]
  },
  {
   "cell_type": "code",
   "execution_count": 18,
   "id": "02f069ef-ad69-4485-bfcd-339f87c1a88c",
   "metadata": {},
   "outputs": [
    {
     "data": {
      "text/html": [
       "<div>\n",
       "<style scoped>\n",
       "    .dataframe tbody tr th:only-of-type {\n",
       "        vertical-align: middle;\n",
       "    }\n",
       "\n",
       "    .dataframe tbody tr th {\n",
       "        vertical-align: top;\n",
       "    }\n",
       "\n",
       "    .dataframe thead th {\n",
       "        text-align: right;\n",
       "    }\n",
       "</style>\n",
       "<table border=\"1\" class=\"dataframe\">\n",
       "  <thead>\n",
       "    <tr style=\"text-align: right;\">\n",
       "      <th></th>\n",
       "      <th>train</th>\n",
       "      <th>val</th>\n",
       "    </tr>\n",
       "  </thead>\n",
       "  <tbody>\n",
       "    <tr>\n",
       "      <th>accuracy</th>\n",
       "      <td>0.7316</td>\n",
       "      <td>0.68</td>\n",
       "    </tr>\n",
       "    <tr>\n",
       "      <th>precision</th>\n",
       "      <td>0.7555</td>\n",
       "      <td>0.68</td>\n",
       "    </tr>\n",
       "    <tr>\n",
       "      <th>recall</th>\n",
       "      <td>0.7316</td>\n",
       "      <td>0.68</td>\n",
       "    </tr>\n",
       "    <tr>\n",
       "      <th>f1</th>\n",
       "      <td>0.7387</td>\n",
       "      <td>0.68</td>\n",
       "    </tr>\n",
       "  </tbody>\n",
       "</table>\n",
       "</div>"
      ],
      "text/plain": [
       "            train   val\n",
       "accuracy   0.7316  0.68\n",
       "precision  0.7555  0.68\n",
       "recall     0.7316  0.68\n",
       "f1         0.7387  0.68"
      ]
     },
     "metadata": {},
     "output_type": "display_data"
    },
    {
     "data": {
      "image/png": "[encoded data removed]",
      "text/plain": [
       "<Figure size 720x360 with 4 Axes>"
      ]
     },
     "metadata": {
      "needs_background": "light"
     },
     "output_type": "display_data"
    }
   ],
   "source": [
    "from sklearn.metrics import ConfusionMatrixDisplay\n",
    "\n",
    "stats = pd.DataFrame([train_metrics, val_metrics], index=[\"train\", \"val\"]).T\n",
    "display(stats)\n",
    "\n",
    "# Create subplots with 1 row and 2 columns\n",
    "fig, ax = plt.subplots(1, 2, figsize=(10, 5))  # Adjust figsize as needed\n",
    "\n",
    "# Plot the train confusion matrix\n",
    "disp_train = ConfusionMatrixDisplay(confusion_matrix=train_cm)\n",
    "disp_train.plot(ax=ax[0], cmap='magma')\n",
    "ax[0].set_title(\"Train Confusion Matrix\")\n",
    "\n",
    "# Plot the validation confusion matrix\n",
    "disp_val = ConfusionMatrixDisplay(confusion_matrix=val_cm)\n",
    "disp_val.plot(ax=ax[1], cmap='magma')  # Plot on the second subplot\n",
    "ax[1].set_title(\"Validation Confusion Matrix\")\n",
    "\n",
    "# Show the plot\n",
    "plt.tight_layout()  # Adjust layout to prevent overlap\n",
    "plt.show()"
   ]
  },
  {
   "cell_type": "code",
   "execution_count": null,
   "id": "c9847be7-989c-42e9-8dcf-470428ed2b7b",
   "metadata": {},
   "outputs": [],
   "source": []
  },
  {
   "cell_type": "markdown",
   "id": "9e30b3b9",
   "metadata": {},
   "source": [
    "# Inference"
   ]
  },
  {
   "cell_type": "code",
   "execution_count": null,
   "id": "7a2d6032",
   "metadata": {},
   "outputs": [],
   "source": [
    "saved_weight_path = \"experiment_results/checkpoints/cnn_sppf_final_2025-03-13_18-02-43.pth\"\n",
    "\n",
    "model_name = \"cnn_sppf\"\n",
    "model_config = {'in_channels': 3, 'out_dim': 1}"
   ]
  },
  {
   "cell_type": "code",
   "execution_count": null,
   "id": "252f2a6e",
   "metadata": {},
   "outputs": [],
   "source": [
    "# update preprocessing according to training\n",
    "resize_height, resize_width = 720, 1280\n",
    "\n",
    "# Define the image transformations\n",
    "img_transform = transforms.Compose([\n",
    "    transforms.ToPILImage(),\n",
    "    transforms.Resize((resize_height, resize_width)),   # ensure resize is same as used during training for loaded model \n",
    "    transforms.ToTensor()\n",
    "])"
   ]
  },
  {
   "cell_type": "code",
   "execution_count": null,
   "id": "72755e9f",
   "metadata": {},
   "outputs": [],
   "source": [
    "DEVICE = torch.device('cuda' if torch.cuda.is_available() else 'cpu')\n",
    "print(f\"Using DEVICE: {DEVICE}\")"
   ]
  },
  {
   "cell_type": "code",
   "execution_count": null,
   "id": "468ad395",
   "metadata": {},
   "outputs": [],
   "source": [
    "# initialize and load saved model\n",
    "model = load_saved_model(model_name=model_name, saved_weight_path=saved_weight_path, **model_config)\n",
    "model = model.to(DEVICE)"
   ]
  },
  {
   "cell_type": "code",
   "execution_count": null,
   "id": "c2f6605b",
   "metadata": {},
   "outputs": [],
   "source": [
    "test_img_path = \"../damage_ratio_calc_data/segmented_objects/191_jpg.rf.e27c030e763e58ce48964e670158b6e7/191_jpg.rf.e27c030e763e58ce48964e670158b6e7_object_4.png\"\n",
    "test_img = load_image(test_img_path)\n",
    "print(\"Test image shape:\", test_img.shape)\n",
    "plt.imshow(test_img)\n",
    "plt.axis(\"off\")\n",
    "plt.title(\"Input image\", fontsize=9)\n",
    "plt.show()"
   ]
  },
  {
   "cell_type": "code",
   "execution_count": null,
   "id": "b8601b32",
   "metadata": {},
   "outputs": [],
   "source": [
    "pred_val = pred_degradation_value(model=model, test_img=test_img, img_transform=None, add_batch_dim=True, device=DEVICE)\n",
    "print(\"Predicticted degradation value:\", pred_val)"
   ]
  }
 ],
 "metadata": {
  "kernelspec": {
   "display_name": "Python 3 (ipykernel)",
   "language": "python",
   "name": "python3"
  },
  "language_info": {
   "codemirror_mode": {
    "name": "ipython",
    "version": 3
   },
   "file_extension": ".py",
   "mimetype": "text/x-python",
   "name": "python",
   "nbconvert_exporter": "python",
   "pygments_lexer": "ipython3",
   "version": "3.10.12"
  }
 },
 "nbformat": 4,
 "nbformat_minor": 5
}

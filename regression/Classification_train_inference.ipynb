{
 "cells": [
  {
   "cell_type": "code",
   "execution_count": null,
   "id": "fa8afae5",
   "metadata": {},
   "outputs": [],
   "source": [
    "# Run once, restart kernel and proceed with the next cell\n",
    "# %pip install --upgrade ipywidgets"
   ]
  },
  {
   "cell_type": "code",
   "execution_count": 1,
   "id": "d80eed7c",
   "metadata": {},
   "outputs": [
    {
     "data": {
      "text/html": [
       "<style>.container { width:98% !important; }</style>"
      ],
      "text/plain": [
       "<IPython.core.display.HTML object>"
      ]
     },
     "metadata": {},
     "output_type": "display_data"
    }
   ],
   "source": [
    "from IPython.display import display, HTML\n",
    "display(HTML(\"<style>.container { width:98% !important; }</style>\"))\n",
    "\n",
    "%load_ext autoreload\n",
    "%autoreload 2\n",
    "\n",
    "import os\n",
    "import numpy as np\n",
    "import pandas as pd\n",
    "import matplotlib.pyplot as plt"
   ]
  },
  {
   "cell_type": "code",
   "execution_count": 2,
   "id": "51e20fa7",
   "metadata": {},
   "outputs": [],
   "source": [
    "import json\n",
    "from pprint import pprint\n",
    "\n",
    "import torch\n",
    "import torch.nn as nn\n",
    "import torch.nn.functional as F\n",
    "import torch.optim as optim\n",
    "from torchvision import transforms\n",
    "\n",
    "import training\n",
    "from training import load_config, generate_basic_dataloader, generate_sppf_dataloader, get_model, train_loop, cal_regression_metrics, cal_classification_metrics\n",
    "from utils.preprocessing import load_image, apply_img_preprocessing\n",
    "\n",
    "from inference import load_saved_model, pred_degradation_value"
   ]
  },
  {
   "cell_type": "code",
   "execution_count": 3,
   "id": "2338de7b-823f-4c41-9dd0-5483ad3c617c",
   "metadata": {},
   "outputs": [],
   "source": [
    "torch.cuda.empty_cache()"
   ]
  },
  {
   "cell_type": "markdown",
   "id": "d61a78ba",
   "metadata": {},
   "source": [
    "# Training"
   ]
  },
  {
   "cell_type": "code",
   "execution_count": 4,
   "id": "a68c5126",
   "metadata": {},
   "outputs": [
    {
     "name": "stdout",
     "output_type": "stream",
     "text": [
      "{'dataset_loc': {'train': {'degradation_values_csv': '../damage_ratio_calc_data/segmented_objects/183_jpg.rf.c3a79aad316f75fe23536c3bbbd6da51_degradation_values.csv',\n",
      "                           'img_dir': '../damage_ratio_calc_data/segmented_objects/183_jpg.rf.c3a79aad316f75fe23536c3bbbd6da51'},\n",
      "                 'val': {'degradation_values_csv': '../damage_ratio_calc_data/segmented_objects/184_jpg.rf.9edad8ca8d25dc9949b48968cca6e41c_degradation_values.csv',\n",
      "                         'img_dir': '../damage_ratio_calc_data/segmented_objects/184_jpg.rf.9edad8ca8d25dc9949b48968cca6e41c'}},\n",
      " 'enable_cuda': True,\n",
      " 'model': {'in_channels': 3, 'out_dim': 3},\n",
      " 'results_loc': 'experiment_results/',\n",
      " 'training': {'batch_size': 1,\n",
      "              'learning_rate': 0.05,\n",
      "              'num_epochs': 2,\n",
      "              'num_workers': 2,\n",
      "              'resume_checkpoint': None,\n",
      "              'save_checkpoint_freq': 1}}\n"
     ]
    }
   ],
   "source": [
    "config_path = \"./configs/cnn.yaml\"\n",
    "config = load_config(config_path)\n",
    "pprint(config,)"
   ]
  },
  {
   "cell_type": "code",
   "execution_count": 5,
   "id": "87409566",
   "metadata": {},
   "outputs": [],
   "source": [
    "# # copy paste config here to edit and experiment\n",
    "config = {'dataset_loc': {\n",
    "                'train': {\n",
    "                      'degradation_values_csv': '/cs6945share/retro_project/classification_bdd100k/segments_v3/degradation_segment_labels_train.csv',\n",
    "                      'img_dir': '/cs6945share/retro_project/classification_bdd100k/segments_v3/train/'},\n",
    "                 'val': {\n",
    "                     'degradation_values_csv': '/cs6945share/retro_project/classification_bdd100k/segments_v3/degradation_segment_labels_val.csv',\n",
    "                     'img_dir': '/cs6945share/retro_project/classification_bdd100k/segments_v3/val/'}\n",
    "                },\n",
    "         'enable_cuda': True,\n",
    "         'model': {'in_channels': 3, 'out_dim': 3},\n",
    "         'results_loc': 'experiment_results/',\n",
    "         'training': {'batch_size': 1,\n",
    "                      'learning_rate': 0.000001,\n",
    "                      'num_epochs': 10,\n",
    "                      'num_workers': 2,\n",
    "                      'resume_checkpoint': 'experiment_results/checkpoints/cnn_sppf_final_2025-04-07_11-11-38.pth',\n",
    "                      'save_checkpoint_freq': 1}\n",
    "         }"
   ]
  },
  {
   "cell_type": "code",
   "execution_count": 6,
   "id": "2cf5a852-cb9b-4ece-b02d-0651f45814d9",
   "metadata": {},
   "outputs": [],
   "source": [
    "# # copy paste config here to edit and experiment\n",
    "# config = {'dataset_loc': {\n",
    "#                 'train': {\n",
    "#                       'degradation_values_csv': '/cs6945share/retro_project/classification_bdd100k/segments/degradation_segment_labels_train_vtest.csv',\n",
    "#                       'img_dir': '/cs6945share/retro_project/classification_bdd100k/segments/train/'},\n",
    "#                  'val': {\n",
    "#                      'degradation_values_csv': '/cs6945share/retro_project/classification_bdd100k/segments/degradation_segment_labels_val_vtest.csv',\n",
    "#                      'img_dir': '/cs6945share/retro_project/classification_bdd100k/segments/train/'}\n",
    "#                 },\n",
    "#          'enable_cuda': True,\n",
    "#          'model': {'in_channels': 3, 'out_dim': 3},\n",
    "#          'results_loc': 'experiment_results/',\n",
    "#          'training': {'batch_size': 1,\n",
    "#                       'learning_rate': 0.0001,\n",
    "#                       'num_epochs': 20,\n",
    "#                       'num_workers': 2,\n",
    "#                       'resume_checkpoint': None,\n",
    "#                       'save_checkpoint_freq': 10}\n",
    "#          }"
   ]
  },
  {
   "cell_type": "code",
   "execution_count": 7,
   "id": "7a2fc5e4",
   "metadata": {},
   "outputs": [],
   "source": [
    "# get required config parameters\n",
    "model_config = config[\"model\"]\n",
    "train_config = config[\"training\"]\n",
    "dataset_config = config[\"dataset_loc\"]"
   ]
  },
  {
   "cell_type": "code",
   "execution_count": 8,
   "id": "37c2b6db",
   "metadata": {},
   "outputs": [
    {
     "name": "stdout",
     "output_type": "stream",
     "text": [
      "Using DEVICE: cuda\n"
     ]
    }
   ],
   "source": [
    "if config[\"enable_cuda\"]:\n",
    "    training.DEVICE = torch.device('cuda' if torch.cuda.is_available() else 'cpu')\n",
    "    print(f\"Using DEVICE: {training.DEVICE}\")"
   ]
  },
  {
   "cell_type": "code",
   "execution_count": 9,
   "id": "804ecbdf",
   "metadata": {},
   "outputs": [
    {
     "name": "stdout",
     "output_type": "stream",
     "text": [
      "Train Dataset loaded. #samples: 1050\n",
      "Validation Dataset loaded. #samples: 253\n"
     ]
    }
   ],
   "source": [
    "# update preprocessing config if required\n",
    "# resize_height, resize_width = preprocess_config[\"resize_height\"], preprocess_config[\"resize_height\"]\n",
    "\n",
    "# # in case one wants to try out different transformations\n",
    "# img_transform = transforms.Compose([\n",
    "#     transforms.ToPILImage(),\n",
    "#     transforms.Resize((resize_height, resize_width)),   # ensure resize same is used for mask by setting preprocess_config\n",
    "#     transforms.ToTensor()\n",
    "# ])\n",
    "\n",
    "train_transform = transforms.Compose([\n",
    "    transforms.ToPILImage(),\n",
    "    transforms.RandomHorizontalFlip(p=0.5),  # Flip images horizontally with 50% probability\n",
    "    transforms.RandomRotation(30),            # Rotate images randomly by up to 30 degrees\n",
    "    transforms.ToTensor()                    # Convert the image to a tensor\n",
    "])\n",
    "\n",
    "\n",
    "# generate train data loader\n",
    "train_loader, train_size = generate_sppf_dataloader(image_dir=dataset_config[\"train\"][\"img_dir\"],\n",
    "                                               degradation_values_csv=dataset_config[\"train\"][\"degradation_values_csv\"],\n",
    "                                               batch_size=train_config[\"batch_size\"],\n",
    "                                               num_workers=train_config[\"num_workers\"], transform=train_transform   # send new transform here if required\n",
    "                                        )\n",
    "\n",
    "# generate validation data loader\n",
    "val_loader, val_size = generate_sppf_dataloader(image_dir=dataset_config[\"val\"][\"img_dir\"],\n",
    "                                                degradation_values_csv=dataset_config[\"val\"][\"degradation_values_csv\"],\n",
    "                                                batch_size=train_config[\"batch_size\"],\n",
    "                                                num_workers=train_config[\"num_workers\"], transform=train_transform \n",
    "                                                )\n",
    "\n",
    "print(f\"Train Dataset loaded. #samples: {train_size}\")\n",
    "print(f\"Validation Dataset loaded. #samples: {val_size}\")"
   ]
  },
  {
   "cell_type": "code",
   "execution_count": 10,
   "id": "201bbe70",
   "metadata": {},
   "outputs": [
    {
     "name": "stdout",
     "output_type": "stream",
     "text": [
      "Image batch shape: torch.Size([1, 3, 113, 125])\n",
      "Degradation label shape: torch.Size([1, 3])\n",
      "Degradation target: tensor([1, 0, 0])\n"
     ]
    },
    {
     "data": {
      "image/png": "[encoded data removed]",
      "text/plain": [
       "<Figure size 1080x360 with 1 Axes>"
      ]
     },
     "metadata": {
      "needs_background": "light"
     },
     "output_type": "display_data"
    }
   ],
   "source": [
    "# Ensure that we are getting correct data from data loaders\n",
    "batch_img, degradation_values = next(iter(train_loader))\n",
    "\n",
    "print(\"Image batch shape:\", batch_img.shape) \n",
    "print(\"Degradation label shape:\", degradation_values.shape) \n",
    "\n",
    "sample_img = batch_img[0].numpy()   # (c, h, w)\n",
    "sample_img = sample_img.transpose(1, 2, 0)\n",
    "\n",
    "# sample_mask = batch_mask[0].numpy()   # (c, h, w)\n",
    "# sample_mask = np.squeeze(sample_mask) # (h, w)\n",
    "\n",
    "fig, ax = plt.subplots(figsize=(15, 5))\n",
    "ax.imshow(sample_img)\n",
    "ax.set_title(\"input image\")\n",
    "\n",
    "print(\"Degradation target:\", degradation_values[0])"
   ]
  },
  {
   "cell_type": "code",
   "execution_count": 12,
   "id": "8e5d932a",
   "metadata": {},
   "outputs": [],
   "source": [
    "# Initializing the model, loss function, and the optimizer\n",
    "model_name = \"cnn_sppf\"\n",
    "model = get_model(model_name, in_channels=model_config['in_channels'], out_dim=model_config['out_dim'])\n",
    "model = model.to(training.DEVICE)\n",
    "\n",
    "# criterion = nn.MSELoss() # Loss for regression\n",
    "# class_weights = torch.tensor([1.5, 1.2, 1]).to(training.DEVICE)  # Weights for class 0, 1, and 2\n",
    "criterion = nn.CrossEntropyLoss() # Loss for classification multi-class classification\n",
    "\n",
    "# from focal_loss import FocalLoss\n",
    "# num_classes = 3\n",
    "# alpha = [1.0, 1.0, 1.0]  # Example class weights\n",
    "# criterion = FocalLoss(gamma=2, alpha=alpha, task_type='multi-class', num_classes=num_classes)\n",
    "\n",
    "optimizer = optim.Adam(model.parameters(), lr=train_config[\"learning_rate\"], weight_decay=1e-5)\n",
    "# optimizer = optim.SGD(model.parameters(), lr=train_config[\"learning_rate\"])\n",
    "\n",
    "checkpoint_path = train_config[\"resume_checkpoint\"]\n",
    "if checkpoint_path is not None:\n",
    "    model.load_state_dict((torch.load(checkpoint_path, weights_only=True)))"
   ]
  },
  {
   "cell_type": "code",
   "execution_count": null,
   "id": "5d507622-69c2-49bd-9604-cf2a69eec7aa",
   "metadata": {},
   "outputs": [],
   "source": []
  },
  {
   "cell_type": "code",
   "execution_count": 13,
   "id": "795ff510",
   "metadata": {},
   "outputs": [
    {
     "data": {
      "text/plain": [
       "==========================================================================================\n",
       "Layer (type:depth-idx)                   Output Shape              Param #\n",
       "==========================================================================================\n",
       "CNN_SPPF                                 [1, 3]                    --\n",
       "├─Conv2d: 1-1                            [1, 16, 25, 25]           448\n",
       "├─Conv2d: 1-2                            [1, 32, 12, 12]           4,640\n",
       "├─Conv2d: 1-3                            [1, 64, 6, 6]             18,496\n",
       "├─SPPF: 1-4                              [1, 128, 6, 6]            --\n",
       "│    └─Conv2d: 2-1                       [1, 32, 6, 6]             2,080\n",
       "│    └─MaxPool2d: 2-2                    [1, 32, 6, 6]             --\n",
       "│    └─MaxPool2d: 2-3                    [1, 32, 6, 6]             --\n",
       "│    └─MaxPool2d: 2-4                    [1, 32, 6, 6]             --\n",
       "│    └─Conv2d: 2-5                       [1, 128, 6, 6]            16,512\n",
       "├─AdaptiveAvgPool2d: 1-5                 [1, 128, 1, 1]            --\n",
       "├─Linear: 1-6                            [1, 64]                   8,256\n",
       "├─Linear: 1-7                            [1, 3]                    195\n",
       "==========================================================================================\n",
       "Total params: 50,627\n",
       "Trainable params: 50,627\n",
       "Non-trainable params: 0\n",
       "Total mult-adds (M): 2.29\n",
       "==========================================================================================\n",
       "Input size (MB): 0.01\n",
       "Forward/backward pass size (MB): 0.18\n",
       "Params size (MB): 0.20\n",
       "Estimated Total Size (MB): 0.39\n",
       "=========================================================================================="
      ]
     },
     "execution_count": 13,
     "metadata": {},
     "output_type": "execute_result"
    }
   ],
   "source": [
    "from torchinfo import summary\n",
    "summary(model, input_size=(1, 3, 25, 25))"
   ]
  },
  {
   "cell_type": "code",
   "execution_count": 14,
   "id": "9d2965e2",
   "metadata": {},
   "outputs": [
    {
     "name": "stdout",
     "output_type": "stream",
     "text": [
      "Training Started...\n"
     ]
    },
    {
     "data": {
      "application/vnd.jupyter.widget-view+json": {
       "model_id": "ca1d70e72c8343aa9bcac2b9d575d948",
       "version_major": 2,
       "version_minor": 0
      },
      "text/plain": [
       "epoch: 0:   0%|          | 0/1050 [00:00<?, ?it/s]"
      ]
     },
     "metadata": {},
     "output_type": "display_data"
    },
    {
     "data": {
      "application/vnd.jupyter.widget-view+json": {
       "model_id": "7d73f815a2ea4e18a89324f931b3c046",
       "version_major": 2,
       "version_minor": 0
      },
      "text/plain": [
       "epoch: 0:   0%|          | 0/253 [00:00<?, ?it/s]"
      ]
     },
     "metadata": {},
     "output_type": "display_data"
    },
    {
     "name": "stdout",
     "output_type": "stream",
     "text": [
      "Epoch [1/10], Train Loss: 0.8176, Val Loss: 0.8906, Epoch execution time: 22.62 sec\n"
     ]
    },
    {
     "data": {
      "application/vnd.jupyter.widget-view+json": {
       "model_id": "c7a16b5ad2b549f3b6338741f413ffc5",
       "version_major": 2,
       "version_minor": 0
      },
      "text/plain": [
       "epoch: 1:   0%|          | 0/1050 [00:00<?, ?it/s]"
      ]
     },
     "metadata": {},
     "output_type": "display_data"
    },
    {
     "data": {
      "application/vnd.jupyter.widget-view+json": {
       "model_id": "08a8700f63314a9cacb33213254c95de",
       "version_major": 2,
       "version_minor": 0
      },
      "text/plain": [
       "epoch: 1:   0%|          | 0/253 [00:00<?, ?it/s]"
      ]
     },
     "metadata": {},
     "output_type": "display_data"
    },
    {
     "name": "stdout",
     "output_type": "stream",
     "text": [
      "Epoch [2/10], Train Loss: 0.8195, Val Loss: 0.9039, Epoch execution time: 9.49 sec\n"
     ]
    },
    {
     "data": {
      "application/vnd.jupyter.widget-view+json": {
       "model_id": "dfd4c61bb728408f9f5ece03f5f39b96",
       "version_major": 2,
       "version_minor": 0
      },
      "text/plain": [
       "epoch: 2:   0%|          | 0/1050 [00:00<?, ?it/s]"
      ]
     },
     "metadata": {},
     "output_type": "display_data"
    },
    {
     "data": {
      "application/vnd.jupyter.widget-view+json": {
       "model_id": "1816d51fb7164690979a724c4bd3d18a",
       "version_major": 2,
       "version_minor": 0
      },
      "text/plain": [
       "epoch: 2:   0%|          | 0/253 [00:00<?, ?it/s]"
      ]
     },
     "metadata": {},
     "output_type": "display_data"
    },
    {
     "name": "stdout",
     "output_type": "stream",
     "text": [
      "Epoch [3/10], Train Loss: 0.8157, Val Loss: 0.8866, Epoch execution time: 9.83 sec\n"
     ]
    },
    {
     "data": {
      "application/vnd.jupyter.widget-view+json": {
       "model_id": "7d0a8ac4903842a78047b2218d59573b",
       "version_major": 2,
       "version_minor": 0
      },
      "text/plain": [
       "epoch: 3:   0%|          | 0/1050 [00:00<?, ?it/s]"
      ]
     },
     "metadata": {},
     "output_type": "display_data"
    },
    {
     "data": {
      "application/vnd.jupyter.widget-view+json": {
       "model_id": "88b6d65ef927471fa65781418966a276",
       "version_major": 2,
       "version_minor": 0
      },
      "text/plain": [
       "epoch: 3:   0%|          | 0/253 [00:00<?, ?it/s]"
      ]
     },
     "metadata": {},
     "output_type": "display_data"
    },
    {
     "name": "stdout",
     "output_type": "stream",
     "text": [
      "Epoch [4/10], Train Loss: 0.8198, Val Loss: 0.9194, Epoch execution time: 10.07 sec\n"
     ]
    },
    {
     "data": {
      "application/vnd.jupyter.widget-view+json": {
       "model_id": "564b5a79cdf140d6be99450fd4170ab4",
       "version_major": 2,
       "version_minor": 0
      },
      "text/plain": [
       "epoch: 4:   0%|          | 0/1050 [00:00<?, ?it/s]"
      ]
     },
     "metadata": {},
     "output_type": "display_data"
    },
    {
     "data": {
      "application/vnd.jupyter.widget-view+json": {
       "model_id": "1b61e16363ce4f22aeb6f4dcf16d98e6",
       "version_major": 2,
       "version_minor": 0
      },
      "text/plain": [
       "epoch: 4:   0%|          | 0/253 [00:00<?, ?it/s]"
      ]
     },
     "metadata": {},
     "output_type": "display_data"
    },
    {
     "name": "stdout",
     "output_type": "stream",
     "text": [
      "Epoch [5/10], Train Loss: 0.8140, Val Loss: 0.8958, Epoch execution time: 9.83 sec\n"
     ]
    },
    {
     "data": {
      "application/vnd.jupyter.widget-view+json": {
       "model_id": "097d3e7e43074beb99b5dedaaf766ad6",
       "version_major": 2,
       "version_minor": 0
      },
      "text/plain": [
       "epoch: 5:   0%|          | 0/1050 [00:00<?, ?it/s]"
      ]
     },
     "metadata": {},
     "output_type": "display_data"
    },
    {
     "data": {
      "application/vnd.jupyter.widget-view+json": {
       "model_id": "1f69406544ff422aaa351883e50d5622",
       "version_major": 2,
       "version_minor": 0
      },
      "text/plain": [
       "epoch: 5:   0%|          | 0/253 [00:00<?, ?it/s]"
      ]
     },
     "metadata": {},
     "output_type": "display_data"
    },
    {
     "name": "stdout",
     "output_type": "stream",
     "text": [
      "Epoch [6/10], Train Loss: 0.8166, Val Loss: 0.9284, Epoch execution time: 9.05 sec\n"
     ]
    },
    {
     "data": {
      "application/vnd.jupyter.widget-view+json": {
       "model_id": "296ef38fefaf4590b86241e5ef4fa983",
       "version_major": 2,
       "version_minor": 0
      },
      "text/plain": [
       "epoch: 6:   0%|          | 0/1050 [00:00<?, ?it/s]"
      ]
     },
     "metadata": {},
     "output_type": "display_data"
    },
    {
     "data": {
      "application/vnd.jupyter.widget-view+json": {
       "model_id": "b0bc0034098e46d68f83e9ddb15db306",
       "version_major": 2,
       "version_minor": 0
      },
      "text/plain": [
       "epoch: 6:   0%|          | 0/253 [00:00<?, ?it/s]"
      ]
     },
     "metadata": {},
     "output_type": "display_data"
    },
    {
     "name": "stdout",
     "output_type": "stream",
     "text": [
      "Epoch [7/10], Train Loss: 0.8145, Val Loss: 0.8966, Epoch execution time: 8.69 sec\n"
     ]
    },
    {
     "data": {
      "application/vnd.jupyter.widget-view+json": {
       "model_id": "9afb6c88da5c4bb286e54f9021e9105a",
       "version_major": 2,
       "version_minor": 0
      },
      "text/plain": [
       "epoch: 7:   0%|          | 0/1050 [00:00<?, ?it/s]"
      ]
     },
     "metadata": {},
     "output_type": "display_data"
    },
    {
     "data": {
      "application/vnd.jupyter.widget-view+json": {
       "model_id": "efe80bd229d44505a82baf4775d8ead7",
       "version_major": 2,
       "version_minor": 0
      },
      "text/plain": [
       "epoch: 7:   0%|          | 0/253 [00:00<?, ?it/s]"
      ]
     },
     "metadata": {},
     "output_type": "display_data"
    },
    {
     "name": "stdout",
     "output_type": "stream",
     "text": [
      "Epoch [8/10], Train Loss: 0.8180, Val Loss: 0.9131, Epoch execution time: 9.87 sec\n"
     ]
    },
    {
     "data": {
      "application/vnd.jupyter.widget-view+json": {
       "model_id": "4e112176eb044570995c9124a05a6ccb",
       "version_major": 2,
       "version_minor": 0
      },
      "text/plain": [
       "epoch: 8:   0%|          | 0/1050 [00:00<?, ?it/s]"
      ]
     },
     "metadata": {},
     "output_type": "display_data"
    },
    {
     "data": {
      "application/vnd.jupyter.widget-view+json": {
       "model_id": "35ca24b8e1c64aafbaeef72b4454cb7e",
       "version_major": 2,
       "version_minor": 0
      },
      "text/plain": [
       "epoch: 8:   0%|          | 0/253 [00:00<?, ?it/s]"
      ]
     },
     "metadata": {},
     "output_type": "display_data"
    },
    {
     "name": "stdout",
     "output_type": "stream",
     "text": [
      "Epoch [9/10], Train Loss: 0.8097, Val Loss: 0.9205, Epoch execution time: 9.42 sec\n"
     ]
    },
    {
     "data": {
      "application/vnd.jupyter.widget-view+json": {
       "model_id": "4f6d4c9906fc4bfe99ab6db6a68078f6",
       "version_major": 2,
       "version_minor": 0
      },
      "text/plain": [
       "epoch: 9:   0%|          | 0/1050 [00:00<?, ?it/s]"
      ]
     },
     "metadata": {},
     "output_type": "display_data"
    },
    {
     "data": {
      "application/vnd.jupyter.widget-view+json": {
       "model_id": "395add24984946eda2b286462ec56809",
       "version_major": 2,
       "version_minor": 0
      },
      "text/plain": [
       "epoch: 9:   0%|          | 0/253 [00:00<?, ?it/s]"
      ]
     },
     "metadata": {},
     "output_type": "display_data"
    },
    {
     "name": "stdout",
     "output_type": "stream",
     "text": [
      "Epoch [10/10], Train Loss: 0.8093, Val Loss: 0.9077, Epoch execution time: 9.67 sec\n",
      "   Learning curve saved to experiment_results/train_log/learning_curve_2025-04-07_11-17-13.png\n",
      "   Learning history saved to experiment_results/train_log/learning_history_2025-04-07_11-17-13.json\n",
      "Model saved at: experiment_results/checkpoints/cnn_sppf_final_2025-04-07_11-17-13.pth\n",
      "Training Completed! Total time: 1.8105 min\n"
     ]
    }
   ],
   "source": [
    "# train the model\n",
    "train_loop(model=model, loss_fn=criterion, optimizer=optimizer,\n",
    "           train_loader=train_loader, val_loader=val_loader,\n",
    "           num_epochs=train_config[\"num_epochs\"], save_path=config[\"results_loc\"],\n",
    "           checkpoint_freq=train_config[\"save_checkpoint_freq\"])"
   ]
  },
  {
   "cell_type": "code",
   "execution_count": null,
   "id": "0197a7b4",
   "metadata": {},
   "outputs": [],
   "source": [
    "# open saved learning curve\n",
    "# plot_saved_path = \"experiment_results/train_log/learning_curve_2025-04-07_02-16-57.png\"\n",
    "# plot_saved_path = \"experiment_results/train_log/learning_curve_2025-04-07_05-27-50.png\"\n",
    "# plot_saved_path = \"experiment_results/train_log/learning_curve_2025-04-07_05-33-02.png\"\n",
    "# plot_saved_path = \"experiment_results/train_log/learning_curve_2025-04-07_05-23-15.png\"\n",
    "plot_saved_path = \"experiment_results/train_log/learning_curve_2025-04-07_11-11-38.png\"\n",
    "img = load_image(plot_saved_path)\n",
    "plt.imshow(img)\n",
    "plt.axis(\"off\")\n",
    "plt.show()"
   ]
  },
  {
   "cell_type": "code",
   "execution_count": 15,
   "id": "0eaa6076",
   "metadata": {},
   "outputs": [
    {
     "data": {
      "application/vnd.jupyter.widget-view+json": {
       "model_id": "77b99f62ad7f4e2fab3dbafd869b2609",
       "version_major": 2,
       "version_minor": 0
      },
      "text/plain": [
       "  0%|          | 0/1050 [00:00<?, ?it/s]"
      ]
     },
     "metadata": {},
     "output_type": "display_data"
    },
    {
     "data": {
      "application/vnd.jupyter.widget-view+json": {
       "model_id": "6753b5a1325648c1b6e948a63854643b",
       "version_major": 2,
       "version_minor": 0
      },
      "text/plain": [
       "  0%|          | 0/253 [00:00<?, ?it/s]"
      ]
     },
     "metadata": {},
     "output_type": "display_data"
    }
   ],
   "source": [
    "# Evaluate model performance at end of training using different losses\n",
    "train_metrics, train_cm = cal_classification_metrics(model, train_loader, num_classes=3)\n",
    "val_metrics, val_cm = cal_classification_metrics(model, val_loader, num_classes=3)"
   ]
  },
  {
   "cell_type": "code",
   "execution_count": 16,
   "id": "02f069ef-ad69-4485-bfcd-339f87c1a88c",
   "metadata": {},
   "outputs": [
    {
     "data": {
      "text/html": [
       "<div>\n",
       "<style scoped>\n",
       "    .dataframe tbody tr th:only-of-type {\n",
       "        vertical-align: middle;\n",
       "    }\n",
       "\n",
       "    .dataframe tbody tr th {\n",
       "        vertical-align: top;\n",
       "    }\n",
       "\n",
       "    .dataframe thead th {\n",
       "        text-align: right;\n",
       "    }\n",
       "</style>\n",
       "<table border=\"1\" class=\"dataframe\">\n",
       "  <thead>\n",
       "    <tr style=\"text-align: right;\">\n",
       "      <th></th>\n",
       "      <th>train</th>\n",
       "      <th>val</th>\n",
       "    </tr>\n",
       "  </thead>\n",
       "  <tbody>\n",
       "    <tr>\n",
       "      <th>accuracy</th>\n",
       "      <td>0.6133</td>\n",
       "      <td>0.6126</td>\n",
       "    </tr>\n",
       "    <tr>\n",
       "      <th>precision</th>\n",
       "      <td>0.5682</td>\n",
       "      <td>0.5656</td>\n",
       "    </tr>\n",
       "    <tr>\n",
       "      <th>recall</th>\n",
       "      <td>0.6133</td>\n",
       "      <td>0.6126</td>\n",
       "    </tr>\n",
       "    <tr>\n",
       "      <th>f1</th>\n",
       "      <td>0.5589</td>\n",
       "      <td>0.5570</td>\n",
       "    </tr>\n",
       "  </tbody>\n",
       "</table>\n",
       "</div>"
      ],
      "text/plain": [
       "            train     val\n",
       "accuracy   0.6133  0.6126\n",
       "precision  0.5682  0.5656\n",
       "recall     0.6133  0.6126\n",
       "f1         0.5589  0.5570"
      ]
     },
     "metadata": {},
     "output_type": "display_data"
    },
    {
     "data": {
      "image/png": "[encoded data removed]",
      "text/plain": [
       "<Figure size 720x360 with 4 Axes>"
      ]
     },
     "metadata": {
      "needs_background": "light"
     },
     "output_type": "display_data"
    }
   ],
   "source": [
    "from sklearn.metrics import ConfusionMatrixDisplay\n",
    "\n",
    "stats = pd.DataFrame([train_metrics, val_metrics], index=[\"train\", \"val\"]).T\n",
    "display(stats)\n",
    "\n",
    "# Create subplots with 1 row and 2 columns\n",
    "fig, ax = plt.subplots(1, 2, figsize=(10, 5))  # Adjust figsize as needed\n",
    "\n",
    "# Plot the train confusion matrix\n",
    "disp_train = ConfusionMatrixDisplay(confusion_matrix=train_cm)\n",
    "disp_train.plot(ax=ax[0], cmap='Greens')\n",
    "ax[0].set_title(\"Train Confusion Matrix\")\n",
    "\n",
    "# Plot the validation confusion matrix\n",
    "disp_val = ConfusionMatrixDisplay(confusion_matrix=val_cm)\n",
    "disp_val.plot(ax=ax[1], cmap='Greens')  # Plot on the second subplot\n",
    "ax[1].set_title(\"Validation Confusion Matrix\")\n",
    "\n",
    "# Show the plot\n",
    "plt.tight_layout()  # Adjust layout to prevent overlap\n",
    "plt.show()"
   ]
  },
  {
   "cell_type": "code",
   "execution_count": null,
   "id": "c9847be7-989c-42e9-8dcf-470428ed2b7b",
   "metadata": {},
   "outputs": [],
   "source": []
  },
  {
   "cell_type": "code",
   "execution_count": null,
   "id": "55367df6-1581-4083-8498-cb9a64c4a135",
   "metadata": {},
   "outputs": [],
   "source": []
  },
  {
   "cell_type": "code",
   "execution_count": 17,
   "id": "a4718d54-88c2-45d6-9a73-288c7c39df25",
   "metadata": {},
   "outputs": [],
   "source": [
    "def generate_saliency_map(model, image, target_class=None, device=\"cpu\"):\n",
    "    \"\"\"\n",
    "    Generate the saliency map for a given image using the model.\n",
    "\n",
    "    Parameters:\n",
    "        model (nn.Module): The model to compute the saliency map for.\n",
    "        image (Tensor): The input image tensor with shape (C, H, W).\n",
    "        target_class (int or None): The class index to compute the saliency map for. If None, uses the class with the highest score.\n",
    "\n",
    "    Returns:\n",
    "        saliency_map (Tensor): The saliency map highlighting the important regions.\n",
    "    \"\"\"\n",
    "\n",
    "    # Define image transformation\n",
    "    img_transform = transforms.Compose([ transforms.ToTensor() ])\n",
    "    \n",
    "    # Apply transformation and move to device\n",
    "    input_tensor = img_transform(image).unsqueeze(0).to(device)  # Add batch dimension\n",
    "    input_tensor.requires_grad_(True)  # Enable gradient computation for the input\n",
    "\n",
    "    # Ensure the model is in evaluation mode\n",
    "    model.eval()\n",
    "    output = model(input_tensor)  # Forward pass\n",
    "\n",
    "    # If no target class is specified, use the class with the highest output score\n",
    "    if target_class is None:\n",
    "        target_class = output.argmax(dim=1).item()\n",
    "        print(\"predicted class\", target_class)\n",
    "\n",
    "    model.zero_grad()   # Zero all existing gradients\n",
    "\n",
    "    # Compute the gradient of the output with respect to the input image for the target class\n",
    "    output[0, target_class].backward()\n",
    "\n",
    "    # Get the absolute value of the gradients\n",
    "    saliency_map, _ = torch.max(input_tensor.grad.data.abs(), dim=1)\n",
    "\n",
    "    # Normalize the saliency map to [0, 1]\n",
    "    saliency_map = saliency_map.squeeze().cpu().detach().numpy()\n",
    "    saliency_map = np.maximum(saliency_map, 0)\n",
    "    saliency_map = saliency_map / (saliency_map.max() + 1e-6)\n",
    "\n",
    "    return saliency_map"
   ]
  },
  {
   "cell_type": "code",
   "execution_count": 18,
   "id": "ea7a399b-1d4e-4e7a-8f95-8c8bdc598d7d",
   "metadata": {},
   "outputs": [
    {
     "data": {
      "text/html": [
       "<div>\n",
       "<style scoped>\n",
       "    .dataframe tbody tr th:only-of-type {\n",
       "        vertical-align: middle;\n",
       "    }\n",
       "\n",
       "    .dataframe tbody tr th {\n",
       "        vertical-align: top;\n",
       "    }\n",
       "\n",
       "    .dataframe thead th {\n",
       "        text-align: right;\n",
       "    }\n",
       "</style>\n",
       "<table border=\"1\" class=\"dataframe\">\n",
       "  <thead>\n",
       "    <tr style=\"text-align: right;\">\n",
       "      <th></th>\n",
       "      <th>name</th>\n",
       "      <th>degradation_target</th>\n",
       "    </tr>\n",
       "  </thead>\n",
       "  <tbody>\n",
       "    <tr>\n",
       "      <th>0</th>\n",
       "      <td>c9d61a6d-986df2e9_3.png</td>\n",
       "      <td>0</td>\n",
       "    </tr>\n",
       "    <tr>\n",
       "      <th>1</th>\n",
       "      <td>c9d61a6d-986df2e9_5.png</td>\n",
       "      <td>0</td>\n",
       "    </tr>\n",
       "    <tr>\n",
       "      <th>2</th>\n",
       "      <td>c9d61a6d-986df2e9_6.png</td>\n",
       "      <td>2</td>\n",
       "    </tr>\n",
       "  </tbody>\n",
       "</table>\n",
       "</div>"
      ],
      "text/plain": [
       "                      name  degradation_target\n",
       "0  c9d61a6d-986df2e9_3.png                   0\n",
       "1  c9d61a6d-986df2e9_5.png                   0\n",
       "2  c9d61a6d-986df2e9_6.png                   2"
      ]
     },
     "execution_count": 18,
     "metadata": {},
     "output_type": "execute_result"
    }
   ],
   "source": [
    "csv_path = dataset_config[\"val\"][\"degradation_values_csv\"]\n",
    "dir_path = dataset_config[\"val\"][\"img_dir\"]\n",
    "df = pd.read_csv(csv_path)\n",
    "df.head(3)"
   ]
  },
  {
   "cell_type": "code",
   "execution_count": null,
   "id": "08c4f6de-3b54-41b5-a6aa-1918d79dafd0",
   "metadata": {},
   "outputs": [],
   "source": []
  },
  {
   "cell_type": "code",
   "execution_count": 27,
   "id": "f8ada2b2-5a0d-49df-9aab-61ca422f671c",
   "metadata": {},
   "outputs": [],
   "source": [
    "row = df.sample(1)\n",
    "img_name, label = row[\"name\"].values[0], row[\"degradation_target\"].values[0]\n",
    "p = os.path.join(dir_path, img_name)\n",
    "img = load_image(p)"
   ]
  },
  {
   "cell_type": "code",
   "execution_count": 28,
   "id": "67148251-6ce2-4205-89b4-8568c13f14d4",
   "metadata": {},
   "outputs": [
    {
     "name": "stdout",
     "output_type": "stream",
     "text": [
      "target class 0\n",
      "predicted class 0\n"
     ]
    },
    {
     "data": {
      "image/png": "[encoded data removed]",
      "text/plain": [
       "<Figure size 864x864 with 2 Axes>"
      ]
     },
     "metadata": {
      "needs_background": "light"
     },
     "output_type": "display_data"
    }
   ],
   "source": [
    "# Generate saliency map\n",
    "print(\"target class\", label)\n",
    "saliency = generate_saliency_map(model, img, device=training.DEVICE)\n",
    "\n",
    "# Plot the saliency map\n",
    "fig, axes = plt.subplots(1, 2, figsize=(12, 12))\n",
    "axes[0].imshow(img)\n",
    "axes[0].set_title('Original Image')\n",
    "axes[0].axis('off')\n",
    "\n",
    "# Plot the saliency map\n",
    "axes[1].imshow(saliency, cmap='hot')\n",
    "axes[1].set_title('Saliency Map')\n",
    "axes[1].axis('off')\n",
    "\n",
    "plt.tight_layout()\n",
    "plt.show()"
   ]
  },
  {
   "cell_type": "code",
   "execution_count": null,
   "id": "8ae18d42-a44a-4042-91e9-66ec43d0b5ef",
   "metadata": {},
   "outputs": [],
   "source": []
  },
  {
   "cell_type": "code",
   "execution_count": null,
   "id": "527ffb25-b82a-4b84-a19c-ae612f238b9b",
   "metadata": {},
   "outputs": [],
   "source": []
  },
  {
   "cell_type": "code",
   "execution_count": null,
   "id": "8cd52724-155a-40d2-940e-344f0c1f7a91",
   "metadata": {},
   "outputs": [],
   "source": []
  },
  {
   "cell_type": "markdown",
   "id": "9e30b3b9",
   "metadata": {},
   "source": [
    "# Inference"
   ]
  },
  {
   "cell_type": "code",
   "execution_count": null,
   "id": "7a2d6032",
   "metadata": {},
   "outputs": [],
   "source": [
    "saved_weight_path = \"experiment_results/checkpoints/cnn_sppf_final_2025-03-13_18-02-43.pth\"\n",
    "\n",
    "model_name = \"cnn_sppf\"\n",
    "model_config = {'in_channels': 3, 'out_dim': 1}"
   ]
  },
  {
   "cell_type": "code",
   "execution_count": null,
   "id": "252f2a6e",
   "metadata": {},
   "outputs": [],
   "source": [
    "# update preprocessing according to training\n",
    "resize_height, resize_width = 720, 1280\n",
    "\n",
    "# Define the image transformations\n",
    "img_transform = transforms.Compose([\n",
    "    transforms.ToPILImage(),\n",
    "    transforms.Resize((resize_height, resize_width)),   # ensure resize is same as used during training for loaded model \n",
    "    transforms.ToTensor()\n",
    "])"
   ]
  },
  {
   "cell_type": "code",
   "execution_count": null,
   "id": "72755e9f",
   "metadata": {},
   "outputs": [],
   "source": [
    "DEVICE = torch.device('cuda' if torch.cuda.is_available() else 'cpu')\n",
    "print(f\"Using DEVICE: {DEVICE}\")"
   ]
  },
  {
   "cell_type": "code",
   "execution_count": null,
   "id": "468ad395",
   "metadata": {},
   "outputs": [],
   "source": [
    "# initialize and load saved model\n",
    "model = load_saved_model(model_name=model_name, saved_weight_path=saved_weight_path, **model_config)\n",
    "model = model.to(DEVICE)"
   ]
  },
  {
   "cell_type": "code",
   "execution_count": null,
   "id": "c2f6605b",
   "metadata": {},
   "outputs": [],
   "source": [
    "test_img_path = \"../damage_ratio_calc_data/segmented_objects/191_jpg.rf.e27c030e763e58ce48964e670158b6e7/191_jpg.rf.e27c030e763e58ce48964e670158b6e7_object_4.png\"\n",
    "test_img = load_image(test_img_path)\n",
    "print(\"Test image shape:\", test_img.shape)\n",
    "plt.imshow(test_img)\n",
    "plt.axis(\"off\")\n",
    "plt.title(\"Input image\", fontsize=9)\n",
    "plt.show()"
   ]
  },
  {
   "cell_type": "code",
   "execution_count": null,
   "id": "b8601b32",
   "metadata": {},
   "outputs": [],
   "source": [
    "pred_val = pred_degradation_value(model=model, test_img=test_img, img_transform=None, add_batch_dim=True, device=DEVICE)\n",
    "print(\"Predicticted degradation value:\", pred_val)"
   ]
  }
 ],
 "metadata": {
  "kernelspec": {
   "display_name": "Python 3 (ipykernel)",
   "language": "python",
   "name": "python3"
  },
  "language_info": {
   "codemirror_mode": {
    "name": "ipython",
    "version": 3
   },
   "file_extension": ".py",
   "mimetype": "text/x-python",
   "name": "python",
   "nbconvert_exporter": "python",
   "pygments_lexer": "ipython3",
   "version": "3.10.12"
  }
 },
 "nbformat": 4,
 "nbformat_minor": 5
}

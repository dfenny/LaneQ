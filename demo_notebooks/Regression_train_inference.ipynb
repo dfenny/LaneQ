{
 "cells": [
  {
   "cell_type": "markdown",
   "id": "e4e1d150-b76b-4c0b-95fe-90491ee69738",
   "metadata": {},
   "source": [
    "_**Note:** This notebook is intended solely as a demonstration of how to use the developed codebase. The outputs and results presented here are for illustrative purposes only and should not be considered accurate, validated, or representative of real-world performance. The focus of this notebook is on showcasing functionality, not on the correctness or significance of the results._"
   ]
  },
  {
   "cell_type": "code",
   "execution_count": 1,
   "id": "56ad96b1",
   "metadata": {},
   "outputs": [
    {
     "data": {
      "text/html": [
       "<style>.container { width:98% !important; }</style>"
      ],
      "text/plain": [
       "<IPython.core.display.HTML object>"
      ]
     },
     "metadata": {},
     "output_type": "display_data"
    }
   ],
   "source": [
    "from IPython.display import display, HTML\n",
    "display(HTML(\"<style>.container { width:98% !important; }</style>\"))\n",
    "\n",
    "%load_ext autoreload\n",
    "%autoreload 2\n",
    "\n",
    "import os\n",
    "# import numpy as np\n",
    "import pandas as pd\n",
    "import matplotlib.pyplot as plt\n",
    "from pprint import pprint\n",
    "\n",
    "import torch\n",
    "import torch.nn as nn\n",
    "import torch.optim as optim\n",
    "from torchvision import transforms"
   ]
  },
  {
   "cell_type": "code",
   "execution_count": 2,
   "id": "01d086ce-2eb9-404d-acaf-97ddaca0ba12",
   "metadata": {},
   "outputs": [],
   "source": [
    "import sys\n",
    "sys.path.append('../')  # path to root of code_base directory - Only if not installed as a package\n",
    "\n",
    "from code_base.model_suite.dataloader import generate_dataloader\n",
    "\n",
    "from code_base.model_suite import training \n",
    "from code_base.model_suite.training import get_loss, train_loop\n",
    "from code_base.model_suite.architectures import get_model\n",
    "from code_base.model_suite.evaluation_metrics import cal_regression_metrics\n",
    "\n",
    "from code_base.model_suite.utils.inference_utils import load_saved_model, pred_degradation_value\n",
    "from code_base.model_suite.utils.common import load_config\n",
    "from code_base.model_suite.utils.preprocessing import load_image"
   ]
  },
  {
   "cell_type": "code",
   "execution_count": 3,
   "id": "913251c8",
   "metadata": {},
   "outputs": [],
   "source": [
    "torch.cuda.empty_cache()"
   ]
  },
  {
   "cell_type": "code",
   "execution_count": null,
   "id": "a4d62cf7",
   "metadata": {},
   "outputs": [],
   "source": []
  },
  {
   "cell_type": "markdown",
   "id": "0fef9a1e",
   "metadata": {},
   "source": [
    "# Training"
   ]
  },
  {
   "cell_type": "code",
   "execution_count": 4,
   "id": "ab49fc2a",
   "metadata": {},
   "outputs": [
    {
     "name": "stdout",
     "output_type": "stream",
     "text": [
      "{'data_loader': {'batch_size': 1, 'num_workers': 2, 'shuffle': True},\n",
      " 'dataset_loc': {'dataset_type': 'regression',\n",
      "                 'train': {'degradation_csv': '/cs6945share/retro_project/bdd100k/generated_segments/train.csv',\n",
      "                           'img_dir': '/cs6945share/retro_project/bdd100k/images/train',\n",
      "                           'random_subset': None},\n",
      "                 'val': {'degradation_csv': '/cs6945share/retro_project/bdd100k/generated_segments/val.csv',\n",
      "                         'img_dir': '/cs6945share/retro_project/bdd100k/images/val',\n",
      "                         'random_subset': None}},\n",
      " 'enable_cuda': True,\n",
      " 'model': {'in_channels': 3, 'out_dim': 1},\n",
      " 'results_loc': './experiment_results/',\n",
      " 'training': {'learning_rate': 0.05,\n",
      "              'loss_fn_name': 'MSE',\n",
      "              'num_epochs': 10,\n",
      "              'resume_checkpoint': None,\n",
      "              'save_checkpoint_freq': 5}}\n"
     ]
    }
   ],
   "source": [
    "config_path = \"../configs/regression.yaml\"\n",
    "config = load_config(config_path)\n",
    "pprint(config)"
   ]
  },
  {
   "cell_type": "code",
   "execution_count": 5,
   "id": "19c75bfc-14e9-43d0-b745-607868e464c3",
   "metadata": {},
   "outputs": [],
   "source": [
    "# # copy paste above config here foro quick edit and experimentation\n",
    "config = {\n",
    "  'data_loader': {\n",
    "    'batch_size': 1,\n",
    "    'num_workers': 2,\n",
    "    'shuffle': True\n",
    "  },\n",
    "    \n",
    "  'dataset_loc': {\n",
    "    'dataset_type': 'regression',\n",
    "    'train': {\n",
    "      'degradation_csv': '/cs6945share/retro_project/regression_bdd100k/segments/degradation_segment_labels_train_balanced.csv',\n",
    "      'img_dir': '/cs6945share/retro_project/regression_bdd100k/segments/train/',\n",
    "      'random_subset': None\n",
    "    },\n",
    "    'val': {\n",
    "      'degradation_csv': '/cs6945share/retro_project/regression_bdd100k/segments/degradation_segment_labels_val_balanced.csv',\n",
    "      'img_dir': '/cs6945share/retro_project/regression_bdd100k/segments/val/',\n",
    "      'random_subset': None\n",
    "    }\n",
    "  },\n",
    "  'enable_cuda': True,\n",
    "    \n",
    "  'model': {\n",
    "    'in_channels': 3,\n",
    "    'out_dim': 1\n",
    "  },\n",
    "    \n",
    "  'results_loc': '../experiment_results/',\n",
    "    \n",
    "  'training': {\n",
    "    'learning_rate': 0.001,\n",
    "    'loss_fn_name': 'MSE',\n",
    "    'num_epochs': 5,\n",
    "    'resume_checkpoint': None,\n",
    "    'save_checkpoint_freq': 5\n",
    "  }\n",
    "}"
   ]
  },
  {
   "cell_type": "code",
   "execution_count": 6,
   "id": "f52d01bb",
   "metadata": {},
   "outputs": [],
   "source": [
    "# get required config parameters\n",
    "model_config = config[\"model\"]\n",
    "dataset_config = config[\"dataset_loc\"]\n",
    "dataloader_config = config[\"data_loader\"]\n",
    "preprocess_config = config.get(\"dataset_preprocessing\", None)\n",
    "train_config = config[\"training\"]"
   ]
  },
  {
   "cell_type": "code",
   "execution_count": 7,
   "id": "75f6ee7a",
   "metadata": {},
   "outputs": [
    {
     "name": "stdout",
     "output_type": "stream",
     "text": [
      "Using DEVICE: cuda\n"
     ]
    }
   ],
   "source": [
    "if config[\"enable_cuda\"]:\n",
    "    training.DEVICE = torch.device('cuda' if torch.cuda.is_available() else 'cpu')\n",
    "    DEVICE = training.DEVICE\n",
    "    print(f\"Using DEVICE: {training.DEVICE}\")"
   ]
  },
  {
   "cell_type": "code",
   "execution_count": 8,
   "id": "20f7ce7a",
   "metadata": {},
   "outputs": [
    {
     "name": "stdout",
     "output_type": "stream",
     "text": [
      "Train Dataset loaded. #samples: 2000\n",
      "Validation Dataset loaded. #samples: 1000\n"
     ]
    }
   ],
   "source": [
    "# update img trasnform if required\n",
    "\n",
    "train_transform = transforms.Compose([\n",
    "    transforms.ToPILImage(),\n",
    "    transforms.RandomHorizontalFlip(p=0.5),  # Flip images horizontally with 50% probability\n",
    "    transforms.ToTensor()                    # Convert the image to a tensor\n",
    "])\n",
    "\n",
    "# generate train data loader\n",
    "train_loader, train_size = generate_dataloader(dataset_type=dataset_config[\"dataset_type\"],\n",
    "                                               data_loc=dataset_config[\"train\"],\n",
    "                                               dataloader_config=dataloader_config,\n",
    "                                               preprocess_config=preprocess_config)\n",
    "\n",
    "# generate validation data loader\n",
    "val_loader, val_size = generate_dataloader(dataset_type=dataset_config[\"dataset_type\"],\n",
    "                                           data_loc=dataset_config[\"val\"],\n",
    "                                           dataloader_config=dataloader_config,\n",
    "                                           preprocess_config=preprocess_config)\n",
    "\n",
    "print(f\"Train Dataset loaded. #samples: {train_size}\")\n",
    "print(f\"Validation Dataset loaded. #samples: {val_size}\")"
   ]
  },
  {
   "cell_type": "code",
   "execution_count": 16,
   "id": "a41c6259",
   "metadata": {},
   "outputs": [
    {
     "name": "stdout",
     "output_type": "stream",
     "text": [
      "Image batch shape: torch.Size([1, 3, 133, 107])\n",
      "Degradation label shape: torch.Size([1])\n",
      "Degradation target: tensor(0.6040)\n"
     ]
    },
    {
     "data": {
      "image/png": "[encoded data removed]",
      "text/plain": [
       "<Figure size 1080x360 with 1 Axes>"
      ]
     },
     "metadata": {
      "needs_background": "light"
     },
     "output_type": "display_data"
    }
   ],
   "source": [
    "# Ensure that we are getting correct data from data loaders\n",
    "batch_img, degradation_values = next(iter(train_loader))\n",
    "\n",
    "print(\"Image batch shape:\", batch_img.shape) \n",
    "print(\"Degradation label shape:\", degradation_values.shape) \n",
    "print(\"Degradation target:\", degradation_values[0])\n",
    "\n",
    "sample_img = batch_img[0].numpy()   # (c, h, w)\n",
    "sample_img = sample_img.transpose(1, 2, 0)\n",
    "\n",
    "# sample_mask = batch_mask[0].numpy()   # (c, h, w)\n",
    "# sample_mask = np.squeeze(sample_mask) # (h, w)\n",
    "\n",
    "fig, ax = plt.subplots(figsize=(15, 5))\n",
    "ax.imshow(sample_img)\n",
    "ax.set_title(\"input image\")\n",
    "ax.axis(\"off\")\n",
    "plt.show()"
   ]
  },
  {
   "cell_type": "code",
   "execution_count": null,
   "id": "529ae6ce",
   "metadata": {},
   "outputs": [],
   "source": []
  },
  {
   "cell_type": "code",
   "execution_count": 17,
   "id": "ec6a6089",
   "metadata": {},
   "outputs": [],
   "source": [
    "# Initializing the model, loss function, and the optimizer\n",
    "model_name = \"cnn_sppf\"\n",
    "model = get_model(model_name, **model_config)\n",
    "model = model.to(training.DEVICE)\n",
    "\n",
    "## fetch loss function as set in config\n",
    "criterion = get_loss(train_config[\"loss_fn_name\"])\n",
    "\n",
    "## OR add your own loss fucntion like shown below\n",
    "# from model_suite.focal_loss import FocalLoss\n",
    "# num_classes = 3\n",
    "# alpha = [1.0, 1.2, 1.2]  # Example class weights\n",
    "# criterion = FocalLoss(gamma=2, alpha=alpha, task_type='multi-class', num_classes=num_classes)\n",
    "\n",
    "# initialized optimizer as required\n",
    "optimizer = optim.Adam(model.parameters(), lr=train_config[\"learning_rate\"])\n",
    "\n",
    "checkpoint_path = train_config[\"resume_checkpoint\"]\n",
    "if checkpoint_path is not None:\n",
    "    model.load_state_dict((torch.load(checkpoint_path, weights_only=True)))\n",
    "    print(\"Model checkpoint loaded.\")"
   ]
  },
  {
   "cell_type": "code",
   "execution_count": 18,
   "id": "c0ab8b8c",
   "metadata": {},
   "outputs": [
    {
     "name": "stdout",
     "output_type": "stream",
     "text": [
      "Training Started...\n"
     ]
    },
    {
     "name": "stderr",
     "output_type": "stream",
     "text": [
      "Epoch: 1 train - :   0%|          | 0/2000 [00:00<?, ?it/s]/home/default/.local/lib/python3.10/site-packages/torch/nn/modules/loss.py:610: UserWarning: Using a target size (torch.Size([1])) that is different to the input size (torch.Size([1, 1])). This will likely lead to incorrect results due to broadcasting. Please ensure they have the same size.\n",
      "  return F.mse_loss(input, target, reduction=self.reduction)\n",
      "Epoch: 1 train - : 100%|██████████| 2000/2000 [00:33<00:00, 59.54it/s] \n",
      "Epoch: 1 val - : 100%|██████████| 1000/1000 [00:05<00:00, 195.16it/s]\n"
     ]
    },
    {
     "name": "stdout",
     "output_type": "stream",
     "text": [
      "Epoch [1/5], Train Loss: 0.0935, Val Loss: 0.0854, Epoch execution time: 0.65 min\n"
     ]
    },
    {
     "name": "stderr",
     "output_type": "stream",
     "text": [
      "Epoch: 2 train - : 100%|██████████| 2000/2000 [00:25<00:00, 77.43it/s] \n",
      "Epoch: 2 val - : 100%|██████████| 1000/1000 [00:04<00:00, 216.35it/s]\n"
     ]
    },
    {
     "name": "stdout",
     "output_type": "stream",
     "text": [
      "Epoch [2/5], Train Loss: 0.0972, Val Loss: 0.0849, Epoch execution time: 0.51 min\n"
     ]
    },
    {
     "name": "stderr",
     "output_type": "stream",
     "text": [
      "Epoch: 3 train - : 100%|██████████| 2000/2000 [00:28<00:00, 71.41it/s]\n",
      "Epoch: 3 val - : 100%|██████████| 1000/1000 [00:04<00:00, 224.01it/s]\n"
     ]
    },
    {
     "name": "stdout",
     "output_type": "stream",
     "text": [
      "Epoch [3/5], Train Loss: 0.0871, Val Loss: 0.0863, Epoch execution time: 0.54 min\n"
     ]
    },
    {
     "name": "stderr",
     "output_type": "stream",
     "text": [
      "Epoch: 4 train - : 100%|██████████| 2000/2000 [00:25<00:00, 77.25it/s] \n",
      "Epoch: 4 val - : 100%|██████████| 1000/1000 [00:04<00:00, 204.76it/s]\n"
     ]
    },
    {
     "name": "stdout",
     "output_type": "stream",
     "text": [
      "Epoch [4/5], Train Loss: 0.0862, Val Loss: 0.0855, Epoch execution time: 0.51 min\n"
     ]
    },
    {
     "name": "stderr",
     "output_type": "stream",
     "text": [
      "Epoch: 5 train - : 100%|██████████| 2000/2000 [00:26<00:00, 74.25it/s] \n",
      "Epoch: 5 val - : 100%|██████████| 1000/1000 [00:04<00:00, 203.93it/s]\n"
     ]
    },
    {
     "name": "stdout",
     "output_type": "stream",
     "text": [
      "Epoch [5/5], Train Loss: 0.0852, Val Loss: 0.0837, Epoch execution time: 0.53 min\n",
      "   Learning curve saved to ../experiment_results/train_log/learning_curve_2025-04-16_07-03-04.png\n",
      "   Learning history saved to ../experiment_results/train_log/learning_history_2025-04-16_07-03-04.json\n",
      "Model saved at: ../experiment_results/checkpoints/cnn_sppf_final_2025-04-16_07-03-04.pth\n",
      "Training Completed! Total time: 2.7386 min\n"
     ]
    }
   ],
   "source": [
    "# train the model\n",
    "train_loop(model=model, loss_fn=criterion, optimizer=optimizer,\n",
    "           train_loader=train_loader, val_loader=val_loader,\n",
    "           num_epochs=train_config[\"num_epochs\"], save_path=config[\"results_loc\"],\n",
    "           checkpoint_freq=train_config[\"save_checkpoint_freq\"], save_prefix=model_name)"
   ]
  },
  {
   "cell_type": "code",
   "execution_count": 19,
   "id": "c5a5c1ab",
   "metadata": {},
   "outputs": [
    {
     "data": {
      "image/png": "[encoded data removed]",
      "text/plain": [
       "<Figure size 432x288 with 1 Axes>"
      ]
     },
     "metadata": {
      "needs_background": "light"
     },
     "output_type": "display_data"
    }
   ],
   "source": [
    "# open saved learning curve\n",
    "plot_saved_path = \"../experiment_results/train_log/learning_curve_2025-04-16_07-03-04.png\"\n",
    "img = load_image(plot_saved_path)\n",
    "plt.imshow(img)\n",
    "plt.axis(\"off\")\n",
    "plt.show()"
   ]
  },
  {
   "cell_type": "code",
   "execution_count": 20,
   "id": "107e658d",
   "metadata": {},
   "outputs": [
    {
     "name": "stderr",
     "output_type": "stream",
     "text": [
      "100%|██████████| 2000/2000 [00:06<00:00, 303.94it/s]\n",
      "100%|██████████| 1000/1000 [00:04<00:00, 247.74it/s]\n"
     ]
    }
   ],
   "source": [
    "# Evaluate model performance at end of training using different losses\n",
    "train_metrics = cal_regression_metrics(model, train_loader, device=DEVICE)\n",
    "val_metrics = cal_regression_metrics(model, val_loader, device=DEVICE)"
   ]
  },
  {
   "cell_type": "code",
   "execution_count": 21,
   "id": "c5804ba0-9bf7-4c27-b381-dfc7e2ae2953",
   "metadata": {},
   "outputs": [
    {
     "name": "stdout",
     "output_type": "stream",
     "text": [
      "Train Error: {'MSE': 0.0833, 'MAE': 0.249, 'R2': 0.0226}\n",
      "Validation Error: {'MSE': 0.0837, 'MAE': 0.2504, 'R2': 0.0273}\n"
     ]
    }
   ],
   "source": [
    "print(f\"Train Error: {train_metrics}\")\n",
    "print(f\"Validation Error: {val_metrics}\")"
   ]
  },
  {
   "cell_type": "code",
   "execution_count": null,
   "id": "800dcbee",
   "metadata": {},
   "outputs": [],
   "source": []
  },
  {
   "cell_type": "code",
   "execution_count": null,
   "id": "7b19a541",
   "metadata": {},
   "outputs": [],
   "source": []
  },
  {
   "cell_type": "markdown",
   "id": "2c65cd0a",
   "metadata": {},
   "source": [
    "# Inference"
   ]
  },
  {
   "cell_type": "code",
   "execution_count": 22,
   "id": "0ca34971-4509-48ee-a676-287a9dc74d0f",
   "metadata": {},
   "outputs": [],
   "source": [
    "saved_weight_path = \"../experiment_results/checkpoints/cnn_sppf_final_2025-04-16_07-03-04.pth\""
   ]
  },
  {
   "cell_type": "code",
   "execution_count": 23,
   "id": "7b6669db-4dfa-45c9-b84c-b9a897034208",
   "metadata": {},
   "outputs": [],
   "source": [
    "model_name = \"cnn_sppf\"\n",
    "model_config = {'in_channels': 3, 'out_dim': 1}"
   ]
  },
  {
   "cell_type": "code",
   "execution_count": 24,
   "id": "35d32eb0-6b63-489c-9847-6739867607fa",
   "metadata": {},
   "outputs": [
    {
     "name": "stdout",
     "output_type": "stream",
     "text": [
      "Using DEVICE: cuda\n"
     ]
    }
   ],
   "source": [
    "DEVICE = torch.device('cuda' if torch.cuda.is_available() else 'cpu')\n",
    "print(f\"Using DEVICE: {DEVICE}\")"
   ]
  },
  {
   "cell_type": "code",
   "execution_count": 25,
   "id": "81a80970-b0f7-4b45-8728-6849ef48ed57",
   "metadata": {},
   "outputs": [],
   "source": [
    "# initialize and load saved model\n",
    "model = load_saved_model(model_name=model_name, saved_weight_path=saved_weight_path, **model_config)\n",
    "model = model.to(DEVICE)"
   ]
  },
  {
   "cell_type": "code",
   "execution_count": 26,
   "id": "53b28a8f-4a60-487c-9144-b87b5e0840c6",
   "metadata": {
    "scrolled": true
   },
   "outputs": [],
   "source": [
    "csv_path = dataset_config[\"val\"][\"degradation_csv\"]\n",
    "dir_path = dataset_config[\"val\"][\"img_dir\"]\n",
    "df = pd.read_csv(csv_path)\n",
    "\n",
    "row = df.sample(1)\n",
    "test_img_name, label = row[\"name\"].values[0], row[\"degradation\"].values[0]\n",
    "test_img_path = os.path.join(dir_path, test_img_name)\n",
    "test_img = load_image(test_img_path)"
   ]
  },
  {
   "cell_type": "code",
   "execution_count": 27,
   "id": "bd3e6db1-b59c-4bfe-aaa9-fecb3b9543c3",
   "metadata": {},
   "outputs": [
    {
     "name": "stdout",
     "output_type": "stream",
     "text": [
      "Test image name: b23adb0d-8a7aaced_2.png\n",
      "Test image shape: (107, 178, 3)\n"
     ]
    },
    {
     "data": {
      "image/png": "[encoded data removed]",
      "text/plain": [
       "<Figure size 432x288 with 1 Axes>"
      ]
     },
     "metadata": {
      "needs_background": "light"
     },
     "output_type": "display_data"
    }
   ],
   "source": [
    "print(\"Test image name:\", test_img_name)\n",
    "print(\"Test image shape:\", test_img.shape)\n",
    "plt.imshow(test_img)\n",
    "plt.axis(\"off\")\n",
    "plt.title(\"Input image\", fontsize=9)\n",
    "plt.show()"
   ]
  },
  {
   "cell_type": "code",
   "execution_count": 28,
   "id": "a742ff97-4571-4749-9424-a7d7fb363791",
   "metadata": {},
   "outputs": [
    {
     "name": "stdout",
     "output_type": "stream",
     "text": [
      "Predicticted degradation value: 0.5132\n"
     ]
    }
   ],
   "source": [
    "pred_value = pred_degradation_value(model=model, test_img=test_img, img_transform=None, add_batch_dim=True, device=DEVICE)\n",
    "print(\"Predicticted degradation value:\", pred_value)"
   ]
  },
  {
   "cell_type": "code",
   "execution_count": null,
   "id": "f67c4a14-ffe2-4dcd-bb1f-a8f5b9d22c8f",
   "metadata": {},
   "outputs": [],
   "source": []
  }
 ],
 "metadata": {
  "kernelspec": {
   "display_name": "Python 3 (ipykernel)",
   "language": "python",
   "name": "python3"
  },
  "language_info": {
   "codemirror_mode": {
    "name": "ipython",
    "version": 3
   },
   "file_extension": ".py",
   "mimetype": "text/x-python",
   "name": "python",
   "nbconvert_exporter": "python",
   "pygments_lexer": "ipython3",
   "version": "3.10.12"
  }
 },
 "nbformat": 4,
 "nbformat_minor": 5
}

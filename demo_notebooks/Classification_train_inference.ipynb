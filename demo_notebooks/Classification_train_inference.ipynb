{
 "cells": [
  {
   "cell_type": "code",
   "execution_count": 1,
   "id": "56ad96b1",
   "metadata": {},
   "outputs": [
    {
     "data": {
      "text/html": [
       "<style>.container { width:98% !important; }</style>"
      ],
      "text/plain": [
       "<IPython.core.display.HTML object>"
      ]
     },
     "metadata": {},
     "output_type": "display_data"
    }
   ],
   "source": [
    "from IPython.display import display, HTML\n",
    "display(HTML(\"<style>.container { width:98% !important; }</style>\"))\n",
    "\n",
    "%load_ext autoreload\n",
    "%autoreload 2\n",
    "\n",
    "import os\n",
    "# import numpy as np\n",
    "import pandas as pd\n",
    "import matplotlib.pyplot as plt\n",
    "from pprint import pprint\n",
    "\n",
    "import torch\n",
    "import torch.nn as nn\n",
    "import torch.optim as optim\n",
    "from torchvision import transforms"
   ]
  },
  {
   "cell_type": "code",
   "execution_count": 35,
   "id": "1e74792c",
   "metadata": {},
   "outputs": [],
   "source": [
    "import sys\n",
    "sys.path.append('../code_base')  # Only if not installed as a package\n",
    "\n",
    "from model_suite.dataloader import generate_dataloader\n",
    "\n",
    "from model_suite import training \n",
    "from model_suite.training import get_loss, train_loop\n",
    "from model_suite.architectures import get_model\n",
    "from model_suite.evaluation_metrics import cal_classification_metrics\n",
    "\n",
    "from model_suite.utils.inference_utils import generate_saliency_map, load_saved_model, pred_degradation_category\n",
    "from model_suite.utils.common import load_config, visualize_confusion_matrix\n",
    "from model_suite.utils.preprocessing import load_image"
   ]
  },
  {
   "cell_type": "code",
   "execution_count": 3,
   "id": "913251c8",
   "metadata": {},
   "outputs": [],
   "source": [
    "torch.cuda.empty_cache()"
   ]
  },
  {
   "cell_type": "code",
   "execution_count": null,
   "id": "a4d62cf7",
   "metadata": {},
   "outputs": [],
   "source": []
  },
  {
   "cell_type": "markdown",
   "id": "0fef9a1e",
   "metadata": {},
   "source": [
    "# Training"
   ]
  },
  {
   "cell_type": "code",
   "execution_count": 4,
   "id": "ab49fc2a",
   "metadata": {},
   "outputs": [
    {
     "name": "stdout",
     "output_type": "stream",
     "text": [
      "{'data_loader': {'batch_size': 1, 'num_workers': 2, 'shuffle': True},\n",
      " 'dataset_loc': {'dataset_type': 'classification',\n",
      "                 'train': {'degradation_csv': '/cs6945share/retro_project/bdd100k/generated_segments/train.csv',\n",
      "                           'img_dir': '/cs6945share/retro_project/bdd100k/images/train',\n",
      "                           'random_subset': None},\n",
      "                 'val': {'degradation_csv': '/cs6945share/retro_project/bdd100k/generated_segments/val.csv',\n",
      "                         'img_dir': '/cs6945share/retro_project/bdd100k/images/val',\n",
      "                         'random_subset': None}},\n",
      " 'enable_cuda': True,\n",
      " 'model': {'in_channels': 3, 'out_dim': 3},\n",
      " 'results_loc': './experiment_results/',\n",
      " 'training': {'learning_rate': 0.05,\n",
      "              'loss_fn_name': 'CrossEntropy',\n",
      "              'num_epochs': 10,\n",
      "              'resume_checkpoint': None,\n",
      "              'save_checkpoint_freq': 5}}\n"
     ]
    }
   ],
   "source": [
    "config_path = \"../configs/classification.yaml\"\n",
    "config = load_config(config_path)\n",
    "pprint(config)"
   ]
  },
  {
   "cell_type": "code",
   "execution_count": 5,
   "id": "f9540d1e",
   "metadata": {},
   "outputs": [],
   "source": [
    "# # copy paste config here to edit and experiment\n",
    "config={\n",
    "  'data_loader': {\n",
    "    'batch_size': 1,\n",
    "    'num_workers': 2,\n",
    "    'shuffle': True\n",
    "  },\n",
    "    \n",
    "  'dataset_loc': {\n",
    "    'dataset_type': 'classification',\n",
    "    'train': {\n",
    "      'degradation_csv': '/cs6945share/retro_project/classification_bdd100k/segments_v5/degradation_segment_labels_train.csv',\n",
    "      'img_dir': '/cs6945share/retro_project/classification_bdd100k/segments_v5/train/',\n",
    "      'random_subset': None\n",
    "    },\n",
    "    'val': {\n",
    "      'degradation_csv': '/cs6945share/retro_project/classification_bdd100k/segments_v5/degradation_segment_labels_val.csv',\n",
    "      'img_dir': '/cs6945share/retro_project/classification_bdd100k/segments_v5/val/',\n",
    "      'random_subset': None\n",
    "    }\n",
    "  },\n",
    "  'enable_cuda': True,\n",
    "    \n",
    "  'model': {\n",
    "    'in_channels': 3,\n",
    "    'out_dim': 3\n",
    "  },\n",
    "    \n",
    "  'results_loc': '../experiment_results/',\n",
    "    \n",
    "  'training': {\n",
    "    'learning_rate': 0.05,\n",
    "    'loss_fn_name': 'CrossEntropy',\n",
    "    'num_epochs': 5,\n",
    "    'resume_checkpoint': None,\n",
    "    'save_checkpoint_freq': 5\n",
    "  }\n",
    "}"
   ]
  },
  {
   "cell_type": "code",
   "execution_count": 6,
   "id": "f52d01bb",
   "metadata": {},
   "outputs": [],
   "source": [
    "# get required config parameters\n",
    "model_config = config[\"model\"]\n",
    "dataset_config = config[\"dataset_loc\"]\n",
    "dataloader_config = config[\"data_loader\"]\n",
    "preprocess_config = config.get(\"dataset_preprocessing\", None)\n",
    "train_config = config[\"training\"]"
   ]
  },
  {
   "cell_type": "code",
   "execution_count": 7,
   "id": "75f6ee7a",
   "metadata": {},
   "outputs": [
    {
     "name": "stdout",
     "output_type": "stream",
     "text": [
      "Using DEVICE: cuda\n"
     ]
    }
   ],
   "source": [
    "if config[\"enable_cuda\"]:\n",
    "    training.DEVICE = torch.device('cuda' if torch.cuda.is_available() else 'cpu')\n",
    "    DEVICE = training.DEVICE\n",
    "    print(f\"Using DEVICE: {training.DEVICE}\")"
   ]
  },
  {
   "cell_type": "code",
   "execution_count": 8,
   "id": "20f7ce7a",
   "metadata": {},
   "outputs": [
    {
     "name": "stdout",
     "output_type": "stream",
     "text": [
      "Train Dataset loaded. #samples: 1235\n",
      "Validation Dataset loaded. #samples: 253\n"
     ]
    }
   ],
   "source": [
    "# update img trasnform if required\n",
    "\n",
    "train_transform = transforms.Compose([\n",
    "    transforms.ToPILImage(),\n",
    "    transforms.RandomHorizontalFlip(p=0.5),  # Flip images horizontally with 50% probability\n",
    "    transforms.ToTensor()                    # Convert the image to a tensor\n",
    "])\n",
    "\n",
    "# generate train data loader\n",
    "train_loader, train_size = generate_dataloader(dataset_type=dataset_config[\"dataset_type\"],\n",
    "                                               data_loc=dataset_config[\"train\"],\n",
    "                                               dataloader_config=dataloader_config,\n",
    "                                               preprocess_config=preprocess_config)\n",
    "\n",
    "# generate validation data loader\n",
    "val_loader, val_size = generate_dataloader(dataset_type=dataset_config[\"dataset_type\"],\n",
    "                                           data_loc=dataset_config[\"val\"],\n",
    "                                           dataloader_config=dataloader_config,\n",
    "                                           preprocess_config=preprocess_config)\n",
    "\n",
    "print(f\"Train Dataset loaded. #samples: {train_size}\")\n",
    "print(f\"Validation Dataset loaded. #samples: {val_size}\")"
   ]
  },
  {
   "cell_type": "code",
   "execution_count": 9,
   "id": "a41c6259",
   "metadata": {},
   "outputs": [
    {
     "name": "stdout",
     "output_type": "stream",
     "text": [
      "Image batch shape: torch.Size([1, 3, 194, 273])\n",
      "Degradation label shape: torch.Size([1, 3])\n",
      "Degradation target: tensor([1., 0., 0.])\n"
     ]
    },
    {
     "data": {
      "image/png": "[encoded data removed]",
      "text/plain": [
       "<Figure size 1080x360 with 1 Axes>"
      ]
     },
     "metadata": {
      "needs_background": "light"
     },
     "output_type": "display_data"
    }
   ],
   "source": [
    "# Ensure that we are getting correct data from data loaders\n",
    "batch_img, degradation_values = next(iter(train_loader))\n",
    "\n",
    "print(\"Image batch shape:\", batch_img.shape) \n",
    "print(\"Degradation label shape:\", degradation_values.shape) \n",
    "print(\"Degradation target:\", degradation_values[0])\n",
    "\n",
    "sample_img = batch_img[0].numpy()   # (c, h, w)\n",
    "sample_img = sample_img.transpose(1, 2, 0)\n",
    "\n",
    "# sample_mask = batch_mask[0].numpy()   # (c, h, w)\n",
    "# sample_mask = np.squeeze(sample_mask) # (h, w)\n",
    "\n",
    "fig, ax = plt.subplots(figsize=(15, 5))\n",
    "ax.imshow(sample_img)\n",
    "ax.set_title(\"input image\")\n",
    "ax.axis(\"off\")\n",
    "plt.show()"
   ]
  },
  {
   "cell_type": "code",
   "execution_count": null,
   "id": "529ae6ce",
   "metadata": {},
   "outputs": [],
   "source": []
  },
  {
   "cell_type": "code",
   "execution_count": 10,
   "id": "ec6a6089",
   "metadata": {},
   "outputs": [],
   "source": [
    "# Initializing the model, loss function, and the optimizer\n",
    "model_name = \"cnn_sppf\"\n",
    "model = get_model(model_name, **model_config)\n",
    "model = model.to(training.DEVICE)\n",
    "\n",
    "## fetch loss function as set in config\n",
    "# criterion = get_loss(train_config[\"loss_fn_name\"])\n",
    "\n",
    "## OR add your own loss fucntion like shown below\n",
    "# from model_suite.focal_loss import FocalLoss\n",
    "# num_classes = 3\n",
    "# alpha = [1.0, 1.2, 1.2]  # Example class weights\n",
    "# criterion = FocalLoss(gamma=2, alpha=alpha, task_type='multi-class', num_classes=num_classes)\n",
    "criterion = nn.CrossEntropyLoss()\n",
    "\n",
    "# initialized optimizer as required\n",
    "optimizer = optim.Adam(model.parameters(), lr=train_config[\"learning_rate\"])\n",
    "\n",
    "checkpoint_path = train_config[\"resume_checkpoint\"]\n",
    "if checkpoint_path is not None:\n",
    "    model.load_state_dict((torch.load(checkpoint_path, weights_only=True)))\n",
    "    print(\"Model checkpoint loaded.\")"
   ]
  },
  {
   "cell_type": "code",
   "execution_count": 11,
   "id": "c0ab8b8c",
   "metadata": {},
   "outputs": [
    {
     "name": "stdout",
     "output_type": "stream",
     "text": [
      "Training Started...\n"
     ]
    },
    {
     "name": "stderr",
     "output_type": "stream",
     "text": [
      "Epoch: 1 train - : 100%|██████████| 1235/1235 [00:24<00:00, 50.69it/s]\n",
      "Epoch: 1 val - : 100%|██████████| 253/253 [00:02<00:00, 124.27it/s]\n"
     ]
    },
    {
     "name": "stdout",
     "output_type": "stream",
     "text": [
      "Epoch [1/5], Train Loss: 2.4837, Val Loss: 1.0638, Epoch execution time: 0.44 min\n"
     ]
    },
    {
     "name": "stderr",
     "output_type": "stream",
     "text": [
      "Epoch: 2 train - : 100%|██████████| 1235/1235 [00:08<00:00, 152.21it/s]\n",
      "Epoch: 2 val - : 100%|██████████| 253/253 [00:01<00:00, 146.36it/s]\n"
     ]
    },
    {
     "name": "stdout",
     "output_type": "stream",
     "text": [
      "Epoch [2/5], Train Loss: 1.0472, Val Loss: 1.0906, Epoch execution time: 0.16 min\n"
     ]
    },
    {
     "name": "stderr",
     "output_type": "stream",
     "text": [
      "Epoch: 3 train - : 100%|██████████| 1235/1235 [00:09<00:00, 135.08it/s]\n",
      "Epoch: 3 val - : 100%|██████████| 253/253 [00:01<00:00, 145.01it/s]\n"
     ]
    },
    {
     "name": "stdout",
     "output_type": "stream",
     "text": [
      "Epoch [3/5], Train Loss: 1.0536, Val Loss: 1.1024, Epoch execution time: 0.18 min\n"
     ]
    },
    {
     "name": "stderr",
     "output_type": "stream",
     "text": [
      "Epoch: 4 train - : 100%|██████████| 1235/1235 [00:08<00:00, 150.92it/s]\n",
      "Epoch: 4 val - : 100%|██████████| 253/253 [00:01<00:00, 130.16it/s]\n"
     ]
    },
    {
     "name": "stdout",
     "output_type": "stream",
     "text": [
      "Epoch [4/5], Train Loss: 1.0515, Val Loss: 1.0692, Epoch execution time: 0.17 min\n"
     ]
    },
    {
     "name": "stderr",
     "output_type": "stream",
     "text": [
      "Epoch: 5 train - : 100%|██████████| 1235/1235 [00:08<00:00, 143.71it/s]\n",
      "Epoch: 5 val - : 100%|██████████| 253/253 [00:01<00:00, 147.56it/s]\n"
     ]
    },
    {
     "name": "stdout",
     "output_type": "stream",
     "text": [
      "Epoch [5/5], Train Loss: 1.0479, Val Loss: 1.0679, Epoch execution time: 0.17 min\n",
      "   Learning curve saved to ../experiment_results/train_log/learning_curve_2025-04-15_06-56-23.png\n",
      "   Learning history saved to ../experiment_results/train_log/learning_history_2025-04-15_06-56-23.json\n",
      "Model saved at: ../experiment_results/checkpoints/unet_final_2025-04-15_06-56-23.pth\n",
      "Training Completed! Total time: 1.1272 min\n"
     ]
    }
   ],
   "source": [
    "# train the model\n",
    "train_loop(model=model, loss_fn=criterion, optimizer=optimizer,\n",
    "           train_loader=train_loader, val_loader=val_loader,\n",
    "           num_epochs=train_config[\"num_epochs\"], save_path=config[\"results_loc\"],\n",
    "           checkpoint_freq=train_config[\"save_checkpoint_freq\"])"
   ]
  },
  {
   "cell_type": "code",
   "execution_count": 12,
   "id": "c5a5c1ab",
   "metadata": {},
   "outputs": [
    {
     "data": {
      "image/png": "[encoded data removed]",
      "text/plain": [
       "<Figure size 432x288 with 1 Axes>"
      ]
     },
     "metadata": {
      "needs_background": "light"
     },
     "output_type": "display_data"
    }
   ],
   "source": [
    "# open saved learning curve\n",
    "plot_saved_path = \"../experiment_results/train_log/learning_curve_2025-04-15_06-56-23.png\"\n",
    "img = load_image(plot_saved_path)\n",
    "plt.imshow(img)\n",
    "plt.axis(\"off\")\n",
    "plt.show()"
   ]
  },
  {
   "cell_type": "code",
   "execution_count": 13,
   "id": "107e658d",
   "metadata": {},
   "outputs": [
    {
     "name": "stderr",
     "output_type": "stream",
     "text": [
      "100%|██████████| 1235/1235 [00:03<00:00, 411.46it/s]\n",
      "100%|██████████| 253/253 [00:00<00:00, 324.52it/s]\n"
     ]
    }
   ],
   "source": [
    "# Evaluate model performance at end of training using different losses\n",
    "train_metrics, train_cm = cal_classification_metrics(model, train_loader, device=DEVICE)\n",
    "val_metrics, val_cm = cal_classification_metrics(model, val_loader, device=DEVICE)"
   ]
  },
  {
   "cell_type": "code",
   "execution_count": 14,
   "id": "c580f0c8",
   "metadata": {},
   "outputs": [
    {
     "data": {
      "text/html": [
       "<div>\n",
       "<style scoped>\n",
       "    .dataframe tbody tr th:only-of-type {\n",
       "        vertical-align: middle;\n",
       "    }\n",
       "\n",
       "    .dataframe tbody tr th {\n",
       "        vertical-align: top;\n",
       "    }\n",
       "\n",
       "    .dataframe thead th {\n",
       "        text-align: right;\n",
       "    }\n",
       "</style>\n",
       "<table border=\"1\" class=\"dataframe\">\n",
       "  <thead>\n",
       "    <tr style=\"text-align: right;\">\n",
       "      <th></th>\n",
       "      <th>train</th>\n",
       "      <th>val</th>\n",
       "    </tr>\n",
       "  </thead>\n",
       "  <tbody>\n",
       "    <tr>\n",
       "      <th>accuracy</th>\n",
       "      <td>0.5012</td>\n",
       "      <td>0.4901</td>\n",
       "    </tr>\n",
       "    <tr>\n",
       "      <th>precision</th>\n",
       "      <td>0.2512</td>\n",
       "      <td>0.2402</td>\n",
       "    </tr>\n",
       "    <tr>\n",
       "      <th>recall</th>\n",
       "      <td>0.5012</td>\n",
       "      <td>0.4901</td>\n",
       "    </tr>\n",
       "    <tr>\n",
       "      <th>f1</th>\n",
       "      <td>0.3347</td>\n",
       "      <td>0.3224</td>\n",
       "    </tr>\n",
       "  </tbody>\n",
       "</table>\n",
       "</div>"
      ],
      "text/plain": [
       "            train     val\n",
       "accuracy   0.5012  0.4901\n",
       "precision  0.2512  0.2402\n",
       "recall     0.5012  0.4901\n",
       "f1         0.3347  0.3224"
      ]
     },
     "metadata": {},
     "output_type": "display_data"
    }
   ],
   "source": [
    "stats = pd.DataFrame([train_metrics, val_metrics], index=[\"train\", \"val\"]).T\n",
    "display(stats)"
   ]
  },
  {
   "cell_type": "code",
   "execution_count": 15,
   "id": "fb5978c8",
   "metadata": {},
   "outputs": [
    {
     "data": {
      "image/png": "[encoded data removed]",
      "text/plain": [
       "<Figure size 720x360 with 4 Axes>"
      ]
     },
     "metadata": {
      "needs_background": "light"
     },
     "output_type": "display_data"
    }
   ],
   "source": [
    "visualize_confusion_matrix(train_cm=train_cm, val_cm=val_cm, label_names=[\"good\", \"slight\", \"severe\"])"
   ]
  },
  {
   "cell_type": "code",
   "execution_count": null,
   "id": "800dcbee",
   "metadata": {},
   "outputs": [],
   "source": []
  },
  {
   "cell_type": "markdown",
   "id": "8fcc7c1d-63f4-4a4c-9a88-feeffd6732f4",
   "metadata": {},
   "source": [
    "## Saliency map"
   ]
  },
  {
   "cell_type": "code",
   "execution_count": 16,
   "id": "01d1d02e",
   "metadata": {},
   "outputs": [
    {
     "data": {
      "text/html": [
       "<div>\n",
       "<style scoped>\n",
       "    .dataframe tbody tr th:only-of-type {\n",
       "        vertical-align: middle;\n",
       "    }\n",
       "\n",
       "    .dataframe tbody tr th {\n",
       "        vertical-align: top;\n",
       "    }\n",
       "\n",
       "    .dataframe thead th {\n",
       "        text-align: right;\n",
       "    }\n",
       "</style>\n",
       "<table border=\"1\" class=\"dataframe\">\n",
       "  <thead>\n",
       "    <tr style=\"text-align: right;\">\n",
       "      <th></th>\n",
       "      <th>name</th>\n",
       "      <th>degradation_target</th>\n",
       "    </tr>\n",
       "  </thead>\n",
       "  <tbody>\n",
       "    <tr>\n",
       "      <th>0</th>\n",
       "      <td>c9d61a6d-986df2e9_3.png</td>\n",
       "      <td>0</td>\n",
       "    </tr>\n",
       "    <tr>\n",
       "      <th>1</th>\n",
       "      <td>c9d61a6d-986df2e9_5.png</td>\n",
       "      <td>0</td>\n",
       "    </tr>\n",
       "    <tr>\n",
       "      <th>2</th>\n",
       "      <td>c9d61a6d-986df2e9_6.png</td>\n",
       "      <td>2</td>\n",
       "    </tr>\n",
       "  </tbody>\n",
       "</table>\n",
       "</div>"
      ],
      "text/plain": [
       "                      name  degradation_target\n",
       "0  c9d61a6d-986df2e9_3.png                   0\n",
       "1  c9d61a6d-986df2e9_5.png                   0\n",
       "2  c9d61a6d-986df2e9_6.png                   2"
      ]
     },
     "execution_count": 16,
     "metadata": {},
     "output_type": "execute_result"
    }
   ],
   "source": [
    "csv_path = dataset_config[\"val\"][\"degradation_csv\"]\n",
    "dir_path = dataset_config[\"val\"][\"img_dir\"]\n",
    "df = pd.read_csv(csv_path)\n",
    "df.head(3)"
   ]
  },
  {
   "cell_type": "code",
   "execution_count": 17,
   "id": "f752ae28",
   "metadata": {},
   "outputs": [],
   "source": [
    "row = df.sample(1)\n",
    "img_name, label = row[\"name\"].values[0], row[\"degradation_target\"].values[0]\n",
    "p = os.path.join(dir_path, img_name)\n",
    "img = load_image(p)"
   ]
  },
  {
   "cell_type": "code",
   "execution_count": 18,
   "id": "355bbded",
   "metadata": {},
   "outputs": [
    {
     "name": "stdout",
     "output_type": "stream",
     "text": [
      "target class 0\n",
      "Predicted Class 0\n"
     ]
    },
    {
     "data": {
      "image/png": "[encoded data removed]",
      "text/plain": [
       "<Figure size 864x864 with 2 Axes>"
      ]
     },
     "metadata": {
      "needs_background": "light"
     },
     "output_type": "display_data"
    }
   ],
   "source": [
    "# Generate saliency map\n",
    "print(\"target class\", label)\n",
    "saliency = generate_saliency_map(model, img, device=training.DEVICE)\n",
    "\n",
    "# Plot the saliency map\n",
    "fig, axes = plt.subplots(1, 2, figsize=(12, 12))\n",
    "axes[0].imshow(img[:, :, :3])\n",
    "axes[0].set_title('Original Image')\n",
    "axes[0].axis('off')\n",
    "\n",
    "# Plot the saliency map\n",
    "axes[1].imshow(saliency, cmap='hot')\n",
    "axes[1].set_title('Saliency Map')\n",
    "axes[1].axis('off')\n",
    "\n",
    "plt.tight_layout()\n",
    "plt.show()"
   ]
  },
  {
   "cell_type": "code",
   "execution_count": null,
   "id": "7b19a541",
   "metadata": {},
   "outputs": [],
   "source": []
  },
  {
   "cell_type": "markdown",
   "id": "2c65cd0a",
   "metadata": {},
   "source": [
    "# Inference"
   ]
  },
  {
   "cell_type": "code",
   "execution_count": 25,
   "id": "0ca34971-4509-48ee-a676-287a9dc74d0f",
   "metadata": {},
   "outputs": [],
   "source": [
    "saved_weight_path = \"../experiment_results/checkpoints/unet_final_2025-04-15_06-56-23.pth\""
   ]
  },
  {
   "cell_type": "code",
   "execution_count": 29,
   "id": "7b6669db-4dfa-45c9-b84c-b9a897034208",
   "metadata": {},
   "outputs": [],
   "source": [
    "model_name = \"cnn_sppf\"\n",
    "model_config = {'in_channels': 3, 'out_dim': 3}"
   ]
  },
  {
   "cell_type": "code",
   "execution_count": 30,
   "id": "35d32eb0-6b63-489c-9847-6739867607fa",
   "metadata": {},
   "outputs": [
    {
     "name": "stdout",
     "output_type": "stream",
     "text": [
      "Using DEVICE: cuda\n"
     ]
    }
   ],
   "source": [
    "DEVICE = torch.device('cuda' if torch.cuda.is_available() else 'cpu')\n",
    "print(f\"Using DEVICE: {DEVICE}\")"
   ]
  },
  {
   "cell_type": "code",
   "execution_count": 31,
   "id": "81a80970-b0f7-4b45-8728-6849ef48ed57",
   "metadata": {},
   "outputs": [],
   "source": [
    "# initialize and load saved model\n",
    "model = load_saved_model(model_name=model_name, saved_weight_path=saved_weight_path, **model_config)\n",
    "model = model.to(DEVICE)"
   ]
  },
  {
   "cell_type": "code",
   "execution_count": 32,
   "id": "53b28a8f-4a60-487c-9144-b87b5e0840c6",
   "metadata": {},
   "outputs": [],
   "source": [
    "csv_path = dataset_config[\"val\"][\"degradation_csv\"]\n",
    "dir_path = dataset_config[\"val\"][\"img_dir\"]\n",
    "df = pd.read_csv(csv_path)\n",
    "\n",
    "row = df.sample(1)\n",
    "test_img_name, label = row[\"name\"].values[0], row[\"degradation_target\"].values[0]\n",
    "test_img_path = os.path.join(dir_path, test_img_name)\n",
    "test_img = load_image(test_img_path)"
   ]
  },
  {
   "cell_type": "code",
   "execution_count": 34,
   "id": "bd3e6db1-b59c-4bfe-aaa9-fecb3b9543c3",
   "metadata": {},
   "outputs": [
    {
     "name": "stdout",
     "output_type": "stream",
     "text": [
      "Test image name: be3b7c5d-d25131a7_3.png\n",
      "Test image shape: (129, 131, 3)\n"
     ]
    },
    {
     "data": {
      "image/png": "[encoded data removed]",
      "text/plain": [
       "<Figure size 432x288 with 1 Axes>"
      ]
     },
     "metadata": {
      "needs_background": "light"
     },
     "output_type": "display_data"
    }
   ],
   "source": [
    "print(\"Test image name:\", test_img_name)\n",
    "print(\"Test image shape:\", test_img.shape)\n",
    "plt.imshow(test_img)\n",
    "plt.axis(\"off\")\n",
    "plt.title(\"Input image\", fontsize=9)\n",
    "plt.show()"
   ]
  },
  {
   "cell_type": "code",
   "execution_count": 37,
   "id": "a742ff97-4571-4749-9424-a7d7fb363791",
   "metadata": {},
   "outputs": [
    {
     "name": "stdout",
     "output_type": "stream",
     "text": [
      "Predicticted degradation category: 0\n"
     ]
    }
   ],
   "source": [
    "pred_class = pred_degradation_category(model=model, test_img=test_img, img_transform=None, add_batch_dim=True, device=DEVICE)\n",
    "print(\"Predicticted degradation category:\", pred_class)"
   ]
  },
  {
   "cell_type": "code",
   "execution_count": null,
   "id": "f67c4a14-ffe2-4dcd-bb1f-a8f5b9d22c8f",
   "metadata": {},
   "outputs": [],
   "source": []
  }
 ],
 "metadata": {
  "kernelspec": {
   "display_name": "Python 3 (ipykernel)",
   "language": "python",
   "name": "python3"
  },
  "language_info": {
   "codemirror_mode": {
    "name": "ipython",
    "version": 3
   },
   "file_extension": ".py",
   "mimetype": "text/x-python",
   "name": "python",
   "nbconvert_exporter": "python",
   "pygments_lexer": "ipython3",
   "version": "3.10.12"
  }
 },
 "nbformat": 4,
 "nbformat_minor": 5
}

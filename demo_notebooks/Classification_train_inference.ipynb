{
 "cells": [
  {
   "cell_type": "code",
   "execution_count": 17,
   "id": "56ad96b1",
   "metadata": {},
   "outputs": [
    {
     "data": {
      "text/html": [
       "<style>.container { width:98% !important; }</style>"
      ],
      "text/plain": [
       "<IPython.core.display.HTML object>"
      ]
     },
     "metadata": {},
     "output_type": "display_data"
    },
    {
     "name": "stdout",
     "output_type": "stream",
     "text": [
      "The autoreload extension is already loaded. To reload it, use:\n",
      "  %reload_ext autoreload\n"
     ]
    }
   ],
   "source": [
    "from IPython.display import display, HTML\n",
    "display(HTML(\"<style>.container { width:98% !important; }</style>\"))\n",
    "\n",
    "%load_ext autoreload\n",
    "%autoreload 2\n",
    "\n",
    "import os\n",
    "# import numpy as np\n",
    "# import pandas as pd\n",
    "# import matplotlib.pyplot as plt\n",
    "from pprint import pprint\n",
    "\n",
    "import torch\n",
    "from torchvision import transforms"
   ]
  },
  {
   "cell_type": "code",
   "execution_count": 25,
   "id": "1e74792c",
   "metadata": {},
   "outputs": [],
   "source": [
    "import sys\n",
    "sys.path.append('../code_base')  # Only if not installed as a package\n",
    "\n",
    "from model_suite.utils.common import load_config\n",
    "from model_suite import training \n",
    "from model_suite.dataloader import generate_dataloader\n",
    "from model_suite.architectures import get_model\n",
    "from model_suite.evaluation_metrics import cal_classification_metrics\n",
    "from model_suite.utils.common import visualize_confusion_matrix"
   ]
  },
  {
   "cell_type": "code",
   "execution_count": 8,
   "id": "913251c8",
   "metadata": {},
   "outputs": [],
   "source": [
    "torch.cuda.empty_cache()"
   ]
  },
  {
   "cell_type": "code",
   "execution_count": null,
   "id": "a4d62cf7",
   "metadata": {},
   "outputs": [],
   "source": []
  },
  {
   "cell_type": "markdown",
   "id": "0fef9a1e",
   "metadata": {},
   "source": [
    "# Training"
   ]
  },
  {
   "cell_type": "code",
   "execution_count": 9,
   "id": "ab49fc2a",
   "metadata": {},
   "outputs": [
    {
     "name": "stdout",
     "output_type": "stream",
     "text": [
      "{'data_loader': {'batch_size': 1, 'num_workers': 2, 'shuffle': True},\n",
      " 'dataset_loc': {'dataset_type': 'classification',\n",
      "                 'train': {'degradation_csv': '/cs6945share/retro_project/bdd100k/generated_segments/train.csv',\n",
      "                           'img_dir': '/cs6945share/retro_project/bdd100k/images/train',\n",
      "                           'random_subset': None},\n",
      "                 'val': {'degradation_csv': '/cs6945share/retro_project/bdd100k/generated_segments/val.csv',\n",
      "                         'img_dir': '/cs6945share/retro_project/bdd100k/images/val',\n",
      "                         'random_subset': None}},\n",
      " 'enable_cuda': True,\n",
      " 'model': {'in_channels': 3, 'out_dim': 3},\n",
      " 'results_loc': './experiment_results/',\n",
      " 'training': {'learning_rate': 0.05,\n",
      "              'loss_fn_name': 'CrossEntropy',\n",
      "              'num_epochs': 10,\n",
      "              'resume_checkpoint': None,\n",
      "              'save_checkpoint_freq': 5}}\n"
     ]
    }
   ],
   "source": [
    "config_path = \"../configs/classification.yaml\"\n",
    "config = load_config(config_path)\n",
    "pprint(config)"
   ]
  },
  {
   "cell_type": "code",
   "execution_count": 15,
   "id": "f9540d1e",
   "metadata": {},
   "outputs": [],
   "source": [
    "# # copy paste config here to edit and experiment\n",
    "config={\n",
    "  'data_loader': {\n",
    "    'batch_size': 1,\n",
    "    'num_workers': 2,\n",
    "    'shuffle': True\n",
    "  },\n",
    "    \n",
    "  'dataset_loc': {\n",
    "    'dataset_type': 'classification',\n",
    "    'train': {\n",
    "      'degradation_csv': '/cs6945share/retro_project/bdd100k/generated_segments/train.csv',\n",
    "      'img_dir': '/cs6945share/retro_project/bdd100k/images/train',\n",
    "      'random_subset': None\n",
    "    },\n",
    "    'val': {\n",
    "      'degradation_csv': '/cs6945share/retro_project/bdd100k/generated_segments/val.csv',\n",
    "      'img_dir': '/cs6945share/retro_project/bdd100k/images/val',\n",
    "      'random_subset': None\n",
    "    }\n",
    "  },\n",
    "  'enable_cuda': True,\n",
    "    \n",
    "  'model': {\n",
    "    'in_channels': 3,\n",
    "    'out_dim': 3\n",
    "  },\n",
    "    \n",
    "  'results_loc': './experiment_results/',\n",
    "    \n",
    "  'training': {\n",
    "    'learning_rate': 0.05,\n",
    "    'loss_fn_name': 'CrossEntropy',\n",
    "    'num_epochs': 10,\n",
    "    'resume_checkpoint': None,\n",
    "    'save_checkpoint_freq': 5\n",
    "  }\n",
    "}"
   ]
  },
  {
   "cell_type": "code",
   "execution_count": 11,
   "id": "f52d01bb",
   "metadata": {},
   "outputs": [],
   "source": [
    "# get required config parameters\n",
    "model_config = config[\"model\"]\n",
    "dataset_config = config[\"dataset_loc\"]\n",
    "dataloader_config = config[\"data_loader\"]\n",
    "preprocess_config = config.get(\"dataset_preprocessing\", None)\n",
    "train_config = config[\"training\"]"
   ]
  },
  {
   "cell_type": "code",
   "execution_count": 14,
   "id": "75f6ee7a",
   "metadata": {},
   "outputs": [
    {
     "name": "stdout",
     "output_type": "stream",
     "text": [
      "Using DEVICE: cuda\n"
     ]
    }
   ],
   "source": [
    "if config[\"enable_cuda\"]:\n",
    "    training.DEVICE = torch.device('cuda' if torch.cuda.is_available() else 'cpu')\n",
    "    print(f\"Using DEVICE: {training.DEVICE}\")"
   ]
  },
  {
   "cell_type": "code",
   "execution_count": 20,
   "id": "20f7ce7a",
   "metadata": {
    "scrolled": true
   },
   "outputs": [
    {
     "ename": "FileNotFoundError",
     "evalue": "[Errno 2] No such file or directory: '/cs6945share/retro_project/bdd100k/generated_segments/train.csv'",
     "output_type": "error",
     "traceback": [
      "\u001b[0;31m---------------------------------------------------------------------------\u001b[0m",
      "\u001b[0;31mFileNotFoundError\u001b[0m                         Traceback (most recent call last)",
      "Cell \u001b[0;32mIn[20], line 10\u001b[0m\n\u001b[1;32m      3\u001b[0m train_transform \u001b[38;5;241m=\u001b[39m transforms\u001b[38;5;241m.\u001b[39mCompose([\n\u001b[1;32m      4\u001b[0m     transforms\u001b[38;5;241m.\u001b[39mToPILImage(),\n\u001b[1;32m      5\u001b[0m     transforms\u001b[38;5;241m.\u001b[39mRandomHorizontalFlip(p\u001b[38;5;241m=\u001b[39m\u001b[38;5;241m0.5\u001b[39m),  \u001b[38;5;66;03m# Flip images horizontally with 50% probability\u001b[39;00m\n\u001b[1;32m      6\u001b[0m     transforms\u001b[38;5;241m.\u001b[39mToTensor()                    \u001b[38;5;66;03m# Convert the image to a tensor\u001b[39;00m\n\u001b[1;32m      7\u001b[0m ])\n\u001b[1;32m      9\u001b[0m \u001b[38;5;66;03m# generate train data loader\u001b[39;00m\n\u001b[0;32m---> 10\u001b[0m train_loader, train_size \u001b[38;5;241m=\u001b[39m \u001b[43mgenerate_dataloader\u001b[49m\u001b[43m(\u001b[49m\u001b[43mdataset_type\u001b[49m\u001b[38;5;241;43m=\u001b[39;49m\u001b[43mdataset_config\u001b[49m\u001b[43m[\u001b[49m\u001b[38;5;124;43m\"\u001b[39;49m\u001b[38;5;124;43mdataset_type\u001b[39;49m\u001b[38;5;124;43m\"\u001b[39;49m\u001b[43m]\u001b[49m\u001b[43m,\u001b[49m\n\u001b[1;32m     11\u001b[0m \u001b[43m                                               \u001b[49m\u001b[43mdata_loc\u001b[49m\u001b[38;5;241;43m=\u001b[39;49m\u001b[43mdataset_config\u001b[49m\u001b[43m[\u001b[49m\u001b[38;5;124;43m\"\u001b[39;49m\u001b[38;5;124;43mtrain\u001b[39;49m\u001b[38;5;124;43m\"\u001b[39;49m\u001b[43m]\u001b[49m\u001b[43m,\u001b[49m\n\u001b[1;32m     12\u001b[0m \u001b[43m                                               \u001b[49m\u001b[43mdataloader_config\u001b[49m\u001b[38;5;241;43m=\u001b[39;49m\u001b[43mdataloader_config\u001b[49m\u001b[43m,\u001b[49m\n\u001b[1;32m     13\u001b[0m \u001b[43m                                               \u001b[49m\u001b[43mpreprocess_config\u001b[49m\u001b[38;5;241;43m=\u001b[39;49m\u001b[43mpreprocess_config\u001b[49m\u001b[43m)\u001b[49m\n\u001b[1;32m     15\u001b[0m \u001b[38;5;66;03m# generate validation data loader\u001b[39;00m\n\u001b[1;32m     16\u001b[0m val_loader, val_size \u001b[38;5;241m=\u001b[39m generate_dataloader(dataset_type\u001b[38;5;241m=\u001b[39mdataset_config[\u001b[38;5;124m\"\u001b[39m\u001b[38;5;124mdataset_type\u001b[39m\u001b[38;5;124m\"\u001b[39m],\n\u001b[1;32m     17\u001b[0m                                            data_loc\u001b[38;5;241m=\u001b[39mdataset_config[\u001b[38;5;124m\"\u001b[39m\u001b[38;5;124mval\u001b[39m\u001b[38;5;124m\"\u001b[39m],\n\u001b[1;32m     18\u001b[0m                                            dataloader_config\u001b[38;5;241m=\u001b[39mdataloader_config,\n\u001b[1;32m     19\u001b[0m                                            preprocess_config\u001b[38;5;241m=\u001b[39mpreprocess_config)\n",
      "File \u001b[0;32m~/university_of_utah/DL_capstone/GIT/final_refactor/retro/demo_notebooks/../code_base/model_suite/dataloader.py:49\u001b[0m, in \u001b[0;36mgenerate_dataloader\u001b[0;34m(dataset_type, data_loc, dataloader_config, preprocess_config, img_transform, num_class)\u001b[0m\n\u001b[1;32m     42\u001b[0m     dataset \u001b[38;5;241m=\u001b[39m RegressionDataset(image_dir\u001b[38;5;241m=\u001b[39mdata_loc[\u001b[38;5;124m\"\u001b[39m\u001b[38;5;124mimg_dir\u001b[39m\u001b[38;5;124m\"\u001b[39m],\n\u001b[1;32m     43\u001b[0m                                 degradation_csv\u001b[38;5;241m=\u001b[39mdata_loc[\u001b[38;5;124m\"\u001b[39m\u001b[38;5;124mdegradation_csv\u001b[39m\u001b[38;5;124m\"\u001b[39m],\n\u001b[1;32m     44\u001b[0m                                 img_transform\u001b[38;5;241m=\u001b[39mimg_transform,\n\u001b[1;32m     45\u001b[0m                                 subset_size\u001b[38;5;241m=\u001b[39mdata_loc\u001b[38;5;241m.\u001b[39mget(\u001b[38;5;124m'\u001b[39m\u001b[38;5;124mrandom_subset\u001b[39m\u001b[38;5;124m'\u001b[39m, \u001b[38;5;28;01mNone\u001b[39;00m))\n\u001b[1;32m     47\u001b[0m \u001b[38;5;28;01melif\u001b[39;00m dataset_type \u001b[38;5;241m==\u001b[39m \u001b[38;5;124m'\u001b[39m\u001b[38;5;124mclassification\u001b[39m\u001b[38;5;124m'\u001b[39m:\n\u001b[0;32m---> 49\u001b[0m     dataset \u001b[38;5;241m=\u001b[39m \u001b[43mClassificationDataset\u001b[49m\u001b[43m(\u001b[49m\u001b[43mimage_dir\u001b[49m\u001b[38;5;241;43m=\u001b[39;49m\u001b[43mdata_loc\u001b[49m\u001b[43m[\u001b[49m\u001b[38;5;124;43m\"\u001b[39;49m\u001b[38;5;124;43mimg_dir\u001b[39;49m\u001b[38;5;124;43m\"\u001b[39;49m\u001b[43m]\u001b[49m\u001b[43m,\u001b[49m\n\u001b[1;32m     50\u001b[0m \u001b[43m                                    \u001b[49m\u001b[43mdegradation_csv\u001b[49m\u001b[38;5;241;43m=\u001b[39;49m\u001b[43mdata_loc\u001b[49m\u001b[43m[\u001b[49m\u001b[38;5;124;43m\"\u001b[39;49m\u001b[38;5;124;43mdegradation_csv\u001b[39;49m\u001b[38;5;124;43m\"\u001b[39;49m\u001b[43m]\u001b[49m\u001b[43m,\u001b[49m\n\u001b[1;32m     51\u001b[0m \u001b[43m                                    \u001b[49m\u001b[43mimg_transform\u001b[49m\u001b[38;5;241;43m=\u001b[39;49m\u001b[43mimg_transform\u001b[49m\u001b[43m,\u001b[49m\n\u001b[1;32m     52\u001b[0m \u001b[43m                                    \u001b[49m\u001b[43mnum_classes\u001b[49m\u001b[38;5;241;43m=\u001b[39;49m\u001b[43mnum_class\u001b[49m\u001b[43m,\u001b[49m\n\u001b[1;32m     53\u001b[0m \u001b[43m                                    \u001b[49m\u001b[43msubset_size\u001b[49m\u001b[38;5;241;43m=\u001b[39;49m\u001b[43mdata_loc\u001b[49m\u001b[38;5;241;43m.\u001b[39;49m\u001b[43mget\u001b[49m\u001b[43m(\u001b[49m\u001b[38;5;124;43m'\u001b[39;49m\u001b[38;5;124;43mrandom_subset\u001b[39;49m\u001b[38;5;124;43m'\u001b[39;49m\u001b[43m,\u001b[49m\u001b[43m \u001b[49m\u001b[38;5;28;43;01mNone\u001b[39;49;00m\u001b[43m)\u001b[49m\u001b[43m)\u001b[49m\n\u001b[1;32m     55\u001b[0m \u001b[38;5;28;01mif\u001b[39;00m dataset \u001b[38;5;129;01mis\u001b[39;00m \u001b[38;5;28;01mNone\u001b[39;00m:\n\u001b[1;32m     56\u001b[0m     \u001b[38;5;28;01mreturn\u001b[39;00m\n",
      "File \u001b[0;32m~/university_of_utah/DL_capstone/GIT/final_refactor/retro/demo_notebooks/../code_base/model_suite/datasets/classification_dataset.py:15\u001b[0m, in \u001b[0;36mClassificationDataset.__init__\u001b[0;34m(self, image_dir, degradation_csv, img_transform, num_classes, subset_size)\u001b[0m\n\u001b[1;32m     13\u001b[0m \u001b[38;5;28;01mdef\u001b[39;00m \u001b[38;5;21m__init__\u001b[39m(\u001b[38;5;28mself\u001b[39m, image_dir, degradation_csv, img_transform\u001b[38;5;241m=\u001b[39m\u001b[38;5;28;01mNone\u001b[39;00m, num_classes\u001b[38;5;241m=\u001b[39m\u001b[38;5;241m3\u001b[39m, subset_size\u001b[38;5;241m=\u001b[39m\u001b[38;5;28;01mNone\u001b[39;00m):\n\u001b[1;32m     14\u001b[0m     \u001b[38;5;28mself\u001b[39m\u001b[38;5;241m.\u001b[39mimage_dir \u001b[38;5;241m=\u001b[39m image_dir\n\u001b[0;32m---> 15\u001b[0m     \u001b[38;5;28mself\u001b[39m\u001b[38;5;241m.\u001b[39mdata \u001b[38;5;241m=\u001b[39m \u001b[43mpd\u001b[49m\u001b[38;5;241;43m.\u001b[39;49m\u001b[43mread_csv\u001b[49m\u001b[43m(\u001b[49m\u001b[43mdegradation_csv\u001b[49m\u001b[43m)\u001b[49m\n\u001b[1;32m     16\u001b[0m     \u001b[38;5;28mself\u001b[39m\u001b[38;5;241m.\u001b[39mnum_classes \u001b[38;5;241m=\u001b[39m num_classes\n\u001b[1;32m     17\u001b[0m     \u001b[38;5;28mself\u001b[39m\u001b[38;5;241m.\u001b[39mtransform \u001b[38;5;241m=\u001b[39m img_transform  \u001b[38;5;66;03m# I don't think we'll need transforms since it's a small input, but I'll leave this here nevertheless\u001b[39;00m\n",
      "File \u001b[0;32m~/university_of_utah/0_virtual_env/uofu_env/lib/python3.10/site-packages/pandas/io/parsers/readers.py:1026\u001b[0m, in \u001b[0;36mread_csv\u001b[0;34m(filepath_or_buffer, sep, delimiter, header, names, index_col, usecols, dtype, engine, converters, true_values, false_values, skipinitialspace, skiprows, skipfooter, nrows, na_values, keep_default_na, na_filter, verbose, skip_blank_lines, parse_dates, infer_datetime_format, keep_date_col, date_parser, date_format, dayfirst, cache_dates, iterator, chunksize, compression, thousands, decimal, lineterminator, quotechar, quoting, doublequote, escapechar, comment, encoding, encoding_errors, dialect, on_bad_lines, delim_whitespace, low_memory, memory_map, float_precision, storage_options, dtype_backend)\u001b[0m\n\u001b[1;32m   1013\u001b[0m kwds_defaults \u001b[38;5;241m=\u001b[39m _refine_defaults_read(\n\u001b[1;32m   1014\u001b[0m     dialect,\n\u001b[1;32m   1015\u001b[0m     delimiter,\n\u001b[0;32m   (...)\u001b[0m\n\u001b[1;32m   1022\u001b[0m     dtype_backend\u001b[38;5;241m=\u001b[39mdtype_backend,\n\u001b[1;32m   1023\u001b[0m )\n\u001b[1;32m   1024\u001b[0m kwds\u001b[38;5;241m.\u001b[39mupdate(kwds_defaults)\n\u001b[0;32m-> 1026\u001b[0m \u001b[38;5;28;01mreturn\u001b[39;00m \u001b[43m_read\u001b[49m\u001b[43m(\u001b[49m\u001b[43mfilepath_or_buffer\u001b[49m\u001b[43m,\u001b[49m\u001b[43m \u001b[49m\u001b[43mkwds\u001b[49m\u001b[43m)\u001b[49m\n",
      "File \u001b[0;32m~/university_of_utah/0_virtual_env/uofu_env/lib/python3.10/site-packages/pandas/io/parsers/readers.py:620\u001b[0m, in \u001b[0;36m_read\u001b[0;34m(filepath_or_buffer, kwds)\u001b[0m\n\u001b[1;32m    617\u001b[0m _validate_names(kwds\u001b[38;5;241m.\u001b[39mget(\u001b[38;5;124m\"\u001b[39m\u001b[38;5;124mnames\u001b[39m\u001b[38;5;124m\"\u001b[39m, \u001b[38;5;28;01mNone\u001b[39;00m))\n\u001b[1;32m    619\u001b[0m \u001b[38;5;66;03m# Create the parser.\u001b[39;00m\n\u001b[0;32m--> 620\u001b[0m parser \u001b[38;5;241m=\u001b[39m \u001b[43mTextFileReader\u001b[49m\u001b[43m(\u001b[49m\u001b[43mfilepath_or_buffer\u001b[49m\u001b[43m,\u001b[49m\u001b[43m \u001b[49m\u001b[38;5;241;43m*\u001b[39;49m\u001b[38;5;241;43m*\u001b[39;49m\u001b[43mkwds\u001b[49m\u001b[43m)\u001b[49m\n\u001b[1;32m    622\u001b[0m \u001b[38;5;28;01mif\u001b[39;00m chunksize \u001b[38;5;129;01mor\u001b[39;00m iterator:\n\u001b[1;32m    623\u001b[0m     \u001b[38;5;28;01mreturn\u001b[39;00m parser\n",
      "File \u001b[0;32m~/university_of_utah/0_virtual_env/uofu_env/lib/python3.10/site-packages/pandas/io/parsers/readers.py:1620\u001b[0m, in \u001b[0;36mTextFileReader.__init__\u001b[0;34m(self, f, engine, **kwds)\u001b[0m\n\u001b[1;32m   1617\u001b[0m     \u001b[38;5;28mself\u001b[39m\u001b[38;5;241m.\u001b[39moptions[\u001b[38;5;124m\"\u001b[39m\u001b[38;5;124mhas_index_names\u001b[39m\u001b[38;5;124m\"\u001b[39m] \u001b[38;5;241m=\u001b[39m kwds[\u001b[38;5;124m\"\u001b[39m\u001b[38;5;124mhas_index_names\u001b[39m\u001b[38;5;124m\"\u001b[39m]\n\u001b[1;32m   1619\u001b[0m \u001b[38;5;28mself\u001b[39m\u001b[38;5;241m.\u001b[39mhandles: IOHandles \u001b[38;5;241m|\u001b[39m \u001b[38;5;28;01mNone\u001b[39;00m \u001b[38;5;241m=\u001b[39m \u001b[38;5;28;01mNone\u001b[39;00m\n\u001b[0;32m-> 1620\u001b[0m \u001b[38;5;28mself\u001b[39m\u001b[38;5;241m.\u001b[39m_engine \u001b[38;5;241m=\u001b[39m \u001b[38;5;28;43mself\u001b[39;49m\u001b[38;5;241;43m.\u001b[39;49m\u001b[43m_make_engine\u001b[49m\u001b[43m(\u001b[49m\u001b[43mf\u001b[49m\u001b[43m,\u001b[49m\u001b[43m \u001b[49m\u001b[38;5;28;43mself\u001b[39;49m\u001b[38;5;241;43m.\u001b[39;49m\u001b[43mengine\u001b[49m\u001b[43m)\u001b[49m\n",
      "File \u001b[0;32m~/university_of_utah/0_virtual_env/uofu_env/lib/python3.10/site-packages/pandas/io/parsers/readers.py:1880\u001b[0m, in \u001b[0;36mTextFileReader._make_engine\u001b[0;34m(self, f, engine)\u001b[0m\n\u001b[1;32m   1878\u001b[0m     \u001b[38;5;28;01mif\u001b[39;00m \u001b[38;5;124m\"\u001b[39m\u001b[38;5;124mb\u001b[39m\u001b[38;5;124m\"\u001b[39m \u001b[38;5;129;01mnot\u001b[39;00m \u001b[38;5;129;01min\u001b[39;00m mode:\n\u001b[1;32m   1879\u001b[0m         mode \u001b[38;5;241m+\u001b[39m\u001b[38;5;241m=\u001b[39m \u001b[38;5;124m\"\u001b[39m\u001b[38;5;124mb\u001b[39m\u001b[38;5;124m\"\u001b[39m\n\u001b[0;32m-> 1880\u001b[0m \u001b[38;5;28mself\u001b[39m\u001b[38;5;241m.\u001b[39mhandles \u001b[38;5;241m=\u001b[39m \u001b[43mget_handle\u001b[49m\u001b[43m(\u001b[49m\n\u001b[1;32m   1881\u001b[0m \u001b[43m    \u001b[49m\u001b[43mf\u001b[49m\u001b[43m,\u001b[49m\n\u001b[1;32m   1882\u001b[0m \u001b[43m    \u001b[49m\u001b[43mmode\u001b[49m\u001b[43m,\u001b[49m\n\u001b[1;32m   1883\u001b[0m \u001b[43m    \u001b[49m\u001b[43mencoding\u001b[49m\u001b[38;5;241;43m=\u001b[39;49m\u001b[38;5;28;43mself\u001b[39;49m\u001b[38;5;241;43m.\u001b[39;49m\u001b[43moptions\u001b[49m\u001b[38;5;241;43m.\u001b[39;49m\u001b[43mget\u001b[49m\u001b[43m(\u001b[49m\u001b[38;5;124;43m\"\u001b[39;49m\u001b[38;5;124;43mencoding\u001b[39;49m\u001b[38;5;124;43m\"\u001b[39;49m\u001b[43m,\u001b[49m\u001b[43m \u001b[49m\u001b[38;5;28;43;01mNone\u001b[39;49;00m\u001b[43m)\u001b[49m\u001b[43m,\u001b[49m\n\u001b[1;32m   1884\u001b[0m \u001b[43m    \u001b[49m\u001b[43mcompression\u001b[49m\u001b[38;5;241;43m=\u001b[39;49m\u001b[38;5;28;43mself\u001b[39;49m\u001b[38;5;241;43m.\u001b[39;49m\u001b[43moptions\u001b[49m\u001b[38;5;241;43m.\u001b[39;49m\u001b[43mget\u001b[49m\u001b[43m(\u001b[49m\u001b[38;5;124;43m\"\u001b[39;49m\u001b[38;5;124;43mcompression\u001b[39;49m\u001b[38;5;124;43m\"\u001b[39;49m\u001b[43m,\u001b[49m\u001b[43m \u001b[49m\u001b[38;5;28;43;01mNone\u001b[39;49;00m\u001b[43m)\u001b[49m\u001b[43m,\u001b[49m\n\u001b[1;32m   1885\u001b[0m \u001b[43m    \u001b[49m\u001b[43mmemory_map\u001b[49m\u001b[38;5;241;43m=\u001b[39;49m\u001b[38;5;28;43mself\u001b[39;49m\u001b[38;5;241;43m.\u001b[39;49m\u001b[43moptions\u001b[49m\u001b[38;5;241;43m.\u001b[39;49m\u001b[43mget\u001b[49m\u001b[43m(\u001b[49m\u001b[38;5;124;43m\"\u001b[39;49m\u001b[38;5;124;43mmemory_map\u001b[39;49m\u001b[38;5;124;43m\"\u001b[39;49m\u001b[43m,\u001b[49m\u001b[43m \u001b[49m\u001b[38;5;28;43;01mFalse\u001b[39;49;00m\u001b[43m)\u001b[49m\u001b[43m,\u001b[49m\n\u001b[1;32m   1886\u001b[0m \u001b[43m    \u001b[49m\u001b[43mis_text\u001b[49m\u001b[38;5;241;43m=\u001b[39;49m\u001b[43mis_text\u001b[49m\u001b[43m,\u001b[49m\n\u001b[1;32m   1887\u001b[0m \u001b[43m    \u001b[49m\u001b[43merrors\u001b[49m\u001b[38;5;241;43m=\u001b[39;49m\u001b[38;5;28;43mself\u001b[39;49m\u001b[38;5;241;43m.\u001b[39;49m\u001b[43moptions\u001b[49m\u001b[38;5;241;43m.\u001b[39;49m\u001b[43mget\u001b[49m\u001b[43m(\u001b[49m\u001b[38;5;124;43m\"\u001b[39;49m\u001b[38;5;124;43mencoding_errors\u001b[39;49m\u001b[38;5;124;43m\"\u001b[39;49m\u001b[43m,\u001b[49m\u001b[43m \u001b[49m\u001b[38;5;124;43m\"\u001b[39;49m\u001b[38;5;124;43mstrict\u001b[39;49m\u001b[38;5;124;43m\"\u001b[39;49m\u001b[43m)\u001b[49m\u001b[43m,\u001b[49m\n\u001b[1;32m   1888\u001b[0m \u001b[43m    \u001b[49m\u001b[43mstorage_options\u001b[49m\u001b[38;5;241;43m=\u001b[39;49m\u001b[38;5;28;43mself\u001b[39;49m\u001b[38;5;241;43m.\u001b[39;49m\u001b[43moptions\u001b[49m\u001b[38;5;241;43m.\u001b[39;49m\u001b[43mget\u001b[49m\u001b[43m(\u001b[49m\u001b[38;5;124;43m\"\u001b[39;49m\u001b[38;5;124;43mstorage_options\u001b[39;49m\u001b[38;5;124;43m\"\u001b[39;49m\u001b[43m,\u001b[49m\u001b[43m \u001b[49m\u001b[38;5;28;43;01mNone\u001b[39;49;00m\u001b[43m)\u001b[49m\u001b[43m,\u001b[49m\n\u001b[1;32m   1889\u001b[0m \u001b[43m\u001b[49m\u001b[43m)\u001b[49m\n\u001b[1;32m   1890\u001b[0m \u001b[38;5;28;01massert\u001b[39;00m \u001b[38;5;28mself\u001b[39m\u001b[38;5;241m.\u001b[39mhandles \u001b[38;5;129;01mis\u001b[39;00m \u001b[38;5;129;01mnot\u001b[39;00m \u001b[38;5;28;01mNone\u001b[39;00m\n\u001b[1;32m   1891\u001b[0m f \u001b[38;5;241m=\u001b[39m \u001b[38;5;28mself\u001b[39m\u001b[38;5;241m.\u001b[39mhandles\u001b[38;5;241m.\u001b[39mhandle\n",
      "File \u001b[0;32m~/university_of_utah/0_virtual_env/uofu_env/lib/python3.10/site-packages/pandas/io/common.py:873\u001b[0m, in \u001b[0;36mget_handle\u001b[0;34m(path_or_buf, mode, encoding, compression, memory_map, is_text, errors, storage_options)\u001b[0m\n\u001b[1;32m    868\u001b[0m \u001b[38;5;28;01melif\u001b[39;00m \u001b[38;5;28misinstance\u001b[39m(handle, \u001b[38;5;28mstr\u001b[39m):\n\u001b[1;32m    869\u001b[0m     \u001b[38;5;66;03m# Check whether the filename is to be opened in binary mode.\u001b[39;00m\n\u001b[1;32m    870\u001b[0m     \u001b[38;5;66;03m# Binary mode does not support 'encoding' and 'newline'.\u001b[39;00m\n\u001b[1;32m    871\u001b[0m     \u001b[38;5;28;01mif\u001b[39;00m ioargs\u001b[38;5;241m.\u001b[39mencoding \u001b[38;5;129;01mand\u001b[39;00m \u001b[38;5;124m\"\u001b[39m\u001b[38;5;124mb\u001b[39m\u001b[38;5;124m\"\u001b[39m \u001b[38;5;129;01mnot\u001b[39;00m \u001b[38;5;129;01min\u001b[39;00m ioargs\u001b[38;5;241m.\u001b[39mmode:\n\u001b[1;32m    872\u001b[0m         \u001b[38;5;66;03m# Encoding\u001b[39;00m\n\u001b[0;32m--> 873\u001b[0m         handle \u001b[38;5;241m=\u001b[39m \u001b[38;5;28;43mopen\u001b[39;49m\u001b[43m(\u001b[49m\n\u001b[1;32m    874\u001b[0m \u001b[43m            \u001b[49m\u001b[43mhandle\u001b[49m\u001b[43m,\u001b[49m\n\u001b[1;32m    875\u001b[0m \u001b[43m            \u001b[49m\u001b[43mioargs\u001b[49m\u001b[38;5;241;43m.\u001b[39;49m\u001b[43mmode\u001b[49m\u001b[43m,\u001b[49m\n\u001b[1;32m    876\u001b[0m \u001b[43m            \u001b[49m\u001b[43mencoding\u001b[49m\u001b[38;5;241;43m=\u001b[39;49m\u001b[43mioargs\u001b[49m\u001b[38;5;241;43m.\u001b[39;49m\u001b[43mencoding\u001b[49m\u001b[43m,\u001b[49m\n\u001b[1;32m    877\u001b[0m \u001b[43m            \u001b[49m\u001b[43merrors\u001b[49m\u001b[38;5;241;43m=\u001b[39;49m\u001b[43merrors\u001b[49m\u001b[43m,\u001b[49m\n\u001b[1;32m    878\u001b[0m \u001b[43m            \u001b[49m\u001b[43mnewline\u001b[49m\u001b[38;5;241;43m=\u001b[39;49m\u001b[38;5;124;43m\"\u001b[39;49m\u001b[38;5;124;43m\"\u001b[39;49m\u001b[43m,\u001b[49m\n\u001b[1;32m    879\u001b[0m \u001b[43m        \u001b[49m\u001b[43m)\u001b[49m\n\u001b[1;32m    880\u001b[0m     \u001b[38;5;28;01melse\u001b[39;00m:\n\u001b[1;32m    881\u001b[0m         \u001b[38;5;66;03m# Binary mode\u001b[39;00m\n\u001b[1;32m    882\u001b[0m         handle \u001b[38;5;241m=\u001b[39m \u001b[38;5;28mopen\u001b[39m(handle, ioargs\u001b[38;5;241m.\u001b[39mmode)\n",
      "\u001b[0;31mFileNotFoundError\u001b[0m: [Errno 2] No such file or directory: '/cs6945share/retro_project/bdd100k/generated_segments/train.csv'"
     ]
    }
   ],
   "source": [
    "# update img trasnform if required\n",
    "\n",
    "train_transform = transforms.Compose([\n",
    "    transforms.ToPILImage(),\n",
    "    transforms.RandomHorizontalFlip(p=0.5),  # Flip images horizontally with 50% probability\n",
    "    transforms.ToTensor()                    # Convert the image to a tensor\n",
    "])\n",
    "\n",
    "# generate train data loader\n",
    "train_loader, train_size = generate_dataloader(dataset_type=dataset_config[\"dataset_type\"],\n",
    "                                               data_loc=dataset_config[\"train\"],\n",
    "                                               dataloader_config=dataloader_config,\n",
    "                                               preprocess_config=preprocess_config)\n",
    "\n",
    "# generate validation data loader\n",
    "val_loader, val_size = generate_dataloader(dataset_type=dataset_config[\"dataset_type\"],\n",
    "                                           data_loc=dataset_config[\"val\"],\n",
    "                                           dataloader_config=dataloader_config,\n",
    "                                           preprocess_config=preprocess_config)\n",
    "\n",
    "print(f\"Train Dataset loaded. #samples: {train_size}\")\n",
    "print(f\"Validation Dataset loaded. #samples: {val_size}\")"
   ]
  },
  {
   "cell_type": "code",
   "execution_count": null,
   "id": "a41c6259",
   "metadata": {},
   "outputs": [],
   "source": [
    "# Ensure that we are getting correct data from data loaders\n",
    "batch_img, degradation_values = next(iter(train_loader))\n",
    "\n",
    "print(\"Image batch shape:\", batch_img.shape) \n",
    "print(\"Degradation label shape:\", degradation_values.shape) \n",
    "print(\"Degradation target:\", degradation_values[0])\n",
    "\n",
    "sample_img = batch_img[0].numpy()   # (c, h, w)\n",
    "sample_img = sample_img.transpose(1, 2, 0)\n",
    "\n",
    "sample_mask = batch_mask[0].numpy()   # (c, h, w)\n",
    "sample_mask = np.squeeze(sample_mask) # (h, w)\n",
    "\n",
    "fig, ax = plt.subplots(figsize=(15, 5))\n",
    "ax.imshow(sample_img)\n",
    "ax.set_title(\"input image\")\n",
    "plt.show()"
   ]
  },
  {
   "cell_type": "code",
   "execution_count": null,
   "id": "529ae6ce",
   "metadata": {},
   "outputs": [],
   "source": []
  },
  {
   "cell_type": "code",
   "execution_count": 23,
   "id": "ec6a6089",
   "metadata": {},
   "outputs": [
    {
     "ename": "NameError",
     "evalue": "name 'model_name' is not defined",
     "output_type": "error",
     "traceback": [
      "\u001b[0;31m---------------------------------------------------------------------------\u001b[0m",
      "\u001b[0;31mNameError\u001b[0m                                 Traceback (most recent call last)",
      "Cell \u001b[0;32mIn[23], line 2\u001b[0m\n\u001b[1;32m      1\u001b[0m \u001b[38;5;66;03m# Initializing the model, loss function, and the optimizer\u001b[39;00m\n\u001b[0;32m----> 2\u001b[0m model \u001b[38;5;241m=\u001b[39m get_model(\u001b[43mmodel_name\u001b[49m, in_channels\u001b[38;5;241m=\u001b[39mmodel_config[\u001b[38;5;124m'\u001b[39m\u001b[38;5;124min_channels\u001b[39m\u001b[38;5;124m'\u001b[39m], out_channels\u001b[38;5;241m=\u001b[39mmodel_config[\u001b[38;5;124m'\u001b[39m\u001b[38;5;124mout_channels\u001b[39m\u001b[38;5;124m'\u001b[39m])\n\u001b[1;32m      3\u001b[0m model \u001b[38;5;241m=\u001b[39m model\u001b[38;5;241m.\u001b[39mto(DEVICE)\n\u001b[1;32m      5\u001b[0m \u001b[38;5;66;03m# fetch loss function as set in config\u001b[39;00m\n",
      "\u001b[0;31mNameError\u001b[0m: name 'model_name' is not defined"
     ]
    }
   ],
   "source": [
    "# Initializing the model, loss function, and the optimizer\n",
    "model_name = \"cnn_sppf\"\n",
    "model = get_model(model_name, in_channels=model_config['in_channels'], out_channels=model_config['out_channels'])\n",
    "model = model.to(training.DEVICE)\n",
    "\n",
    "# fetch loss function as set in config\n",
    "criterion = get_loss(train_config[\"loss_fn_name\"])\n",
    "\n",
    "## OR add your own loss fucntion like shown below\n",
    "# from model_suite.focal_loss import FocalLoss\n",
    "# num_classes = 3\n",
    "# alpha = [1.0, 1.2, 1.2]  # Example class weights\n",
    "# criterion = FocalLoss(gamma=2, alpha=alpha, task_type='multi-class', num_classes=num_classes)\n",
    "\n",
    "# initialized optimizer as required\n",
    "optimizer = optim.Adam(model.parameters(), lr=train_config[\"learning_rate\"])\n",
    "\n",
    "checkpoint_path = train_config[\"resume_checkpoint\"]\n",
    "if checkpoint_path is not None:\n",
    "    model.load_state_dict((torch.load(checkpoint_path, weights_only=True)))\n",
    "    print(\"Model checkpoint loaded.\")"
   ]
  },
  {
   "cell_type": "code",
   "execution_count": null,
   "id": "c0ab8b8c",
   "metadata": {},
   "outputs": [],
   "source": [
    "# train the model\n",
    "train_loop(model=model, loss_fn=criterion, optimizer=optimizer,\n",
    "           train_loader=train_loader, val_loader=val_loader,\n",
    "           num_epochs=train_config[\"num_epochs\"], save_path=config[\"results_loc\"],\n",
    "           checkpoint_freq=train_config[\"save_checkpoint_freq\"])"
   ]
  },
  {
   "cell_type": "code",
   "execution_count": null,
   "id": "c5a5c1ab",
   "metadata": {},
   "outputs": [],
   "source": [
    "# open saved learning curve\n",
    "plot_saved_path = \"experiment_results/train_log/learning_curve_2025-04-14_00-23-53.png\"\n",
    "img = load_image(plot_saved_path)\n",
    "plt.imshow(img)\n",
    "plt.axis(\"off\")\n",
    "plt.show()"
   ]
  },
  {
   "cell_type": "code",
   "execution_count": null,
   "id": "107e658d",
   "metadata": {},
   "outputs": [],
   "source": [
    "# Evaluate model performance at end of training using different losses\n",
    "train_metrics, train_cm = cal_classification_metrics(model, train_loader, num_classes=3)\n",
    "val_metrics, val_cm = cal_classification_metrics(model, val_loader, num_classes=3)"
   ]
  },
  {
   "cell_type": "code",
   "execution_count": null,
   "id": "c580f0c8",
   "metadata": {},
   "outputs": [],
   "source": [
    "stats = pd.DataFrame([train_metrics, val_metrics], index=[\"train\", \"val\"]).T\n",
    "display(stats)"
   ]
  },
  {
   "cell_type": "code",
   "execution_count": 27,
   "id": "fb5978c8",
   "metadata": {},
   "outputs": [
    {
     "ename": "NameError",
     "evalue": "name 'train_cm' is not defined",
     "output_type": "error",
     "traceback": [
      "\u001b[0;31m---------------------------------------------------------------------------\u001b[0m",
      "\u001b[0;31mNameError\u001b[0m                                 Traceback (most recent call last)",
      "Cell \u001b[0;32mIn[27], line 1\u001b[0m\n\u001b[0;32m----> 1\u001b[0m visualize_confusion_matrix(train_cm\u001b[38;5;241m=\u001b[39m\u001b[43mtrain_cm\u001b[49m, val_cm\u001b[38;5;241m=\u001b[39mval_cm, label_names\u001b[38;5;241m=\u001b[39m[\u001b[38;5;124m\"\u001b[39m\u001b[38;5;124mgood\u001b[39m\u001b[38;5;124m\"\u001b[39m, \u001b[38;5;124m\"\u001b[39m\u001b[38;5;124mslight\u001b[39m\u001b[38;5;124m\"\u001b[39m, \u001b[38;5;124m\"\u001b[39m\u001b[38;5;124msevere\u001b[39m\u001b[38;5;124m\"\u001b[39m])\n",
      "\u001b[0;31mNameError\u001b[0m: name 'train_cm' is not defined"
     ]
    }
   ],
   "source": [
    "visualize_confusion_matrix(train_cm=train_cm, val_cm=val_cm, label_names=[\"good\", \"slight\", \"severe\"])"
   ]
  },
  {
   "cell_type": "code",
   "execution_count": null,
   "id": "800dcbee",
   "metadata": {},
   "outputs": [],
   "source": []
  },
  {
   "cell_type": "code",
   "execution_count": null,
   "id": "01d1d02e",
   "metadata": {},
   "outputs": [],
   "source": [
    "csv_path = dataset_config[\"val\"][\"degradation_values_csv\"]\n",
    "dir_path = dataset_config[\"val\"][\"img_dir\"]\n",
    "df = pd.read_csv(csv_path)\n",
    "df.head(3)"
   ]
  },
  {
   "cell_type": "code",
   "execution_count": null,
   "id": "f752ae28",
   "metadata": {},
   "outputs": [],
   "source": [
    "# row = df.loc[df[\"degradation_target\"]==1].sample(1)\n",
    "row = df.sample(1)\n",
    "img_name, label = row[\"name\"].values[0], row[\"degradation_target\"].values[0]\n",
    "p = os.path.join(dir_path, img_name)\n",
    "if \".npy\" in p:\n",
    "    img = np.load(p)\n",
    "else:\n",
    "    img = load_image(p)"
   ]
  },
  {
   "cell_type": "code",
   "execution_count": null,
   "id": "355bbded",
   "metadata": {},
   "outputs": [],
   "source": [
    "# Generate saliency map\n",
    "print(\"target class\", label)\n",
    "saliency = generate_saliency_map(model, img, device=training.DEVICE)\n",
    "\n",
    "# Plot the saliency map\n",
    "fig, axes = plt.subplots(1, 2, figsize=(12, 12))\n",
    "axes[0].imshow(img[:, :, :3])\n",
    "axes[0].set_title('Original Image')\n",
    "axes[0].axis('off')\n",
    "\n",
    "# Plot the saliency map\n",
    "axes[1].imshow(saliency, cmap='hot')\n",
    "axes[1].set_title('Saliency Map')\n",
    "axes[1].axis('off')\n",
    "\n",
    "plt.tight_layout()\n",
    "plt.show()"
   ]
  },
  {
   "cell_type": "code",
   "execution_count": null,
   "id": "7b19a541",
   "metadata": {},
   "outputs": [],
   "source": []
  },
  {
   "cell_type": "markdown",
   "id": "2c65cd0a",
   "metadata": {},
   "source": [
    "# Inference"
   ]
  },
  {
   "cell_type": "code",
   "execution_count": null,
   "id": "0475d6ef",
   "metadata": {},
   "outputs": [],
   "source": [
    "saved_weight_path = \"experiment_results/checkpoints/cnn_sppf_final_2025-03-13_18-02-43.pth\"\n",
    "\n",
    "model_name = \"cnn_sppf\"\n",
    "model_config = {'in_channels': 3, 'out_dim': 1}\n",
    "\n",
    "# update preprocessing according to training\n",
    "resize_height, resize_width = 720, 1280\n",
    "\n",
    "# Define the image transformations\n",
    "img_transform = transforms.Compose([\n",
    "    transforms.ToPILImage(),\n",
    "    transforms.Resize((resize_height, resize_width)),   # ensure resize is same as used during training for loaded model \n",
    "    transforms.ToTensor()\n",
    "])\n",
    "\n",
    "DEVICE = torch.device('cuda' if torch.cuda.is_available() else 'cpu')\n",
    "print(f\"Using DEVICE: {DEVICE}\")\n",
    "\n",
    "# initialize and load saved model\n",
    "model = load_saved_model(model_name=model_name, saved_weight_path=saved_weight_path, **model_config)\n",
    "model = model.to(DEVICE)\n",
    "\n",
    "test_img_path = \"../damage_ratio_calc_data/segmented_objects/191_jpg.rf.e27c030e763e58ce48964e670158b6e7/191_jpg.rf.e27c030e763e58ce48964e670158b6e7_object_4.png\"\n",
    "test_img = load_image(test_img_path)\n",
    "print(\"Test image shape:\", test_img.shape)\n",
    "plt.imshow(test_img)\n",
    "plt.axis(\"off\")\n",
    "plt.title(\"Input image\", fontsize=9)\n",
    "plt.show()\n",
    "\n",
    "pred_val = pred_degradation_value(model=model, test_img=test_img, img_transform=None, add_batch_dim=True, device=DEVICE)\n",
    "print(\"Predicticted degradation value:\", pred_val)"
   ]
  }
 ],
 "metadata": {
  "kernelspec": {
   "display_name": "uofu_env",
   "language": "python",
   "name": "uofu_env"
  },
  "language_info": {
   "codemirror_mode": {
    "name": "ipython",
    "version": 3
   },
   "file_extension": ".py",
   "mimetype": "text/x-python",
   "name": "python",
   "nbconvert_exporter": "python",
   "pygments_lexer": "ipython3",
   "version": "3.10.12"
  }
 },
 "nbformat": 4,
 "nbformat_minor": 5
}

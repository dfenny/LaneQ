{
 "cells": [
  {
   "cell_type": "code",
   "execution_count": 1,
   "id": "d80eed7c",
   "metadata": {},
   "outputs": [
    {
     "data": {
      "text/html": [
       "<style>.container { width:98% !important; }</style>"
      ],
      "text/plain": [
       "<IPython.core.display.HTML object>"
      ]
     },
     "metadata": {},
     "output_type": "display_data"
    }
   ],
   "source": [
    "from IPython.display import display, HTML\n",
    "display(HTML(\"<style>.container { width:98% !important; }</style>\"))\n",
    "\n",
    "%load_ext autoreload\n",
    "%autoreload 2\n",
    "\n",
    "import os\n",
    "import numpy as np\n",
    "import pandas as pd\n",
    "import matplotlib.pyplot as plt"
   ]
  },
  {
   "cell_type": "code",
   "execution_count": 2,
   "id": "51e20fa7",
   "metadata": {},
   "outputs": [],
   "source": [
    "import json\n",
    "from pprint import pprint\n",
    "\n",
    "import torch\n",
    "import torch.nn as nn\n",
    "import torch.optim as optim\n",
    "from torchvision import transforms\n",
    "\n",
    "import training\n",
    "from training import load_config, generate_dataloader, get_model, train_loop, cal_MeanIoU_score\n",
    "from utils.preprocessing import load_image"
   ]
  },
  {
   "cell_type": "code",
   "execution_count": null,
   "id": "147a1c0d",
   "metadata": {},
   "outputs": [],
   "source": []
  },
  {
   "cell_type": "markdown",
   "id": "d61a78ba",
   "metadata": {},
   "source": [
    "# Training"
   ]
  },
  {
   "cell_type": "code",
   "execution_count": 3,
   "id": "a68c5126",
   "metadata": {},
   "outputs": [
    {
     "name": "stdout",
     "output_type": "stream",
     "text": [
      "{'dataset_loc': {'train': {'img_dir': 'data/archive/train/images',\n",
      "                           'mask_dir': 'data/archive/train/masks'},\n",
      "                 'val': {'img_dir': 'data/archive/valid/images',\n",
      "                         'mask_dir': 'data/archive/valid/masks'}},\n",
      " 'dataset_preprocessing': {'RGB_labelmap': 'configs/kaggle_road_seg.json',\n",
      "                           'RGB_mask': True,\n",
      "                           'num_classes': 2,\n",
      "                           'one_hot_mask': False,\n",
      "                           'resize_height': 720,\n",
      "                           'resize_width': 1280},\n",
      " 'enable_cuda': True,\n",
      " 'model': {'in_channels': 3, 'out_channels': 1},\n",
      " 'results_loc': 'experiment_results/',\n",
      " 'training': {'batch_size': 1,\n",
      "              'learning_rate': 0.1,\n",
      "              'num_epochs': 2,\n",
      "              'num_workers': 2,\n",
      "              'resume_checkpoint': None,\n",
      "              'save_checkpoint_freq': 5}}\n"
     ]
    }
   ],
   "source": [
    "config_path = \"./configs/unet.yaml\"\n",
    "config = load_config(config_path)\n",
    "pprint(config,)"
   ]
  },
  {
   "cell_type": "code",
   "execution_count": 4,
   "id": "87409566",
   "metadata": {},
   "outputs": [],
   "source": [
    "# copy paste config here to edit and experiment\n",
    "config = {'dataset_loc': {'train': {'img_dir': 'data/archive/train/images',\n",
    "                           'mask_dir': 'data/archive/train/masks'},\n",
    "                 'val': {'img_dir': 'data/archive/valid/images',\n",
    "                         'mask_dir': 'data/archive/valid/masks'}},\n",
    "          \n",
    " 'dataset_preprocessing': {'RGB_labelmap': 'configs/kaggle_road_seg.json',\n",
    "                           'RGB_mask': True,\n",
    "                           'num_classes': 2,\n",
    "                           'one_hot_mask': False,\n",
    "                           'resize_height': 720,\n",
    "                           'resize_width': 1280},\n",
    "          \n",
    " 'enable_cuda': True,\n",
    "          \n",
    " 'model': {'in_channels': 3, 'out_channels': 1},\n",
    "          \n",
    " 'results_loc': 'experiment_results/',\n",
    "          \n",
    " 'training': {'batch_size': 1,\n",
    "              'learning_rate': 0.1,\n",
    "              'num_epochs': 2,\n",
    "              'num_workers': 2,\n",
    "              'resume_checkpoint': None,\n",
    "              'save_checkpoint_freq': 5}}"
   ]
  },
  {
   "cell_type": "code",
   "execution_count": 5,
   "id": "7a2fc5e4",
   "metadata": {},
   "outputs": [],
   "source": [
    "# get required config parameters\n",
    "model_config = config[\"model\"]\n",
    "train_config = config[\"training\"]\n",
    "dataset_config = config[\"dataset_loc\"]\n",
    "preprocess_config = config[\"dataset_preprocessing\"]"
   ]
  },
  {
   "cell_type": "code",
   "execution_count": 6,
   "id": "37c2b6db",
   "metadata": {},
   "outputs": [
    {
     "name": "stdout",
     "output_type": "stream",
     "text": [
      "Using DEVICE: cuda\n"
     ]
    }
   ],
   "source": [
    "if config[\"enable_cuda\"]:\n",
    "    training.DEVICE = torch.device('cuda' if torch.cuda.is_available() else 'cpu')\n",
    "    print(f\"Using DEVICE: {training.DEVICE}\")"
   ]
  },
  {
   "cell_type": "code",
   "execution_count": 7,
   "id": "804ecbdf",
   "metadata": {},
   "outputs": [
    {
     "name": "stdout",
     "output_type": "stream",
     "text": [
      "Train Dataset loaded. #samples: 5\n",
      "Validation Dataset loaded. #samples: 5\n"
     ]
    }
   ],
   "source": [
    "# update preprocessing config if required\n",
    "resize_height, resize_width = preprocess_config[\"resize_height\"], preprocess_config[\"resize_height\"]\n",
    "\n",
    "# in case one wants to try out different transformations\n",
    "img_transform = transforms.Compose([\n",
    "    transforms.ToPILImage(),\n",
    "    transforms.Resize((resize_height, resize_width)),   # ensure resize same is used for mask by setting preprocess_config\n",
    "    transforms.ToTensor()\n",
    "])\n",
    "\n",
    "# generate train data loader\n",
    "train_loader, train_size = generate_dataloader(image_dir=dataset_config[\"train\"][\"img_dir\"],\n",
    "                                               mask_dir=dataset_config[\"train\"][\"mask_dir\"],\n",
    "                                               preprocess_config=preprocess_config,\n",
    "                                               batch_size=train_config[\"batch_size\"],\n",
    "                                               num_workers=train_config[\"num_workers\"], img_transform=None)   # send new transform here if required\n",
    "\n",
    "# generate validation data loader\n",
    "val_loader, val_size = generate_dataloader(image_dir=dataset_config[\"train\"][\"img_dir\"],\n",
    "                                           mask_dir=dataset_config[\"train\"][\"mask_dir\"],\n",
    "                                           preprocess_config=preprocess_config,\n",
    "                                           batch_size=train_config[\"batch_size\"],\n",
    "                                           num_workers=train_config[\"num_workers\"], img_transform=None)\n",
    "\n",
    "print(f\"Train Dataset loaded. #samples: {train_size}\")\n",
    "print(f\"Validation Dataset loaded. #samples: {val_size}\")"
   ]
  },
  {
   "cell_type": "code",
   "execution_count": 8,
   "id": "8e5d932a",
   "metadata": {},
   "outputs": [],
   "source": [
    "# Initializing the model, loss function, and the optimizer\n",
    "model_name = \"unet\"\n",
    "model = get_model(model_name, in_channels=model_config['in_channels'], out_channels=model_config['out_channels'])\n",
    "model = model.to(training.DEVICE)\n",
    "\n",
    "criterion = nn.BCEWithLogitsLoss()\n",
    "optimizer = optim.Adam(model.parameters(), lr=train_config[\"learning_rate\"])\n",
    "\n",
    "checkpoint_path = train_config[\"resume_checkpoint\"]\n",
    "if checkpoint_path is not None:\n",
    "    model.load_state_dict((torch.load(checkpoint_path, weights_only=True)))"
   ]
  },
  {
   "cell_type": "code",
   "execution_count": 9,
   "id": "9d2965e2",
   "metadata": {},
   "outputs": [
    {
     "name": "stdout",
     "output_type": "stream",
     "text": [
      "Training Started...\n",
      "Epoch [1/2], Train Loss: 0.2316, Val Loss: 1469655.5750, Epoch execution time: -5.03 sec\n",
      "Epoch [2/2], Train Loss: 0.0299, Val Loss: 2303.2871, Epoch execution time: 13.17 sec\n",
      "   Learning curve saved to experiment_results/train_log/learning_curve_2025-02-28_16-14-09.png\n",
      "   Learning history saved to experiment_results/train_log/learning_history_2025-02-28_16-14-09.json\n",
      "Training Completed! Total time: 0.0 min\n"
     ]
    }
   ],
   "source": [
    "# train the model\n",
    "train_loop(model=model, loss_fn=criterion, optimizer=optimizer,\n",
    "           train_loader=train_loader, val_loader=val_loader,\n",
    "           num_epochs=train_config[\"num_epochs\"], save_path=config[\"results_loc\"],\n",
    "           checkpoint_freq=train_config[\"save_checkpoint_freq\"])"
   ]
  },
  {
   "cell_type": "code",
   "execution_count": 10,
   "id": "0197a7b4",
   "metadata": {},
   "outputs": [
    {
     "data": {
      "image/png": "[encoded data removed]",
      "text/plain": [
       "<Figure size 640x480 with 1 Axes>"
      ]
     },
     "metadata": {},
     "output_type": "display_data"
    }
   ],
   "source": [
    "# open saved learning curve\n",
    "plot_saved_path = \"experiment_results/train_log/learning_curve_2025-02-28_14-37-53.png\"\n",
    "img = load_image(plot_saved_path)\n",
    "plt.imshow(img)\n",
    "plt.axis(\"off\")\n",
    "plt.show()"
   ]
  },
  {
   "cell_type": "code",
   "execution_count": 11,
   "id": "ccb303f8",
   "metadata": {},
   "outputs": [],
   "source": [
    "# # open saved json history if required\n",
    "# history_saved_path = \"experiment_results/train_log/learning_history_2025-02-28_14-37-53.json\"\n",
    "# with open(history_saved_path, 'r') as json_file:\n",
    "#     saved_history = json.load(json_file)\n",
    "# # saved_history"
   ]
  },
  {
   "cell_type": "code",
   "execution_count": 12,
   "id": "0eaa6076",
   "metadata": {},
   "outputs": [
    {
     "name": "stdout",
     "output_type": "stream",
     "text": [
      "Calculating Mean IoU Score (per class) ...\n",
      "Train mIoU Score: [0. 0.]\n",
      "Val mIoU Score: [0. 0.]\n"
     ]
    }
   ],
   "source": [
    "# Evaluate model performance at end of training using mIoU\n",
    "print(\"Calculating Mean IoU Score (per class) ...\")\n",
    "train_mIoU = cal_MeanIoU_score(model=model, data_loader=train_loader, num_classes=preprocess_config[\"num_classes\"])\n",
    "val_mIoU = cal_MeanIoU_score(model=model, data_loader=train_loader, num_classes=preprocess_config[\"num_classes\"])\n",
    "print(\"Train mIoU Score:\", train_mIoU)\n",
    "print(\"Val mIoU Score:\", val_mIoU)"
   ]
  },
  {
   "cell_type": "code",
   "execution_count": null,
   "id": "8c313a30",
   "metadata": {},
   "outputs": [],
   "source": []
  },
  {
   "cell_type": "code",
   "execution_count": null,
   "id": "c016a2b1",
   "metadata": {},
   "outputs": [],
   "source": []
  },
  {
   "cell_type": "code",
   "execution_count": null,
   "id": "7a2d6032",
   "metadata": {},
   "outputs": [],
   "source": []
  },
  {
   "cell_type": "code",
   "execution_count": null,
   "id": "252f2a6e",
   "metadata": {},
   "outputs": [],
   "source": []
  }
 ],
 "metadata": {
  "kernelspec": {
   "display_name": "uofu_env",
   "language": "python",
   "name": "uofu_env"
  },
  "language_info": {
   "codemirror_mode": {
    "name": "ipython",
    "version": 3
   },
   "file_extension": ".py",
   "mimetype": "text/x-python",
   "name": "python",
   "nbconvert_exporter": "python",
   "pygments_lexer": "ipython3",
   "version": "3.10.12"
  }
 },
 "nbformat": 4,
 "nbformat_minor": 5
}

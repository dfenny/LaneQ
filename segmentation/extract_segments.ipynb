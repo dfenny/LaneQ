{
 "cells": [
  {
   "cell_type": "code",
   "execution_count": 35,
   "metadata": {},
   "outputs": [],
   "source": [
    "# Import necessary libraries\n",
    "import os\n",
    "import cv2\n",
    "import numpy as np\n",
    "from pycocotools.coco import COCO\n",
    "from scipy.ndimage import zoom"
   ]
  },
  {
   "cell_type": "code",
   "execution_count": 36,
   "metadata": {},
   "outputs": [
    {
     "name": "stdout",
     "output_type": "stream",
     "text": [
      "loading annotations into memory...\n",
      "Done (t=0.02s)\n",
      "creating index...\n",
      "index created!\n",
      "Image IDs are: [1, 2, 3]\n"
     ]
    }
   ],
   "source": [
    "# Load COCO annotations (Assuking we have COCO type annotations in a JSON file)\n",
    "coco = COCO(\"../damage_ratio_calc_data/COCO annotations/instances_default.json\")\n",
    "image_ids = coco.getImgIds()\n",
    "print(f\"Image IDs are: {image_ids}\")"
   ]
  },
  {
   "cell_type": "code",
   "execution_count": 37,
   "metadata": {},
   "outputs": [],
   "source": [
    "# Output directory stuff\n",
    "output_dir = \"../damage_ratio_calc_data/segmented_objects\"\n",
    "os.makedirs(output_dir, exist_ok=True)"
   ]
  },
  {
   "cell_type": "code",
   "execution_count": 49,
   "metadata": {},
   "outputs": [
    {
     "name": "stdout",
     "output_type": "stream",
     "text": [
      "Processed: 183_jpg.rf.c3a79aad316f75fe23536c3bbbd6da51\n",
      "Processed: 184_jpg.rf.9edad8ca8d25dc9949b48968cca6e41c\n",
      "Processed: 191_jpg.rf.e27c030e763e58ce48964e670158b6e7\n"
     ]
    }
   ],
   "source": [
    "for image_id in image_ids:\n",
    "    # Load image information\n",
    "    image_info = coco.loadImgs(image_id)[0]\n",
    "    image = cv2.imread(f\"../damage_ratio_calc_data/damage_ratio_images/{image_info[\"file_name\"]}\")  # Read the image\n",
    "\n",
    "    # Check if the image is loaded properly\n",
    "    if image is None:\n",
    "        print(f\"Error: Unable to load image {image_info['file_name']}\")\n",
    "        continue\n",
    "\n",
    "    image_name = os.path.splitext(os.path.basename(image_info[\"file_name\"]))[0]  # Get name without extension\n",
    "\n",
    "    # Create folder for this image\n",
    "    image_folder = os.path.join(output_dir, image_name)\n",
    "    os.makedirs(image_folder, exist_ok=True)\n",
    "\n",
    "    # Get annotations for this image\n",
    "    ann_ids = coco.getAnnIds(imgIds=image_id)\n",
    "    anns = coco.loadAnns(ann_ids)\n",
    "\n",
    "    for idx, ann in enumerate(anns):\n",
    "        # Generate the segmentation mask for the current annotation\n",
    "        mask = coco.annToMask(ann)\n",
    "\n",
    "        # Check if the mask is valid\n",
    "        if mask is None or mask.sum() == 0:\n",
    "            print(f\"Warning: Invalid or empty mask for annotation {ann['id']} in image {image_name}\")\n",
    "            continue\n",
    "\n",
    "        bbox = ann['bbox']  # [x, y, width, height]\n",
    "        x_min, y_min, width, height = bbox\n",
    "        buffer = 10.0\n",
    "        # print(bbox)\n",
    "        # print(int(y_min - buffer),int(y_min + height + buffer), int(x_min - buffer), int(x_min + width + buffer))\n",
    "\n",
    "        # Create a mask that includes only the segmented area\n",
    "        mask_region = mask[int(y_min - buffer):int(y_min + height + buffer), int(x_min - buffer):int(x_min + width + buffer)]\n",
    "\n",
    "        # Create a new black image which is the same size as the bbox for the segmented object\n",
    "        # object_img = np.zeros_like(image, dtype=np.uint8)\n",
    "        # print(object_img.shape)\n",
    "        cropped_image = image[int(y_min - buffer):int(y_min + height + buffer), int(x_min - buffer):int(x_min + width + buffer)]\n",
    "        object_img = np.zeros_like(cropped_image, dtype=np.uint8)\n",
    "        # print(object_img.shape)\n",
    "\n",
    "        # Get the region of interest from the original image\n",
    "        image_region = image[int(y_min - buffer):int(y_min + height + buffer), int(x_min - buffer):int(x_min + width + buffer)]\n",
    "\n",
    "        # Place the segmented object on the black background using the mask\n",
    "        # object_img[int(y_min - buffer):int(y_min + height + buffer), int(x_min - buffer):int(x_min + width + buffer)][mask_region > 0] = image_region[mask_region > 0]\n",
    "        object_img[mask_region > 0] = image_region[mask_region > 0]\n",
    "\n",
    "        # Save the extracted object as a separate PNG image\n",
    "        object_path = os.path.join(image_folder, f\"{image_name}_object_{idx}.png\")\n",
    "        cv2.imwrite(object_path, object_img)\n",
    "\n",
    "    print(f\"Processed: {image_name}\")"
   ]
  }
 ],
 "metadata": {
  "kernelspec": {
   "display_name": "retro",
   "language": "python",
   "name": "python3"
  },
  "language_info": {
   "codemirror_mode": {
    "name": "ipython",
    "version": 3
   },
   "file_extension": ".py",
   "mimetype": "text/x-python",
   "name": "python",
   "nbconvert_exporter": "python",
   "pygments_lexer": "ipython3",
   "version": "3.12.7"
  }
 },
 "nbformat": 4,
 "nbformat_minor": 2
}

{
 "cells": [
  {
   "cell_type": "code",
   "execution_count": 1,
   "id": "7159a734",
   "metadata": {},
   "outputs": [
    {
     "data": {
      "text/html": [
       "<style>.container { width:98% !important; }</style>"
      ],
      "text/plain": [
       "<IPython.core.display.HTML object>"
      ]
     },
     "metadata": {},
     "output_type": "display_data"
    }
   ],
   "source": [
    "from IPython.display import display, HTML, clear_output\n",
    "display(HTML(\"<style>.container { width:98% !important; }</style>\"))\n",
    "\n",
    "# Additional code so that the notebook will reload external python modules;\n",
    "# see http://stackoverflow.com/questions/1907993/autoreload-of-modules-in-ipython\n",
    "%load_ext autoreload\n",
    "%autoreload 2\n",
    "\n",
    "import os\n",
    "import json\n",
    "import numpy as np\n",
    "import matplotlib.pyplot as plt\n",
    "import pandas as pd\n",
    "\n",
    "import cv2\n",
    "\n",
    "from ui_utils import RegDataFilterUI\n",
    "import degradation_utils as hp\n",
    "from ipywidgets import widgets, Layout, HBox, VBox"
   ]
  },
  {
   "cell_type": "code",
   "execution_count": null,
   "id": "f1cc2b28",
   "metadata": {},
   "outputs": [],
   "source": []
  },
  {
   "cell_type": "code",
   "execution_count": 2,
   "id": "cd29706c",
   "metadata": {},
   "outputs": [],
   "source": [
    "# path for image and mask\n",
    "img_dir = \"../segmentation/data/bdd100k/images/val/\"\n",
    "mask_dir = \"../segmentation/data/bdd100k/generated_masks_v0_1/val/\"\n",
    "\n",
    "annotations_dir = \"../regression/data/bdd100k/annotations/val/\"\n",
    "output_dir = \"./output/filtered_annotations/val/\"\n",
    "\n",
    "reg_ui = RegDataFilterUI(img_dir=img_dir, mask_dir=mask_dir, annot_dir=annotations_dir, output_dir=output_dir)"
   ]
  },
  {
   "cell_type": "code",
   "execution_count": 3,
   "id": "235f5fc5",
   "metadata": {
    "scrolled": false
   },
   "outputs": [
    {
     "data": {
      "application/vnd.jupyter.widget-view+json": {
       "model_id": "e23e59cad89f4420867d5277f8cbe232",
       "version_major": 2,
       "version_minor": 0
      },
      "text/plain": [
       "VBox(children=(HBox(children=(Output(layout=Layout(flex='2', margin='0', padding='0')), Output(layout=Layout(f…"
      ]
     },
     "metadata": {},
     "output_type": "display_data"
    }
   ],
   "source": [
    "reg_ui.display_UI()"
   ]
  },
  {
   "cell_type": "code",
   "execution_count": null,
   "id": "7516225f",
   "metadata": {},
   "outputs": [],
   "source": []
  },
  {
   "cell_type": "code",
   "execution_count": null,
   "id": "40bf070b",
   "metadata": {},
   "outputs": [],
   "source": []
  },
  {
   "cell_type": "code",
   "execution_count": null,
   "id": "39260d43",
   "metadata": {},
   "outputs": [],
   "source": []
  }
 ],
 "metadata": {
  "kernelspec": {
   "display_name": "uofu_env",
   "language": "python",
   "name": "uofu_env"
  },
  "language_info": {
   "codemirror_mode": {
    "name": "ipython",
    "version": 3
   },
   "file_extension": ".py",
   "mimetype": "text/x-python",
   "name": "python",
   "nbconvert_exporter": "python",
   "pygments_lexer": "ipython3",
   "version": "3.10.12"
  }
 },
 "nbformat": 4,
 "nbformat_minor": 5
}

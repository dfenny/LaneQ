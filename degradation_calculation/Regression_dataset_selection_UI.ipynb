{
 "cells": [
  {
   "cell_type": "code",
   "execution_count": 1,
   "id": "7159a734",
   "metadata": {},
   "outputs": [
    {
     "data": {
      "text/html": [
       "<style>.container { width:98% !important; }</style>"
      ],
      "text/plain": [
       "<IPython.core.display.HTML object>"
      ]
     },
     "metadata": {},
     "output_type": "display_data"
    }
   ],
   "source": [
    "from IPython.display import display, HTML, clear_output\n",
    "display(HTML(\"<style>.container { width:98% !important; }</style>\"))\n",
    "\n",
    "# Additional code so that the notebook will reload external python modules;\n",
    "# see http://stackoverflow.com/questions/1907993/autoreload-of-modules-in-ipython\n",
    "%load_ext autoreload\n",
    "%autoreload 2\n",
    "\n",
    "import os\n",
    "import json\n",
    "import numpy as np\n",
    "import matplotlib.pyplot as plt\n",
    "import pandas as pd\n",
    "\n",
    "import cv2\n",
    "\n",
    "from ui_utils import RegDataFilterUI\n",
    "import degradation_utils as hp\n",
    "from ipywidgets import widgets, Layout, HBox, VBox"
   ]
  },
  {
   "cell_type": "code",
   "execution_count": null,
   "id": "f1cc2b28",
   "metadata": {},
   "outputs": [],
   "source": []
  },
  {
   "cell_type": "code",
   "execution_count": 2,
   "id": "cd29706c",
   "metadata": {},
   "outputs": [],
   "source": [
    "# path for image and mask\n",
    "# img_dir = \"../segmentation/data/bdd100k/images/val/\"\n",
    "# mask_dir = \"../segmentation/data/bdd100k/generated_masks_v0_1/val/\"\n",
    "\n",
    "# annotations_dir = \"../regression/data/bdd100k/annotations/val/\"\n",
    "# output_dir = \"./output/filtered_annotations/val/\"\n",
    "\n",
    "d_type = \"train\"\n",
    "img_dir = f\"/cs6945share/retro_project/bdd100k/images/{d_type}/\"\n",
    "mask_dir = f\"/cs6945share/retro_project/bdd100k/generated_masks_v0_3/masks_v3/{d_type}/\"\n",
    "\n",
    "annotations_dir = f\"/cs6945share/retro_project/regression_bdd100k/annotations/{d_type}/\"\n",
    "output_dir = f\"./output/filtered_annotations/{d_type}/\"\n",
    "\n",
    "reg_ui = RegDataFilterUI(img_dir=img_dir, mask_dir=mask_dir, annot_dir=annotations_dir, output_dir=output_dir)"
   ]
  },
  {
   "cell_type": "code",
   "execution_count": 3,
   "id": "235f5fc5",
   "metadata": {},
   "outputs": [
    {
     "data": {
      "application/vnd.jupyter.widget-view+json": {
       "model_id": "9e58faa7f025464a8d63167549d2508d",
       "version_major": 2,
       "version_minor": 0
      },
      "text/plain": [
       "VBox(children=(HBox(children=(Output(layout=Layout(flex='2', margin='0', padding='0'), outputs=({'output_type'…"
      ]
     },
     "metadata": {},
     "output_type": "display_data"
    }
   ],
   "source": [
    "reg_ui.display_UI()"
   ]
  },
  {
   "cell_type": "code",
   "execution_count": null,
   "id": "39260d43",
   "metadata": {},
   "outputs": [],
   "source": []
  },
  {
   "cell_type": "code",
   "execution_count": null,
   "id": "40f05c94-73c8-4c59-885f-b40d8218cb73",
   "metadata": {},
   "outputs": [],
   "source": []
  },
  {
   "cell_type": "code",
   "execution_count": null,
   "id": "e3017826-8283-4689-ad6f-4c27f63434ae",
   "metadata": {},
   "outputs": [],
   "source": [
    "# 40c3d445-a5194bdd.jpg"
   ]
  }
 ],
 "metadata": {
  "kernelspec": {
   "display_name": "Python 3 (ipykernel)",
   "language": "python",
   "name": "python3"
  },
  "language_info": {
   "codemirror_mode": {
    "name": "ipython",
    "version": 3
   },
   "file_extension": ".py",
   "mimetype": "text/x-python",
   "name": "python",
   "nbconvert_exporter": "python",
   "pygments_lexer": "ipython3",
   "version": "3.10.12"
  }
 },
 "nbformat": 4,
 "nbformat_minor": 5
}
